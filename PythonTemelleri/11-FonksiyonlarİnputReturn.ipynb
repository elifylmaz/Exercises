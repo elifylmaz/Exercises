{
 "cells": [
  {
   "cell_type": "code",
   "execution_count": 3,
   "id": "c72b9d3c-30d6-457d-8707-6632abe13bf8",
   "metadata": {},
   "outputs": [],
   "source": [
    "benimAdım = \"Elif Yılmaz\""
   ]
  },
  {
   "cell_type": "code",
   "execution_count": 7,
   "id": "2f6056e3-29ba-4e15-a280-4846e79ed7ee",
   "metadata": {},
   "outputs": [
    {
     "data": {
      "text/plain": [
       "<function str.upper()>"
      ]
     },
     "execution_count": 7,
     "metadata": {},
     "output_type": "execute_result"
    }
   ],
   "source": [
    "benimAdım.upper #çalıştırmak için yanına parantez koymalısın."
   ]
  },
  {
   "cell_type": "code",
   "execution_count": 9,
   "id": "dc0bf749-f882-413e-94b0-9bd6b8f8099c",
   "metadata": {},
   "outputs": [
    {
     "data": {
      "text/plain": [
       "'ELIF YILMAZ'"
      ]
     },
     "execution_count": 9,
     "metadata": {},
     "output_type": "execute_result"
    }
   ],
   "source": [
    "benimAdım.upper()"
   ]
  },
  {
   "cell_type": "code",
   "execution_count": 11,
   "id": "7623e7c3-c15f-4991-9e5d-9079cddd2ca1",
   "metadata": {},
   "outputs": [
    {
     "data": {
      "text/plain": [
       "'Elif Yılmaz'"
      ]
     },
     "execution_count": 11,
     "metadata": {},
     "output_type": "execute_result"
    }
   ],
   "source": [
    " benimAdım #değişkenin orj halini değiştirmiyor."
   ]
  },
  {
   "cell_type": "code",
   "execution_count": 13,
   "id": "79d6f2b3-cb0e-4aa4-856b-9ac03d55da45",
   "metadata": {},
   "outputs": [],
   "source": [
    "adim = benimAdım.upper()"
   ]
  },
  {
   "cell_type": "code",
   "execution_count": 15,
   "id": "24d25565-b757-4f99-98f7-43293e6795e6",
   "metadata": {},
   "outputs": [
    {
     "data": {
      "text/plain": [
       "'ELIF YILMAZ'"
      ]
     },
     "execution_count": 15,
     "metadata": {},
     "output_type": "execute_result"
    }
   ],
   "source": [
    "adim # yaptığımız işlemi sakladık"
   ]
  },
  {
   "cell_type": "code",
   "execution_count": 17,
   "id": "81b1987e-9f84-4dba-a9c2-e2f9fcd041fd",
   "metadata": {},
   "outputs": [
    {
     "name": "stdout",
     "output_type": "stream",
     "text": [
      "Help on built-in function upper:\n",
      "\n",
      "upper() method of builtins.str instance\n",
      "    Return a copy of the string converted to uppercase.\n",
      "\n"
     ]
    }
   ],
   "source": [
    "help(benimAdım.upper)"
   ]
  },
  {
   "cell_type": "code",
   "execution_count": 23,
   "id": "d67fd9f6-8bb4-4e92-a726-20a4582c4e5a",
   "metadata": {},
   "outputs": [],
   "source": [
    "#Fonksiyon yazmak için def kullanılır.\n",
    "def ilkFonksiyon():\n",
    "    print(\"ilk fonksiyonum\")"
   ]
  },
  {
   "cell_type": "code",
   "execution_count": 25,
   "id": "70b6efbc-45e9-4240-8de3-729b2d059d5c",
   "metadata": {},
   "outputs": [
    {
     "name": "stdout",
     "output_type": "stream",
     "text": [
      "ilk fonksiyonum\n"
     ]
    }
   ],
   "source": [
    "ilkFonksiyon() #fonksiyonu çağırdık, istediğiniz kadar çağırabilirsiniz, istediğiniz yerde"
   ]
  },
  {
   "cell_type": "markdown",
   "id": "bd93c000-0c9b-4309-b48f-cb5aaa4b8022",
   "metadata": {},
   "source": [
    "## İNPUT & RETURN \n",
    "GİRDİ ÇIKTI İŞLEMLERİ"
   ]
  },
  {
   "cell_type": "code",
   "execution_count": 45,
   "id": "e8756bcd-3c78-4643-af3a-54a3f90973e7",
   "metadata": {},
   "outputs": [],
   "source": [
    "def merhabaDünya(isim):\n",
    "    print(f\" Merhaba {isim}\")"
   ]
  },
  {
   "cell_type": "code",
   "execution_count": 47,
   "id": "473b9d09-15e0-432e-b320-f19b922ca83f",
   "metadata": {},
   "outputs": [
    {
     "name": "stdout",
     "output_type": "stream",
     "text": [
      " Merhaba Atıl\n"
     ]
    }
   ],
   "source": [
    "merhabaDünya(\"Atıl\")"
   ]
  },
  {
   "cell_type": "code",
   "execution_count": 49,
   "id": "a9a8636d-4e60-480a-af49-a87416d67ea9",
   "metadata": {},
   "outputs": [
    {
     "name": "stdout",
     "output_type": "stream",
     "text": [
      " Merhaba Elif\n"
     ]
    }
   ],
   "source": [
    "merhabaDünya(\"Elif\")"
   ]
  },
  {
   "cell_type": "code",
   "execution_count": 51,
   "id": "0072d8b7-337c-4cde-9023-9134005815f4",
   "metadata": {},
   "outputs": [],
   "source": [
    "def merhaba (isim = \"Atıl\"): #Bunun anlamı isime bir değer verilmez ise Atıl yazdıracak\n",
    "    print(f\"merhaba {isim} \") "
   ]
  },
  {
   "cell_type": "code",
   "execution_count": 53,
   "id": "c1f35fd9-dd5a-4012-85e2-ecb151267204",
   "metadata": {},
   "outputs": [
    {
     "name": "stdout",
     "output_type": "stream",
     "text": [
      "merhaba Atıl \n"
     ]
    }
   ],
   "source": [
    "merhaba()"
   ]
  },
  {
   "cell_type": "code",
   "execution_count": 55,
   "id": "97669d38-340f-42a9-a467-f9372d8af1f6",
   "metadata": {},
   "outputs": [
    {
     "name": "stdout",
     "output_type": "stream",
     "text": [
      "merhaba Python \n"
     ]
    }
   ],
   "source": [
    "merhaba(\"Python\")"
   ]
  },
  {
   "cell_type": "code",
   "execution_count": 57,
   "id": "978b1798-a962-4932-8b52-3ad30f4a02a7",
   "metadata": {},
   "outputs": [
    {
     "name": "stdout",
     "output_type": "stream",
     "text": [
      "merhaba 3 \n"
     ]
    }
   ],
   "source": [
    "merhaba(3)"
   ]
  },
  {
   "cell_type": "code",
   "execution_count": 71,
   "id": "83a92272-0534-4245-aa3f-1c565d4e1540",
   "metadata": {},
   "outputs": [],
   "source": [
    "def toplama (num1,num2):\n",
    "    sonuc = num1 + num2\n",
    "    print(sonuc)"
   ]
  },
  {
   "cell_type": "code",
   "execution_count": 75,
   "id": "d7175928-44d4-4126-9d2f-cbdb1842e774",
   "metadata": {},
   "outputs": [
    {
     "name": "stdout",
     "output_type": "stream",
     "text": [
      "910\n"
     ]
    }
   ],
   "source": [
    "toplama(1122,-212)"
   ]
  },
  {
   "cell_type": "code",
   "execution_count": 77,
   "id": "a1878362-ebc7-4798-81c6-c8777deb7a29",
   "metadata": {},
   "outputs": [
    {
     "name": "stdout",
     "output_type": "stream",
     "text": [
      "30\n"
     ]
    }
   ],
   "source": [
    "yeniDegisken = toplama(10,20)"
   ]
  },
  {
   "cell_type": "code",
   "execution_count": 79,
   "id": "5439cffe-65cd-4329-bda9-39ddd4c012b1",
   "metadata": {},
   "outputs": [
    {
     "name": "stdout",
     "output_type": "stream",
     "text": [
      "None\n"
     ]
    }
   ],
   "source": [
    "print(yeniDegisken)"
   ]
  },
  {
   "cell_type": "code",
   "execution_count": 81,
   "id": "d29d663f-7903-4125-a9f0-5d4c71099f62",
   "metadata": {},
   "outputs": [
    {
     "data": {
      "text/plain": [
       "NoneType"
      ]
     },
     "execution_count": 81,
     "metadata": {},
     "output_type": "execute_result"
    }
   ],
   "source": [
    "type(yeniDegisken)  ##neden None?? çünkü return None"
   ]
  },
  {
   "cell_type": "code",
   "execution_count": 83,
   "id": "364e2b81-d26e-4671-8ab6-311807fe4823",
   "metadata": {},
   "outputs": [],
   "source": [
    "def dondurmelitoplama(num1,num2):\n",
    "    return num1+ num2   #burada sonucu return ile döndürüyor type int "
   ]
  },
  {
   "cell_type": "code",
   "execution_count": 85,
   "id": "ca5991c7-d8c7-4a23-ac13-2a031f42ba3b",
   "metadata": {},
   "outputs": [],
   "source": [
    "yeniSonuc = dondurmelitoplama(10,20)"
   ]
  },
  {
   "cell_type": "code",
   "execution_count": 89,
   "id": "530ea50d-71b9-485d-be85-02f22e972c8c",
   "metadata": {},
   "outputs": [
    {
     "data": {
      "text/plain": [
       "int"
      ]
     },
     "execution_count": 89,
     "metadata": {},
     "output_type": "execute_result"
    }
   ],
   "source": [
    "type(yeniSonuc)"
   ]
  },
  {
   "cell_type": "code",
   "execution_count": 91,
   "id": "cfaf657b-aeab-430a-b589-a23134bd87f0",
   "metadata": {},
   "outputs": [
    {
     "data": {
      "text/plain": [
       "30"
      ]
     },
     "execution_count": 91,
     "metadata": {},
     "output_type": "execute_result"
    }
   ],
   "source": [
    "yeniSonuc"
   ]
  },
  {
   "cell_type": "code",
   "execution_count": 93,
   "id": "a173b76d-515a-43d5-8458-774e66cd075a",
   "metadata": {},
   "outputs": [],
   "source": [
    "def kontrolFonksiyon(s):\n",
    "    if s == \"atıl\":\n",
    "        print(\"atıl\")\n",
    "    else:\n",
    "        print(\"atıl değil\")"
   ]
  },
  {
   "cell_type": "code",
   "execution_count": 95,
   "id": "1255fe61-0c7d-4ac1-96cb-d0ba37f9166a",
   "metadata": {},
   "outputs": [
    {
     "name": "stdout",
     "output_type": "stream",
     "text": [
      "atıl\n"
     ]
    }
   ],
   "source": [
    "kontrolFonksiyon(\"atıl\")"
   ]
  },
  {
   "cell_type": "code",
   "execution_count": 97,
   "id": "0b1c2242-08bf-4fda-b453-e92c7cb62478",
   "metadata": {},
   "outputs": [
    {
     "name": "stdout",
     "output_type": "stream",
     "text": [
      "atıl değil\n"
     ]
    }
   ],
   "source": [
    "kontrolFonksiyon(\"s\")"
   ]
  },
  {
   "cell_type": "markdown",
   "id": "477f608d-2683-46ef-8c50-4040e615da3c",
   "metadata": {},
   "source": [
    "## args & kwargs"
   ]
  },
  {
   "cell_type": "code",
   "execution_count": 100,
   "id": "1f7656cf-84e4-42ec-baa5-4762238a3ad1",
   "metadata": {},
   "outputs": [],
   "source": [
    "#kaç tane girdi geleceğini belirlemiyoruz,\n",
    "# args = argümanlar\n",
    "# key word args "
   ]
  },
  {
   "cell_type": "code",
   "execution_count": 102,
   "id": "78774a2a-086d-4ec0-8761-a6d3efe8a280",
   "metadata": {},
   "outputs": [],
   "source": [
    "def yeniToplama(*args):\n",
    "    return sum(args)"
   ]
  },
  {
   "cell_type": "code",
   "execution_count": 104,
   "id": "5bc6a033-5607-4906-b9a5-490bc63702fb",
   "metadata": {},
   "outputs": [
    {
     "data": {
      "text/plain": [
       "296"
      ]
     },
     "execution_count": 104,
     "metadata": {},
     "output_type": "execute_result"
    }
   ],
   "source": [
    "yeniToplama(1,23,34,56,78,97,7)"
   ]
  },
  {
   "cell_type": "code",
   "execution_count": 106,
   "id": "18067a61-2afc-4d01-848f-6b4f0ae676fd",
   "metadata": {},
   "outputs": [
    {
     "data": {
      "text/plain": [
       "30"
      ]
     },
     "execution_count": 106,
     "metadata": {},
     "output_type": "execute_result"
    }
   ],
   "source": [
    "yeniToplama(10,20)"
   ]
  },
  {
   "cell_type": "code",
   "execution_count": 108,
   "id": "6c2f6a77-94eb-4a78-9131-6f59a01ec81b",
   "metadata": {},
   "outputs": [],
   "source": [
    "def benimFonksiyonum(*args):\n",
    "    print(args)"
   ]
  },
  {
   "cell_type": "code",
   "execution_count": 110,
   "id": "e8d9a66d-76bd-4e21-9aef-31f26597c4fa",
   "metadata": {},
   "outputs": [
    {
     "name": "stdout",
     "output_type": "stream",
     "text": [
      "(20, 30, 40)\n"
     ]
    }
   ],
   "source": [
    "benimFonksiyonum(20,30,40)"
   ]
  },
  {
   "cell_type": "code",
   "execution_count": 116,
   "id": "28e1023e-03df-4716-9b29-0a73fffc36a8",
   "metadata": {},
   "outputs": [
    {
     "name": "stdout",
     "output_type": "stream",
     "text": [
      "(20, 30, 40)\n"
     ]
    },
    {
     "data": {
      "text/plain": [
       "NoneType"
      ]
     },
     "execution_count": 116,
     "metadata": {},
     "output_type": "execute_result"
    }
   ],
   "source": [
    "type(benimFonksiyonum(20,30,40)) #return yok "
   ]
  },
  {
   "cell_type": "code",
   "execution_count": 118,
   "id": "e235869f-e56c-464f-8cdd-1b878747b395",
   "metadata": {},
   "outputs": [],
   "source": [
    "def benimFonksiyonum(*args):\n",
    "    return(args)"
   ]
  },
  {
   "cell_type": "code",
   "execution_count": 120,
   "id": "c0789e5c-02e3-4e5a-b00b-9ae3fb722668",
   "metadata": {},
   "outputs": [
    {
     "data": {
      "text/plain": [
       "tuple"
      ]
     },
     "execution_count": 120,
     "metadata": {},
     "output_type": "execute_result"
    }
   ],
   "source": [
    "type(benimFonksiyonum(20,30,40)) #return var"
   ]
  },
  {
   "cell_type": "code",
   "execution_count": 122,
   "id": "b5526ab9-23ea-4762-87b3-d1362db64d44",
   "metadata": {},
   "outputs": [],
   "source": [
    "def ornekFonk (**kwargs):\n",
    "    print(kwargs)"
   ]
  },
  {
   "cell_type": "code",
   "execution_count": 126,
   "id": "64655e43-4348-4f70-8b1e-e737ccdd5367",
   "metadata": {},
   "outputs": [
    {
     "name": "stdout",
     "output_type": "stream",
     "text": [
      "{'muz': 100, 'elma': 200, 'ananas': 300}\n"
     ]
    },
    {
     "data": {
      "text/plain": [
       "NoneType"
      ]
     },
     "execution_count": 126,
     "metadata": {},
     "output_type": "execute_result"
    }
   ],
   "source": [
    "type(ornekFonk(muz = 100, elma = 200 ,ananas = 300))"
   ]
  },
  {
   "cell_type": "code",
   "execution_count": 128,
   "id": "d1ac5484-30cb-47d8-a15c-d79637cd2174",
   "metadata": {},
   "outputs": [],
   "source": [
    "def ornekFonk (**kwargs):\n",
    "    return (kwargs)"
   ]
  },
  {
   "cell_type": "code",
   "execution_count": 130,
   "id": "25123639-1712-4b3a-8480-dc20e8423030",
   "metadata": {},
   "outputs": [
    {
     "data": {
      "text/plain": [
       "dict"
      ]
     },
     "execution_count": 130,
     "metadata": {},
     "output_type": "execute_result"
    }
   ],
   "source": [
    "type(ornekFonk(muz = 100, elma = 200 ,ananas = 300))"
   ]
  },
  {
   "cell_type": "code",
   "execution_count": 132,
   "id": "429eea9e-d3d9-4df2-b16b-bf0b8684636b",
   "metadata": {},
   "outputs": [],
   "source": [
    "def keyWordsKontrolu (**kwargs):\n",
    "    if \"atıl\" in kwargs:\n",
    "        print(\"atıl var\")\n",
    "    else:\n",
    "        print(\"atıl yok\")"
   ]
  },
  {
   "cell_type": "code",
   "execution_count": 134,
   "id": "0c193924-5fd5-4b71-875e-ee6ad0f612ac",
   "metadata": {},
   "outputs": [
    {
     "name": "stdout",
     "output_type": "stream",
     "text": [
      "atıl yok\n"
     ]
    }
   ],
   "source": [
    "keyWordsKontrolu(ahmet = 70, zeynep = 30, mehmet = 10)"
   ]
  },
  {
   "cell_type": "markdown",
   "id": "ea8b84ee-2a3f-4a65-84a1-4974e2b1be2f",
   "metadata": {},
   "source": [
    "## METHODLAR, SINIFLAR İÇERİSİNDE KULLANDIĞIMIZ FONKSİYONLAR"
   ]
  },
  {
   "cell_type": "code",
   "execution_count": null,
   "id": "4c7d9671-3295-4363-8874-9c81c5aa1360",
   "metadata": {},
   "outputs": [],
   "source": []
  },
  {
   "cell_type": "code",
   "execution_count": null,
   "id": "6b9933b2-f5da-4046-a105-b3d94fdfda8e",
   "metadata": {},
   "outputs": [],
   "source": []
  }
 ],
 "metadata": {
  "kernelspec": {
   "display_name": "Python 3 (ipykernel)",
   "language": "python",
   "name": "python3"
  },
  "language_info": {
   "codemirror_mode": {
    "name": "ipython",
    "version": 3
   },
   "file_extension": ".py",
   "mimetype": "text/x-python",
   "name": "python",
   "nbconvert_exporter": "python",
   "pygments_lexer": "ipython3",
   "version": "3.11.7"
  }
 },
 "nbformat": 4,
 "nbformat_minor": 5
}
