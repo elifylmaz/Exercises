{
 "cells": [
  {
   "cell_type": "code",
   "execution_count": 2,
   "id": "11054aa9-98c2-4dca-921f-f89c6d2b6d9d",
   "metadata": {},
   "outputs": [
    {
     "name": "stdout",
     "output_type": "stream",
     "text": [
      "Hello World\n"
     ]
    }
   ],
   "source": [
    "print('Hello World') "
   ]
  },
  {
   "cell_type": "code",
   "execution_count": 4,
   "id": "1f163679-48b7-433d-913a-ee99fdc790fb",
   "metadata": {},
   "outputs": [
    {
     "data": {
      "text/plain": [
       "20"
      ]
     },
     "execution_count": 4,
     "metadata": {},
     "output_type": "execute_result"
    }
   ],
   "source": [
    "5*4 #shift+enter=run"
   ]
  },
  {
   "cell_type": "markdown",
   "id": "6b0ab9e7-670c-4eed-9a80-628b86c6b998",
   "metadata": {},
   "source": [
    "## Python"
   ]
  },
  {
   "cell_type": "code",
   "execution_count": 12,
   "id": "164070e5-8097-4a73-b605-a6498b0c3005",
   "metadata": {},
   "outputs": [],
   "source": [
    "x=5"
   ]
  },
  {
   "cell_type": "code",
   "execution_count": 14,
   "id": "2bceb4f6-f6e1-4ae1-8d99-3481463bcfe6",
   "metadata": {},
   "outputs": [],
   "source": [
    "y=4"
   ]
  },
  {
   "cell_type": "code",
   "execution_count": 16,
   "id": "8facc38e-76fe-4786-a8cb-fe27ff332772",
   "metadata": {},
   "outputs": [
    {
     "data": {
      "text/plain": [
       "20"
      ]
     },
     "execution_count": 16,
     "metadata": {},
     "output_type": "execute_result"
    }
   ],
   "source": [
    "x*y"
   ]
  },
  {
   "cell_type": "code",
   "execution_count": 18,
   "id": "3e8bf74f-f280-431b-be80-c3ac2e8ee785",
   "metadata": {},
   "outputs": [],
   "source": [
    "x=6"
   ]
  },
  {
   "cell_type": "code",
   "execution_count": 20,
   "id": "c43a1ef2-2847-4334-bf92-56ec19b058bd",
   "metadata": {},
   "outputs": [
    {
     "data": {
      "text/plain": [
       "24"
      ]
     },
     "execution_count": 20,
     "metadata": {},
     "output_type": "execute_result"
    }
   ],
   "source": [
    "x*y"
   ]
  },
  {
   "cell_type": "markdown",
   "id": "fc39bca8-6626-4612-ae4e-651557c3ba5c",
   "metadata": {},
   "source": [
    "## Integer tam sayılar"
   ]
  },
  {
   "cell_type": "code",
   "execution_count": 24,
   "id": "b505a690-7d23-4782-9d70-fdb3c87a21cb",
   "metadata": {},
   "outputs": [
    {
     "data": {
      "text/plain": [
       "30"
      ]
     },
     "execution_count": 24,
     "metadata": {},
     "output_type": "execute_result"
    }
   ],
   "source": [
    "variable=10\n",
    "othervariable=20\n",
    "variables=variable + othervariable\n",
    "variables"
   ]
  },
  {
   "cell_type": "code",
   "execution_count": 26,
   "id": "5fbbe923-522f-4e6f-80db-5372c6d082c5",
   "metadata": {},
   "outputs": [
    {
     "data": {
      "text/plain": [
       "int"
      ]
     },
     "execution_count": 26,
     "metadata": {},
     "output_type": "execute_result"
    }
   ],
   "source": [
    "type(variables)  ##tab a basarak kodu tamamlayabilirsin"
   ]
  },
  {
   "cell_type": "markdown",
   "id": "08903742-030d-4be5-9865-30247e21e9b0",
   "metadata": {},
   "source": [
    "## Float kesirli sayılar"
   ]
  },
  {
   "cell_type": "code",
   "execution_count": 36,
   "id": "8f7739e7-9022-4c27-b93d-2fc5c6f505c8",
   "metadata": {},
   "outputs": [
    {
     "data": {
      "text/plain": [
       "3.0"
      ]
     },
     "execution_count": 36,
     "metadata": {},
     "output_type": "execute_result"
    }
   ],
   "source": [
    "floatvariable=variables/variable\n",
    "floatvariable"
   ]
  },
  {
   "cell_type": "code",
   "execution_count": 38,
   "id": "b9cf5ab9-38a2-4e8d-a5f2-546787dc376d",
   "metadata": {},
   "outputs": [
    {
     "data": {
      "text/plain": [
       "float"
      ]
     },
     "execution_count": 38,
     "metadata": {},
     "output_type": "execute_result"
    }
   ],
   "source": [
    "type(floatvariable)"
   ]
  },
  {
   "cell_type": "code",
   "execution_count": 40,
   "id": "81edb85b-9932-4a86-9684-b573783946e2",
   "metadata": {},
   "outputs": [],
   "source": [
    "pi=3.14"
   ]
  },
  {
   "cell_type": "code",
   "execution_count": 42,
   "id": "11cbeb3b-f30f-4b05-80e6-a957c366b8cc",
   "metadata": {},
   "outputs": [
    {
     "data": {
      "text/plain": [
       "float"
      ]
     },
     "execution_count": 42,
     "metadata": {},
     "output_type": "execute_result"
    }
   ],
   "source": [
    "type(pi)"
   ]
  },
  {
   "cell_type": "code",
   "execution_count": 44,
   "id": "0367e80b-3ba6-408b-9e81-b07ed291c801",
   "metadata": {},
   "outputs": [],
   "source": [
    "a=5"
   ]
  },
  {
   "cell_type": "code",
   "execution_count": 46,
   "id": "54db53ce-89ba-49e6-9251-ed337d17724f",
   "metadata": {},
   "outputs": [
    {
     "data": {
      "text/plain": [
       "int"
      ]
     },
     "execution_count": 46,
     "metadata": {},
     "output_type": "execute_result"
    }
   ],
   "source": [
    "type(a)"
   ]
  },
  {
   "cell_type": "code",
   "execution_count": 54,
   "id": "6b7f308b-3887-4de2-9540-862d193ab8be",
   "metadata": {},
   "outputs": [
    {
     "data": {
      "text/plain": [
       "15.700000000000001"
      ]
     },
     "execution_count": 54,
     "metadata": {},
     "output_type": "execute_result"
    }
   ],
   "source": [
    "sonuc=pi*a\n",
    "sonuc"
   ]
  },
  {
   "cell_type": "code",
   "execution_count": 56,
   "id": "c4f86bb7-42b6-4e03-ab50-6a4465686c60",
   "metadata": {},
   "outputs": [
    {
     "data": {
      "text/plain": [
       "float"
      ]
     },
     "execution_count": 56,
     "metadata": {},
     "output_type": "execute_result"
    }
   ],
   "source": [
    "type(sonuc)"
   ]
  },
  {
   "cell_type": "markdown",
   "id": "b73792d7-187d-443a-bf13-e5fb7877ab59",
   "metadata": {},
   "source": [
    "## Matematiksel İşlemler"
   ]
  },
  {
   "cell_type": "code",
   "execution_count": 4,
   "id": "9e055fe2-cb40-49d5-a704-803d0072e0a8",
   "metadata": {},
   "outputs": [
    {
     "data": {
      "text/plain": [
       "3125"
      ]
     },
     "execution_count": 4,
     "metadata": {},
     "output_type": "execute_result"
    }
   ],
   "source": [
    "x = 5\n",
    "x ** 5 #Üstel ifade"
   ]
  },
  {
   "cell_type": "code",
   "execution_count": 8,
   "id": "e8d3eac2-138d-4ae6-8499-c21a1632de60",
   "metadata": {},
   "outputs": [
    {
     "data": {
      "text/plain": [
       "2"
      ]
     },
     "execution_count": 8,
     "metadata": {},
     "output_type": "execute_result"
    }
   ],
   "source": [
    "y = 3\n",
    "x % y #reminder, kalanını buluyor 5i 3e böldük 2 kaldı "
   ]
  },
  {
   "cell_type": "code",
   "execution_count": 10,
   "id": "db9426c8-f137-4def-8d5e-68199868afae",
   "metadata": {},
   "outputs": [
    {
     "data": {
      "text/plain": [
       "1"
      ]
     },
     "execution_count": 10,
     "metadata": {},
     "output_type": "execute_result"
    }
   ],
   "source": [
    "11 % 2"
   ]
  },
  {
   "cell_type": "code",
   "execution_count": 3,
   "id": "95c2a862-afe6-43c6-8552-4f9d0514cbc4",
   "metadata": {},
   "outputs": [],
   "source": [
    "kullaniciYasi = 10 #camelCase , #snake_case"
   ]
  },
  {
   "cell_type": "code",
   "execution_count": 5,
   "id": "e13460b8-da9d-445e-8663-ad0deb88d12d",
   "metadata": {},
   "outputs": [
    {
     "data": {
      "text/plain": [
       "16.666666666666668"
      ]
     },
     "execution_count": 5,
     "metadata": {},
     "output_type": "execute_result"
    }
   ],
   "source": [
    "kullaniciYasi * 5 / 3 "
   ]
  },
  {
   "cell_type": "code",
   "execution_count": 13,
   "id": "185cf6ce-415f-4da0-ad75-c57644b26f76",
   "metadata": {},
   "outputs": [
    {
     "name": "stdin",
     "output_type": "stream",
     "text": [
      "Yas:  2\n"
     ]
    }
   ],
   "source": [
    "kullaniciYasi = input(\"Yas: \")"
   ]
  },
  {
   "cell_type": "code",
   "execution_count": 15,
   "id": "dc135eab-7675-4177-935c-7328c89403aa",
   "metadata": {},
   "outputs": [
    {
     "data": {
      "text/plain": [
       "str"
      ]
     },
     "execution_count": 15,
     "metadata": {},
     "output_type": "execute_result"
    }
   ],
   "source": [
    "type(kullaniciYasi)"
   ]
  },
  {
   "cell_type": "code",
   "execution_count": null,
   "id": "8f216bef-5b7f-44e9-8f69-a3f76aee34c7",
   "metadata": {},
   "outputs": [],
   "source": [
    "#input değerini str olarak alır"
   ]
  },
  {
   "cell_type": "markdown",
   "id": "e98aa374-9c00-45e9-aac5-639b7af5df7e",
   "metadata": {},
   "source": [
    "## String"
   ]
  },
  {
   "cell_type": "code",
   "execution_count": 22,
   "id": "c64da6ac-915d-474b-8cf2-08c8699cb965",
   "metadata": {},
   "outputs": [],
   "source": [
    "x = \"Merhaba Dünya\" # çift tırnak ya da tek tırnak kullanabilirsin çift tercihen \"\""
   ]
  },
  {
   "cell_type": "code",
   "execution_count": 12,
   "id": "5e774ef4-52e2-45ed-9b67-c1d7b9a34e15",
   "metadata": {},
   "outputs": [
    {
     "data": {
      "text/plain": [
       "str"
      ]
     },
     "execution_count": 12,
     "metadata": {},
     "output_type": "execute_result"
    }
   ],
   "source": [
    "type(x)"
   ]
  },
  {
   "cell_type": "code",
   "execution_count": 24,
   "id": "a19dd21e-1b3c-4e61-8eef-f9b3bb3ab556",
   "metadata": {},
   "outputs": [],
   "source": [
    "y=\"Elif\""
   ]
  },
  {
   "cell_type": "code",
   "execution_count": 26,
   "id": "c2951e4d-3609-4727-bc60-1fab5626ed72",
   "metadata": {},
   "outputs": [
    {
     "data": {
      "text/plain": [
       "'Merhaba DünyaElif'"
      ]
     },
     "execution_count": 26,
     "metadata": {},
     "output_type": "execute_result"
    }
   ],
   "source": [
    "x+y"
   ]
  },
  {
   "cell_type": "code",
   "execution_count": 28,
   "id": "33724409-f836-480e-b4f7-3b6455706364",
   "metadata": {},
   "outputs": [
    {
     "name": "stdin",
     "output_type": "stream",
     "text": [
      "yas: 22\n"
     ]
    }
   ],
   "source": [
    "benimYas = input(\"yas:\")"
   ]
  },
  {
   "cell_type": "code",
   "execution_count": 30,
   "id": "5267339a-36f2-448f-8c29-057ccac0dfb9",
   "metadata": {},
   "outputs": [
    {
     "data": {
      "text/plain": [
       "str"
      ]
     },
     "execution_count": 30,
     "metadata": {},
     "output_type": "execute_result"
    }
   ],
   "source": [
    "type(benimYas)"
   ]
  },
  {
   "cell_type": "code",
   "execution_count": 38,
   "id": "cb257b7e-e252-40c1-a390-5644895f4fff",
   "metadata": {},
   "outputs": [
    {
     "ename": "TypeError",
     "evalue": "unsupported operand type(s) for /: 'str' and 'int'",
     "output_type": "error",
     "traceback": [
      "\u001b[0;31m---------------------------------------------------------------------------\u001b[0m",
      "\u001b[0;31mTypeError\u001b[0m                                 Traceback (most recent call last)",
      "Cell \u001b[0;32mIn[38], line 1\u001b[0m\n\u001b[0;32m----> 1\u001b[0m benimYas\u001b[38;5;241m/\u001b[39m\u001b[38;5;241m2\u001b[39m\n",
      "\u001b[0;31mTypeError\u001b[0m: unsupported operand type(s) for /: 'str' and 'int'"
     ]
    }
   ],
   "source": [
    "benimYas/2"
   ]
  },
  {
   "cell_type": "code",
   "execution_count": 32,
   "id": "eff806aa-2346-4697-91c5-d2ef9f996ccd",
   "metadata": {},
   "outputs": [],
   "source": [
    "benimintYas = int(benimYas)"
   ]
  },
  {
   "cell_type": "code",
   "execution_count": 36,
   "id": "52a273e2-7c46-47e2-a2a1-f74c3ab50b4a",
   "metadata": {},
   "outputs": [
    {
     "data": {
      "text/plain": [
       "int"
      ]
     },
     "execution_count": 36,
     "metadata": {},
     "output_type": "execute_result"
    }
   ],
   "source": [
    "type(benimintYas)"
   ]
  },
  {
   "cell_type": "code",
   "execution_count": 44,
   "id": "76d47705-86b5-4c81-bdf9-9773c3d4859c",
   "metadata": {},
   "outputs": [],
   "source": [
    "z=benimintYas/2"
   ]
  },
  {
   "cell_type": "code",
   "execution_count": 48,
   "id": "c6b7dc01-8baf-43ea-be77-41653bf0a046",
   "metadata": {},
   "outputs": [
    {
     "data": {
      "text/plain": [
       "float"
      ]
     },
     "execution_count": 48,
     "metadata": {},
     "output_type": "execute_result"
    }
   ],
   "source": [
    "type(z)"
   ]
  },
  {
   "cell_type": "code",
   "execution_count": 52,
   "id": "8270ec0e-0621-4219-89fb-87e9b385481a",
   "metadata": {},
   "outputs": [
    {
     "data": {
      "text/plain": [
       "4"
      ]
     },
     "execution_count": 52,
     "metadata": {},
     "output_type": "execute_result"
    }
   ],
   "source": [
    "x=\"Elif\"\n",
    "len(x) "
   ]
  },
  {
   "cell_type": "code",
   "execution_count": 54,
   "id": "b429212c-5e83-4301-9c3d-431442dc94c3",
   "metadata": {},
   "outputs": [
    {
     "name": "stdout",
     "output_type": "stream",
     "text": [
      "Merhaba \n",
      " Python\n"
     ]
    }
   ],
   "source": [
    "print (\"Merhaba \\n Python\")  #alt satıra yazdırıyor"
   ]
  },
  {
   "cell_type": "markdown",
   "id": "e1fd3d25-82f5-4481-b430-4a408ec04cc9",
   "metadata": {},
   "source": [
    "##  Slicing"
   ]
  },
  {
   "cell_type": "code",
   "execution_count": 56,
   "id": "85ffc6f2-2f23-4166-8f97-0412013cf63e",
   "metadata": {},
   "outputs": [],
   "source": [
    "isimString = \"Atıl Samancıoğlu\""
   ]
  },
  {
   "cell_type": "code",
   "execution_count": 58,
   "id": "ff15ad8d-474c-4d66-a2f3-7b0184e1522f",
   "metadata": {},
   "outputs": [
    {
     "data": {
      "text/plain": [
       "'Atıl Samancıoğlu'"
      ]
     },
     "execution_count": 58,
     "metadata": {},
     "output_type": "execute_result"
    }
   ],
   "source": [
    "isimString"
   ]
  },
  {
   "cell_type": "markdown",
   "id": "82689e6f-6e7f-4690-9784-bd5458d26f9b",
   "metadata": {},
   "source": [
    "INDEX"
   ]
  },
  {
   "cell_type": "code",
   "execution_count": null,
   "id": "0ddddf67-2dbb-4021-ad09-91b7e997f2a2",
   "metadata": {},
   "outputs": [],
   "source": [
    "#her karakterin indexi var 0,1,2,3,... t=1 gibi "
   ]
  },
  {
   "cell_type": "code",
   "execution_count": 60,
   "id": "554a2770-34b3-4113-b0a6-589ac5f36ce6",
   "metadata": {},
   "outputs": [
    {
     "data": {
      "text/plain": [
       "'A'"
      ]
     },
     "execution_count": 60,
     "metadata": {},
     "output_type": "execute_result"
    }
   ],
   "source": [
    "isimString [0]"
   ]
  },
  {
   "cell_type": "code",
   "execution_count": 64,
   "id": "3979440d-fa59-417c-bda4-6c17014dc1b4",
   "metadata": {},
   "outputs": [
    {
     "data": {
      "text/plain": [
       "' '"
      ]
     },
     "execution_count": 64,
     "metadata": {},
     "output_type": "execute_result"
    }
   ],
   "source": [
    "isimString[4]"
   ]
  },
  {
   "cell_type": "code",
   "execution_count": 68,
   "id": "18b74924-54a1-4e97-910a-8007b784e736",
   "metadata": {},
   "outputs": [
    {
     "data": {
      "text/plain": [
       "'u'"
      ]
     },
     "execution_count": 68,
     "metadata": {},
     "output_type": "execute_result"
    }
   ],
   "source": [
    "isimString[-1] # son karakter #-sondan başlar"
   ]
  },
  {
   "cell_type": "code",
   "execution_count": 70,
   "id": "7a14e9e3-b2a0-49dd-b36c-916118a0fb30",
   "metadata": {},
   "outputs": [],
   "source": [
    "yenistring= \"0123456789\"  #slicing:kesmee bu olayın adı o dur  startingindex:stopindex"
   ]
  },
  {
   "cell_type": "code",
   "execution_count": 72,
   "id": "df8249ee-25b9-420f-a1fc-62d5460f9906",
   "metadata": {},
   "outputs": [
    {
     "data": {
      "text/plain": [
       "'23456789'"
      ]
     },
     "execution_count": 72,
     "metadata": {},
     "output_type": "execute_result"
    }
   ],
   "source": [
    "yenistring[2:] #ilk 2 hariç sona kadar al , #2den başla sona kadar al (index olarak 2)"
   ]
  },
  {
   "cell_type": "code",
   "execution_count": 74,
   "id": "32fb2347-3d8f-4512-b21e-a8356847fd76",
   "metadata": {},
   "outputs": [
    {
     "data": {
      "text/plain": [
       "'012'"
      ]
     },
     "execution_count": 74,
     "metadata": {},
     "output_type": "execute_result"
    }
   ],
   "source": [
    "yenistring[:3] #ilk 3 al "
   ]
  },
  {
   "cell_type": "code",
   "execution_count": 88,
   "id": "8669c0f5-4452-4817-ac70-5c515ff16de1",
   "metadata": {},
   "outputs": [],
   "source": [
    "gelenVeri=\"AhmetYası65\""
   ]
  },
  {
   "cell_type": "code",
   "execution_count": 92,
   "id": "eb3f9310-fec0-475a-a92a-5b413d9456a2",
   "metadata": {},
   "outputs": [
    {
     "data": {
      "text/plain": [
       "'65'"
      ]
     },
     "execution_count": 92,
     "metadata": {},
     "output_type": "execute_result"
    }
   ],
   "source": [
    "gelenVeri[-2:] #sondan 2 al "
   ]
  },
  {
   "cell_type": "code",
   "execution_count": 94,
   "id": "b3629e5b-65da-464d-b62e-f40583c6dc8d",
   "metadata": {},
   "outputs": [
    {
     "data": {
      "text/plain": [
       "'me'"
      ]
     },
     "execution_count": 94,
     "metadata": {},
     "output_type": "execute_result"
    }
   ],
   "source": [
    "gelenVeri[2:4] #2yi alıyor,4ü almıyor"
   ]
  },
  {
   "cell_type": "code",
   "execution_count": 102,
   "id": "f3fa3b33-e931-4fc8-a638-46aa3c8f507e",
   "metadata": {},
   "outputs": [
    {
     "data": {
      "text/plain": [
       "'Amtaı5'"
      ]
     },
     "execution_count": 102,
     "metadata": {},
     "output_type": "execute_result"
    }
   ],
   "source": [
    "gelenVeri[::2] #2 atlayarak alıyor"
   ]
  },
  {
   "cell_type": "code",
   "execution_count": 104,
   "id": "620e8ede-5c18-4538-88b8-331a73fafa87",
   "metadata": {},
   "outputs": [
    {
     "data": {
      "text/plain": [
       "'56ısaYtemhA'"
      ]
     },
     "execution_count": 104,
     "metadata": {},
     "output_type": "execute_result"
    }
   ],
   "source": [
    "gelenVeri[::-1] #ters yazma"
   ]
  },
  {
   "cell_type": "code",
   "execution_count": 108,
   "id": "502726ab-b330-4636-bb8f-7272e0764dba",
   "metadata": {},
   "outputs": [],
   "source": [
    "benimIsmim=\"elif\""
   ]
  },
  {
   "cell_type": "code",
   "execution_count": 110,
   "id": "30073ee9-b505-4fdc-84d9-5629642a91f8",
   "metadata": {},
   "outputs": [
    {
     "data": {
      "text/plain": [
       "'Elif'"
      ]
     },
     "execution_count": 110,
     "metadata": {},
     "output_type": "execute_result"
    }
   ],
   "source": [
    "benimIsmim.capitalize()"
   ]
  },
  {
   "cell_type": "code",
   "execution_count": 112,
   "id": "bf5e548e-d10f-4619-9017-7bf639e6aa25",
   "metadata": {},
   "outputs": [
    {
     "data": {
      "text/plain": [
       "'elif'"
      ]
     },
     "execution_count": 112,
     "metadata": {},
     "output_type": "execute_result"
    }
   ],
   "source": [
    "benimIsmim"
   ]
  },
  {
   "cell_type": "code",
   "execution_count": 116,
   "id": "fe773ccf-1d0e-4937-8818-8cd4a06e71c9",
   "metadata": {},
   "outputs": [],
   "source": [
    "tamisim=\"Elif Yılmaz\""
   ]
  },
  {
   "cell_type": "code",
   "execution_count": 124,
   "id": "ab2e1e58-d6ab-46a2-8339-8fe76484ecd5",
   "metadata": {},
   "outputs": [
    {
     "data": {
      "text/plain": [
       "['Elif', 'Yılmaz']"
      ]
     },
     "execution_count": 124,
     "metadata": {},
     "output_type": "execute_result"
    }
   ],
   "source": [
    "tamisim.split()"
   ]
  },
  {
   "cell_type": "code",
   "execution_count": 120,
   "id": "517d2a12-00c8-4fd1-b9b8-d6327a65534a",
   "metadata": {},
   "outputs": [
    {
     "data": {
      "text/plain": [
       "list"
      ]
     },
     "execution_count": 120,
     "metadata": {},
     "output_type": "execute_result"
    }
   ],
   "source": [
    "type(tamisim.split())"
   ]
  },
  {
   "cell_type": "code",
   "execution_count": 126,
   "id": "f0c574ca-925a-4399-9fa2-017c2d48f5f3",
   "metadata": {},
   "outputs": [],
   "source": [
    "list=tamisim.split()"
   ]
  },
  {
   "cell_type": "code",
   "execution_count": 128,
   "id": "76d9b792-9a85-4df9-8d69-1cb79b6ae347",
   "metadata": {},
   "outputs": [
    {
     "data": {
      "text/plain": [
       "'Yılmaz'"
      ]
     },
     "execution_count": 128,
     "metadata": {},
     "output_type": "execute_result"
    }
   ],
   "source": [
    "list[1]"
   ]
  },
  {
   "cell_type": "code",
   "execution_count": 130,
   "id": "6ec92991-c871-4129-9aad-83dbd942a35c",
   "metadata": {},
   "outputs": [
    {
     "data": {
      "text/plain": [
       "'ELIF YILMAZ'"
      ]
     },
     "execution_count": 130,
     "metadata": {},
     "output_type": "execute_result"
    }
   ],
   "source": [
    "tamisim.upper()"
   ]
  },
  {
   "cell_type": "code",
   "execution_count": 134,
   "id": "b15a5e8e-3898-4e69-a52c-5c03364ed082",
   "metadata": {},
   "outputs": [
    {
     "data": {
      "text/plain": [
       "'Elif Yılmaz elif'"
      ]
     },
     "execution_count": 134,
     "metadata": {},
     "output_type": "execute_result"
    }
   ],
   "source": [
    "tamisim + \" \" + benimIsmim"
   ]
  },
  {
   "cell_type": "code",
   "execution_count": null,
   "id": "15d354d2-72c3-4370-8d6a-fdb4f79038d6",
   "metadata": {},
   "outputs": [],
   "source": []
  }
 ],
 "metadata": {
  "kernelspec": {
   "display_name": "Python 3 (ipykernel)",
   "language": "python",
   "name": "python3"
  },
  "language_info": {
   "codemirror_mode": {
    "name": "ipython",
    "version": 3
   },
   "file_extension": ".py",
   "mimetype": "text/x-python",
   "name": "python",
   "nbconvert_exporter": "python",
   "pygments_lexer": "ipython3",
   "version": "3.11.7"
  }
 },
 "nbformat": 4,
 "nbformat_minor": 5
}
