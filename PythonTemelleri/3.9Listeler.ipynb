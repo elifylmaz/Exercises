{
 "cells": [
  {
   "cell_type": "code",
   "execution_count": 3,
   "id": "5895361c-49e9-41a7-b04d-4e2daed88196",
   "metadata": {},
   "outputs": [],
   "source": [
    "##Listeler , koleksiyonlar"
   ]
  },
  {
   "cell_type": "code",
   "execution_count": 5,
   "id": "ebd382c0-2b58-4190-b979-1d58444d0483",
   "metadata": {},
   "outputs": [],
   "source": [
    "benimString = \"Atıl Samancıoğlu\""
   ]
  },
  {
   "cell_type": "code",
   "execution_count": 7,
   "id": "1d4d3c08-1ba9-4b82-9451-23b9e24b75f9",
   "metadata": {},
   "outputs": [
    {
     "data": {
      "text/plain": [
       "'A'"
      ]
     },
     "execution_count": 7,
     "metadata": {},
     "output_type": "execute_result"
    }
   ],
   "source": [
    "benimString[0]"
   ]
  },
  {
   "cell_type": "code",
   "execution_count": 9,
   "id": "c2a98749-5ef6-4644-b58f-e77b6cef7e18",
   "metadata": {},
   "outputs": [],
   "source": [
    "#immutability & mutable değişmezlik (stringlerde değişmezlik var )"
   ]
  },
  {
   "cell_type": "code",
   "execution_count": 15,
   "id": "29d73017-2fb6-4e30-b4e7-cf02814fabc5",
   "metadata": {},
   "outputs": [
    {
     "ename": "TypeError",
     "evalue": "'str' object does not support item assignment",
     "output_type": "error",
     "traceback": [
      "\u001b[0;31m---------------------------------------------------------------------------\u001b[0m",
      "\u001b[0;31mTypeError\u001b[0m                                 Traceback (most recent call last)",
      "Cell \u001b[0;32mIn[15], line 1\u001b[0m\n\u001b[0;32m----> 1\u001b[0m benimString[\u001b[38;5;241m0\u001b[39m]\u001b[38;5;241m=\u001b[39m\u001b[38;5;124m\"\u001b[39m\u001b[38;5;124mB\u001b[39m\u001b[38;5;124m\"\u001b[39m\n",
      "\u001b[0;31mTypeError\u001b[0m: 'str' object does not support item assignment"
     ]
    }
   ],
   "source": [
    "benimString[0]=\"B\""
   ]
  },
  {
   "cell_type": "code",
   "execution_count": 23,
   "id": "ccc0a66d-4e4a-43de-8a34-10fa0f45f8fe",
   "metadata": {},
   "outputs": [
    {
     "data": {
      "text/plain": [
       "str"
      ]
     },
     "execution_count": 23,
     "metadata": {},
     "output_type": "execute_result"
    }
   ],
   "source": [
    "type(benimString)"
   ]
  },
  {
   "cell_type": "code",
   "execution_count": 43,
   "id": "97133d61-7e76-4484-b4f9-95a3eb49ae81",
   "metadata": {},
   "outputs": [],
   "source": [
    "benimListem = [\"Atıl\",10,20,30,40,' ']"
   ]
  },
  {
   "cell_type": "code",
   "execution_count": 45,
   "id": "95a6a815-14cf-40c6-8199-13796964a58f",
   "metadata": {},
   "outputs": [
    {
     "data": {
      "text/plain": [
       "list"
      ]
     },
     "execution_count": 45,
     "metadata": {},
     "output_type": "execute_result"
    }
   ],
   "source": [
    "type(benimListem)"
   ]
  },
  {
   "cell_type": "code",
   "execution_count": 47,
   "id": "59312166-e7f4-4914-8c38-30ac6c952a17",
   "metadata": {},
   "outputs": [],
   "source": [
    "benimListem[0] = 100  #stringlerin aksine değiştirebiliriz "
   ]
  },
  {
   "cell_type": "code",
   "execution_count": 49,
   "id": "da60292d-3a94-4922-9c22-5d2710949f5b",
   "metadata": {},
   "outputs": [
    {
     "data": {
      "text/plain": [
       "[100, 10, 20, 30, 40, ' ']"
      ]
     },
     "execution_count": 49,
     "metadata": {},
     "output_type": "execute_result"
    }
   ],
   "source": [
    "benimListem"
   ]
  },
  {
   "cell_type": "code",
   "execution_count": 51,
   "id": "9362a8f6-ee18-4b2b-b3e9-4a5eb688d11b",
   "metadata": {},
   "outputs": [],
   "source": [
    "benimListem.append(50) #eklemek"
   ]
  },
  {
   "cell_type": "code",
   "execution_count": 53,
   "id": "7019d06f-505b-4818-a322-5efc34501ad7",
   "metadata": {},
   "outputs": [
    {
     "data": {
      "text/plain": [
       "[100, 10, 20, 30, 40, ' ', 50]"
      ]
     },
     "execution_count": 53,
     "metadata": {},
     "output_type": "execute_result"
    }
   ],
   "source": [
    "benimListem"
   ]
  },
  {
   "cell_type": "code",
   "execution_count": 55,
   "id": "86318ccc-425c-432e-9f84-020d207ba11b",
   "metadata": {},
   "outputs": [],
   "source": [
    "#"
   ]
  },
  {
   "cell_type": "code",
   "execution_count": 57,
   "id": "d37938a9-29ca-4a1a-8393-6fc3a947b147",
   "metadata": {},
   "outputs": [
    {
     "data": {
      "text/plain": [
       "50"
      ]
     },
     "execution_count": 57,
     "metadata": {},
     "output_type": "execute_result"
    }
   ],
   "source": [
    "benimListem.pop() #son elemanı atar"
   ]
  },
  {
   "cell_type": "code",
   "execution_count": 59,
   "id": "d357b0b0-db02-4797-aacb-5626377e5fb6",
   "metadata": {},
   "outputs": [
    {
     "data": {
      "text/plain": [
       "[100, 10, 20, 30, 40, ' ']"
      ]
     },
     "execution_count": 59,
     "metadata": {},
     "output_type": "execute_result"
    }
   ],
   "source": [
    "benimListem"
   ]
  },
  {
   "cell_type": "code",
   "execution_count": 61,
   "id": "c42026a9-963f-4b39-a30f-0e67a692831e",
   "metadata": {},
   "outputs": [
    {
     "data": {
      "text/plain": [
       "[100, 10, 20, 30, ' ']"
      ]
     },
     "execution_count": 61,
     "metadata": {},
     "output_type": "execute_result"
    }
   ],
   "source": [
    "benimListem.remove(40) #elemanı çıkar\n",
    "benimListem"
   ]
  },
  {
   "cell_type": "code",
   "execution_count": 67,
   "id": "1cf05e1f-76b7-4080-9920-543a19d601d6",
   "metadata": {},
   "outputs": [
    {
     "data": {
      "text/plain": [
       "[' ', 30, 20, 10, 100]"
      ]
     },
     "execution_count": 67,
     "metadata": {},
     "output_type": "execute_result"
    }
   ],
   "source": [
    "benimListem.reverse() #ters çeviriyor \n",
    "benimListem"
   ]
  },
  {
   "cell_type": "code",
   "execution_count": 69,
   "id": "d9e672b2-e4b1-4587-bfd1-706d3ced3c27",
   "metadata": {},
   "outputs": [
    {
     "data": {
      "text/plain": [
       "1"
      ]
     },
     "execution_count": 69,
     "metadata": {},
     "output_type": "execute_result"
    }
   ],
   "source": [
    "benimListem.count(20)  #20den kaç tane var sayıyor "
   ]
  },
  {
   "cell_type": "code",
   "execution_count": 71,
   "id": "9822dab3-aaa7-40fd-8314-bec863d0a364",
   "metadata": {},
   "outputs": [],
   "source": [
    "benimListem.append(20)"
   ]
  },
  {
   "cell_type": "code",
   "execution_count": 73,
   "id": "5481e411-e83f-47b7-98e0-b4d2304348f9",
   "metadata": {},
   "outputs": [
    {
     "data": {
      "text/plain": [
       "2"
      ]
     },
     "execution_count": 73,
     "metadata": {},
     "output_type": "execute_result"
    }
   ],
   "source": [
    "benimListem.count(20)"
   ]
  },
  {
   "cell_type": "code",
   "execution_count": 77,
   "id": "0c55c14f-cbd3-43b1-b353-223f40f9b2ec",
   "metadata": {},
   "outputs": [
    {
     "data": {
      "text/plain": [
       "0"
      ]
     },
     "execution_count": 77,
     "metadata": {},
     "output_type": "execute_result"
    }
   ],
   "source": [
    "benimListem.count('') #boşluk koymadım o yüzden aynı değil saymadı yok çünkü"
   ]
  },
  {
   "cell_type": "code",
   "execution_count": 79,
   "id": "4fb33e83-7127-49d2-94b1-15188964f84e",
   "metadata": {},
   "outputs": [],
   "source": [
    "benimListemdiger =[\"ahmet\",\"atlas\"] "
   ]
  },
  {
   "cell_type": "code",
   "execution_count": 81,
   "id": "6d673c83-7463-4287-a20b-2a9372f4a47a",
   "metadata": {},
   "outputs": [
    {
     "ename": "IndexError",
     "evalue": "list index out of range",
     "output_type": "error",
     "traceback": [
      "\u001b[0;31m---------------------------------------------------------------------------\u001b[0m",
      "\u001b[0;31mIndexError\u001b[0m                                Traceback (most recent call last)",
      "Cell \u001b[0;32mIn[81], line 1\u001b[0m\n\u001b[0;32m----> 1\u001b[0m benimListemdiger[\u001b[38;5;241m2\u001b[39m]\n",
      "\u001b[0;31mIndexError\u001b[0m: list index out of range"
     ]
    }
   ],
   "source": [
    "benimListemdiger[2] #olmayan elelmanı istedik "
   ]
  },
  {
   "cell_type": "code",
   "execution_count": 83,
   "id": "aaaade42-c427-4192-a31e-54cedf8bf596",
   "metadata": {},
   "outputs": [
    {
     "data": {
      "text/plain": [
       "[' ', 30, 20, 10, 100, 20, 'ahmet', 'atlas']"
      ]
     },
     "execution_count": 83,
     "metadata": {},
     "output_type": "execute_result"
    }
   ],
   "source": [
    "benimListem + benimListemdiger #toplama"
   ]
  },
  {
   "cell_type": "code",
   "execution_count": 85,
   "id": "0aaedaaf-0152-444f-b127-34be41731fe7",
   "metadata": {},
   "outputs": [
    {
     "data": {
      "text/plain": [
       "['ahmet',\n",
       " 'atlas',\n",
       " 'ahmet',\n",
       " 'atlas',\n",
       " 'ahmet',\n",
       " 'atlas',\n",
       " 'ahmet',\n",
       " 'atlas',\n",
       " 'ahmet',\n",
       " 'atlas']"
      ]
     },
     "execution_count": 85,
     "metadata": {},
     "output_type": "execute_result"
    }
   ],
   "source": [
    "benimListemdiger * 5 #çarpma ve toplama oluyor"
   ]
  },
  {
   "cell_type": "code",
   "execution_count": 87,
   "id": "1b2b379a-cadc-4d4e-ae81-cf2e3cc5d6bb",
   "metadata": {},
   "outputs": [
    {
     "ename": "TypeError",
     "evalue": "unsupported operand type(s) for -: 'list' and 'list'",
     "output_type": "error",
     "traceback": [
      "\u001b[0;31m---------------------------------------------------------------------------\u001b[0m",
      "\u001b[0;31mTypeError\u001b[0m                                 Traceback (most recent call last)",
      "Cell \u001b[0;32mIn[87], line 1\u001b[0m\n\u001b[0;32m----> 1\u001b[0m benimListem \u001b[38;5;241m-\u001b[39m benimListemdiger\n",
      "\u001b[0;31mTypeError\u001b[0m: unsupported operand type(s) for -: 'list' and 'list'"
     ]
    }
   ],
   "source": [
    "benimListem - benimListemdiger #çıkarma ve bölme olmuyor "
   ]
  },
  {
   "cell_type": "code",
   "execution_count": 89,
   "id": "ce7710a8-b722-403a-8591-ef81592aa725",
   "metadata": {},
   "outputs": [],
   "source": [
    "karisikListe = [1,2,3.4,\"atıl\",9]"
   ]
  },
  {
   "cell_type": "code",
   "execution_count": 91,
   "id": "70f397be-3c8c-4628-a891-00a1db94d75c",
   "metadata": {},
   "outputs": [],
   "source": [
    "sonucum = karisikListe[2]"
   ]
  },
  {
   "cell_type": "code",
   "execution_count": 93,
   "id": "2e855f34-0c6c-4070-aef0-422345522973",
   "metadata": {},
   "outputs": [
    {
     "data": {
      "text/plain": [
       "float"
      ]
     },
     "execution_count": 93,
     "metadata": {},
     "output_type": "execute_result"
    }
   ],
   "source": [
    "type(sonucum)"
   ]
  },
  {
   "cell_type": "code",
   "execution_count": 95,
   "id": "8d60ae64-1aac-412d-9f3b-f957adc5da38",
   "metadata": {},
   "outputs": [],
   "source": [
    "nestedList =[1,2,3,\"atıl\",[8,4.6]] #iç içe liste"
   ]
  },
  {
   "cell_type": "code",
   "execution_count": 115,
   "id": "c63fc678-a9f9-41b8-8eee-3d3737ebacd4",
   "metadata": {},
   "outputs": [
    {
     "data": {
      "text/plain": [
       "[8, 4.6]"
      ]
     },
     "execution_count": 115,
     "metadata": {},
     "output_type": "execute_result"
    }
   ],
   "source": [
    "sonuc=nestedList[4]\n",
    "sonuc"
   ]
  },
  {
   "cell_type": "code",
   "execution_count": 105,
   "id": "2c21374f-dab5-4607-82bf-567048d2ecf3",
   "metadata": {},
   "outputs": [
    {
     "data": {
      "text/plain": [
       "list"
      ]
     },
     "execution_count": 105,
     "metadata": {},
     "output_type": "execute_result"
    }
   ],
   "source": [
    "type(sonuc)"
   ]
  },
  {
   "cell_type": "code",
   "execution_count": 111,
   "id": "ce2e2853-e5f6-4b93-9fda-68a7fad26ae8",
   "metadata": {},
   "outputs": [
    {
     "data": {
      "text/plain": [
       "4.6"
      ]
     },
     "execution_count": 111,
     "metadata": {},
     "output_type": "execute_result"
    }
   ],
   "source": [
    "degisken=sonuc[1]\n",
    "degisken"
   ]
  },
  {
   "cell_type": "code",
   "execution_count": 121,
   "id": "aa0e305c-d52a-4fab-bce7-695653cbca3b",
   "metadata": {},
   "outputs": [
    {
     "data": {
      "text/plain": [
       "4.6"
      ]
     },
     "execution_count": 121,
     "metadata": {},
     "output_type": "execute_result"
    }
   ],
   "source": [
    "kısayol= nestedList[4][1]\n",
    "kısayol"
   ]
  },
  {
   "cell_type": "code",
   "execution_count": 149,
   "id": "c8994bdd-aa7b-4bd2-af50-f5902e5631c4",
   "metadata": {},
   "outputs": [],
   "source": [
    "karmasıkliste = [[1,2,3,[\"a\",\"b\"],50],40,20,[\"z\",5.5],[3,[\"a\"]],4,]"
   ]
  },
  {
   "cell_type": "code",
   "execution_count": 151,
   "id": "bff19d32-f5d9-4a5d-8ba7-e479a178e661",
   "metadata": {},
   "outputs": [
    {
     "data": {
      "text/plain": [
       "'b'"
      ]
     },
     "execution_count": 151,
     "metadata": {},
     "output_type": "execute_result"
    }
   ],
   "source": [
    "karmasıkliste[0][3][1]"
   ]
  },
  {
   "cell_type": "code",
   "execution_count": 153,
   "id": "8268ff3a-9217-4260-b300-5547fe8caa54",
   "metadata": {},
   "outputs": [
    {
     "data": {
      "text/plain": [
       "4"
      ]
     },
     "execution_count": 153,
     "metadata": {},
     "output_type": "execute_result"
    }
   ],
   "source": [
    "karmasıkliste[-1]"
   ]
  },
  {
   "cell_type": "code",
   "execution_count": 155,
   "id": "f26559f1-a0e1-43b5-8a17-e0b86ddb8eab",
   "metadata": {},
   "outputs": [
    {
     "data": {
      "text/plain": [
       "[3, 'atıl', [8, 4.6]]"
      ]
     },
     "execution_count": 155,
     "metadata": {},
     "output_type": "execute_result"
    }
   ],
   "source": [
    "nestedList[2:]"
   ]
  },
  {
   "cell_type": "code",
   "execution_count": 157,
   "id": "7ce6d534-a4d1-4939-8463-0ba026cd563d",
   "metadata": {},
   "outputs": [
    {
     "data": {
      "text/plain": [
       "[1, 2]"
      ]
     },
     "execution_count": 157,
     "metadata": {},
     "output_type": "execute_result"
    }
   ],
   "source": [
    "nestedList[:2]"
   ]
  },
  {
   "cell_type": "code",
   "execution_count": 163,
   "id": "10b5ea61-6281-4cbb-87f8-4582b4e5a96c",
   "metadata": {},
   "outputs": [
    {
     "data": {
      "text/plain": [
       "[1, 3, [8, 4.6]]"
      ]
     },
     "execution_count": 163,
     "metadata": {},
     "output_type": "execute_result"
    }
   ],
   "source": [
    "nestedList[0::2] #bir tane atlayarak getirmiş "
   ]
  },
  {
   "cell_type": "code",
   "execution_count": null,
   "id": "4e900f2e-5f78-4967-bc1c-afbc8e5c9fa3",
   "metadata": {},
   "outputs": [],
   "source": []
  }
 ],
 "metadata": {
  "kernelspec": {
   "display_name": "Python 3 (ipykernel)",
   "language": "python",
   "name": "python3"
  },
  "language_info": {
   "codemirror_mode": {
    "name": "ipython",
    "version": 3
   },
   "file_extension": ".py",
   "mimetype": "text/x-python",
   "name": "python",
   "nbconvert_exporter": "python",
   "pygments_lexer": "ipython3",
   "version": "3.11.7"
  }
 },
 "nbformat": 4,
 "nbformat_minor": 5
}
