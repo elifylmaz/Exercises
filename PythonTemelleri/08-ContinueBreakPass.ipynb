{
 "cells": [
  {
   "cell_type": "code",
   "execution_count": 3,
   "id": "8f4e5766-4e4c-4a8d-bbe4-6328325a256c",
   "metadata": {},
   "outputs": [],
   "source": [
    "Liste = [5,10,15,20,25,30,35]"
   ]
  },
  {
   "cell_type": "code",
   "execution_count": 5,
   "id": "4cfebd5f-5390-4c28-8fe5-b91a15132df0",
   "metadata": {},
   "outputs": [
    {
     "name": "stdout",
     "output_type": "stream",
     "text": [
      "1.0\n",
      "2.0\n",
      "3.0\n",
      "4.0\n",
      "5.0\n",
      "6.0\n",
      "7.0\n"
     ]
    }
   ],
   "source": [
    "for num in Liste:\n",
    "    print(num/5)"
   ]
  },
  {
   "cell_type": "code",
   "execution_count": 25,
   "id": "9a555d4f-609b-47ca-8d92-493f08acf86b",
   "metadata": {},
   "outputs": [
    {
     "name": "stdout",
     "output_type": "stream",
     "text": [
      "5\n",
      "10\n"
     ]
    }
   ],
   "source": [
    "for num in Liste:\n",
    "    if num == 15:\n",
    "        break ##Döngüyü bitirir\n",
    "    ##Burası ifin dışarısı    \n",
    "    print(num)    "
   ]
  },
  {
   "cell_type": "code",
   "execution_count": 31,
   "id": "048cfb2b-f1a9-46b4-a143-e64be3dc9543",
   "metadata": {},
   "outputs": [
    {
     "name": "stdout",
     "output_type": "stream",
     "text": [
      "5\n",
      "10\n",
      "20\n",
      "25\n",
      "30\n",
      "35\n"
     ]
    }
   ],
   "source": [
    "for num in Liste:\n",
    "    if num == 15:\n",
    "        continue\n",
    "   #15 değerini atladı ve forun başına döndü, altındaki diğer işlemler yapılmadı\n",
    "    print(num)  "
   ]
  },
  {
   "cell_type": "code",
   "execution_count": 35,
   "id": "2018704b-eccb-438a-8a78-76a40cfcc795",
   "metadata": {},
   "outputs": [],
   "source": [
    "##orada bir işlem yapmayacaksak ya da sonradan yazacaksak pass kullaanbiiriz \n",
    "## dikkate alma demek\n",
    "for num in Liste:\n",
    "    pass\n",
    "    "
   ]
  },
  {
   "cell_type": "code",
   "execution_count": null,
   "id": "fc55e24d-d568-45bf-b4ef-241f2bbf86fa",
   "metadata": {},
   "outputs": [],
   "source": []
  },
  {
   "cell_type": "code",
   "execution_count": null,
   "id": "5d4a1455-988c-4700-9824-fe998591bf80",
   "metadata": {},
   "outputs": [],
   "source": []
  },
  {
   "cell_type": "code",
   "execution_count": null,
   "id": "62eecea0-6c10-4c54-bb27-78ad7d859786",
   "metadata": {},
   "outputs": [],
   "source": []
  },
  {
   "cell_type": "code",
   "execution_count": null,
   "id": "dd283abe-6ba2-42d8-9644-bcb19a3b289d",
   "metadata": {},
   "outputs": [],
   "source": []
  },
  {
   "cell_type": "code",
   "execution_count": null,
   "id": "4d383a4d-af02-41fc-8570-7ffddcb5687b",
   "metadata": {},
   "outputs": [],
   "source": []
  },
  {
   "cell_type": "code",
   "execution_count": null,
   "id": "3d9beaa2-8bad-4ba8-9edc-b9ea34abd6d8",
   "metadata": {},
   "outputs": [],
   "source": []
  },
  {
   "cell_type": "code",
   "execution_count": null,
   "id": "343b5d0a-f788-4f9c-84c7-d1fc25bed971",
   "metadata": {},
   "outputs": [],
   "source": []
  },
  {
   "cell_type": "code",
   "execution_count": null,
   "id": "9aa5314d-539d-4030-8d68-df6974cd2360",
   "metadata": {},
   "outputs": [],
   "source": []
  },
  {
   "cell_type": "code",
   "execution_count": null,
   "id": "28cfb10f-998b-4b74-9904-d940bfc4ad10",
   "metadata": {},
   "outputs": [],
   "source": []
  },
  {
   "cell_type": "code",
   "execution_count": null,
   "id": "148bef72-779a-4b9c-a60c-f6e588f4e7e6",
   "metadata": {},
   "outputs": [],
   "source": []
  }
 ],
 "metadata": {
  "kernelspec": {
   "display_name": "Python 3 (ipykernel)",
   "language": "python",
   "name": "python3"
  },
  "language_info": {
   "codemirror_mode": {
    "name": "ipython",
    "version": 3
   },
   "file_extension": ".py",
   "mimetype": "text/x-python",
   "name": "python",
   "nbconvert_exporter": "python",
   "pygments_lexer": "ipython3",
   "version": "3.11.7"
  }
 },
 "nbformat": 4,
 "nbformat_minor": 5
}
