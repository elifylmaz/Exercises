{
 "cells": [
  {
   "cell_type": "code",
   "execution_count": 3,
   "id": "d2e2cce4-50f1-4bb1-abe1-ccde869b4d85",
   "metadata": {},
   "outputs": [],
   "source": [
    "#birden fazla veri tipini içiersinde barındırabilir = koleksiyon yapısı"
   ]
  },
  {
   "cell_type": "code",
   "execution_count": 9,
   "id": "f03e89bb-44f2-477f-8111-5571701db90d",
   "metadata": {},
   "outputs": [],
   "source": [
    "benimlistem = [1,2,3]"
   ]
  },
  {
   "cell_type": "code",
   "execution_count": 11,
   "id": "d461bae2-551a-49a6-90b6-7d4a845849f9",
   "metadata": {},
   "outputs": [
    {
     "data": {
      "text/plain": [
       "1"
      ]
     },
     "execution_count": 11,
     "metadata": {},
     "output_type": "execute_result"
    }
   ],
   "source": [
    "benimlistem[0]"
   ]
  },
  {
   "cell_type": "markdown",
   "id": "7e27b11d-f16b-40e3-b3a6-ff90ca3bf784",
   "metadata": {},
   "source": [
    "dictionary bu özellik var listeden en büyük farkı \n",
    "Key-value pairing ( anahtar kelime ve değer eşleşmesi)"
   ]
  },
  {
   "cell_type": "code",
   "execution_count": 18,
   "id": "2bcbf67d-df95-403c-b59e-cfff454e41c7",
   "metadata": {},
   "outputs": [],
   "source": [
    "benimYemeklerim = [\"Elma\",\"Karpuz\",\"Muz\"]"
   ]
  },
  {
   "cell_type": "code",
   "execution_count": 20,
   "id": "900a76ad-a179-4b25-b91a-c93b2818b9d2",
   "metadata": {},
   "outputs": [],
   "source": [
    "benimKalorilerim = [100,200,300]"
   ]
  },
  {
   "cell_type": "code",
   "execution_count": 22,
   "id": "5dab7661-b1d5-4450-9c65-516fad63b87a",
   "metadata": {},
   "outputs": [
    {
     "data": {
      "text/plain": [
       "'Karpuz'"
      ]
     },
     "execution_count": 22,
     "metadata": {},
     "output_type": "execute_result"
    }
   ],
   "source": [
    "benimYemeklerim[1]"
   ]
  },
  {
   "cell_type": "code",
   "execution_count": 24,
   "id": "36bfa3ac-5b96-4b1d-b0d3-27531c127760",
   "metadata": {},
   "outputs": [
    {
     "data": {
      "text/plain": [
       "200"
      ]
     },
     "execution_count": 24,
     "metadata": {},
     "output_type": "execute_result"
    }
   ],
   "source": [
    "benimKalorilerim[1]   #liste kullandık,mantıklı değil"
   ]
  },
  {
   "cell_type": "code",
   "execution_count": 29,
   "id": "a59347ae-c118-41d8-9a1a-7e17ea609bf8",
   "metadata": {},
   "outputs": [],
   "source": [
    "benimSozluk = {\"anahtarkelime\": \"deger\"}"
   ]
  },
  {
   "cell_type": "code",
   "execution_count": 31,
   "id": "91ce48c2-4a45-404e-b062-61b7c8e5b5d5",
   "metadata": {},
   "outputs": [
    {
     "data": {
      "text/plain": [
       "dict"
      ]
     },
     "execution_count": 31,
     "metadata": {},
     "output_type": "execute_result"
    }
   ],
   "source": [
    "type(benimSozluk)"
   ]
  },
  {
   "cell_type": "code",
   "execution_count": 33,
   "id": "65a098e7-8081-432a-af4c-cceadef750eb",
   "metadata": {},
   "outputs": [
    {
     "ename": "KeyError",
     "evalue": "0",
     "output_type": "error",
     "traceback": [
      "\u001b[0;31m---------------------------------------------------------------------------\u001b[0m",
      "\u001b[0;31mKeyError\u001b[0m                                  Traceback (most recent call last)",
      "Cell \u001b[0;32mIn[33], line 1\u001b[0m\n\u001b[0;32m----> 1\u001b[0m benimSozluk[\u001b[38;5;241m0\u001b[39m]\n",
      "\u001b[0;31mKeyError\u001b[0m: 0"
     ]
    }
   ],
   "source": [
    "benimSozluk[0] #Key error aldık"
   ]
  },
  {
   "cell_type": "code",
   "execution_count": 35,
   "id": "ba51ef44-1ddd-49af-acb3-87d97e45f3e4",
   "metadata": {},
   "outputs": [
    {
     "data": {
      "text/plain": [
       "'deger'"
      ]
     },
     "execution_count": 35,
     "metadata": {},
     "output_type": "execute_result"
    }
   ],
   "source": [
    "benimSozluk[\"anahtarkelime\"]"
   ]
  },
  {
   "cell_type": "code",
   "execution_count": 39,
   "id": "22f0f33f-342a-44a7-b54d-6c5b75113118",
   "metadata": {},
   "outputs": [],
   "source": [
    "yemekSozlugu = {\"elma\": 100, \"muz\":300}"
   ]
  },
  {
   "cell_type": "code",
   "execution_count": 41,
   "id": "94de4733-7c1a-43fd-b599-5e6372b0f28c",
   "metadata": {},
   "outputs": [
    {
     "data": {
      "text/plain": [
       "300"
      ]
     },
     "execution_count": 41,
     "metadata": {},
     "output_type": "execute_result"
    }
   ],
   "source": [
    "yemekSozlugu[\"muz\"]"
   ]
  },
  {
   "cell_type": "code",
   "execution_count": 45,
   "id": "17cb9bd0-65bc-463e-a4f2-e71b76162834",
   "metadata": {},
   "outputs": [],
   "source": [
    "yemekSozlugu[\"elma\"] = 150 #değerleri değiştirebiliriz"
   ]
  },
  {
   "cell_type": "code",
   "execution_count": 47,
   "id": "3c4f5ccf-db26-4a3d-9285-184d979a7d06",
   "metadata": {},
   "outputs": [
    {
     "data": {
      "text/plain": [
       "{'elma': 150, 'muz': 300}"
      ]
     },
     "execution_count": 47,
     "metadata": {},
     "output_type": "execute_result"
    }
   ],
   "source": [
    "yemekSozlugu"
   ]
  },
  {
   "cell_type": "code",
   "execution_count": 51,
   "id": "ea120784-414d-4d1a-bc9a-7c49f51d0956",
   "metadata": {},
   "outputs": [],
   "source": [
    "sozluk= {150:\"atıl\",-23:34}"
   ]
  },
  {
   "cell_type": "code",
   "execution_count": 53,
   "id": "af1ca9ee-bff7-469f-ba47-4f5d15905dbd",
   "metadata": {},
   "outputs": [
    {
     "data": {
      "text/plain": [
       "'atıl'"
      ]
     },
     "execution_count": 53,
     "metadata": {},
     "output_type": "execute_result"
    }
   ],
   "source": [
    "sozluk[150]"
   ]
  },
  {
   "cell_type": "code",
   "execution_count": 59,
   "id": "12a57fcd-8b5f-4413-98aa-00151e267505",
   "metadata": {},
   "outputs": [],
   "source": [
    "yenidict = {\"1\":100,\n",
    "         \"anahtar2\":[100,\"a\"],\n",
    "         \"anahtar3\" : {\"anahtar3.1\":\"wow\"},}\n"
   ]
  },
  {
   "cell_type": "code",
   "execution_count": 69,
   "id": "3cb5eac7-307e-4036-97c4-7f3c00bcc15e",
   "metadata": {},
   "outputs": [
    {
     "data": {
      "text/plain": [
       "'a'"
      ]
     },
     "execution_count": 69,
     "metadata": {},
     "output_type": "execute_result"
    }
   ],
   "source": [
    "yenidict[\"anahtar2\"][1]"
   ]
  },
  {
   "cell_type": "code",
   "execution_count": 63,
   "id": "04dc5a0d-7529-4536-926f-9a2b10c70622",
   "metadata": {},
   "outputs": [
    {
     "data": {
      "text/plain": [
       "'wow'"
      ]
     },
     "execution_count": 63,
     "metadata": {},
     "output_type": "execute_result"
    }
   ],
   "source": [
    "yenidict[\"anahtar3\"][\"anahtar3.1\"]"
   ]
  },
  {
   "cell_type": "code",
   "execution_count": 65,
   "id": "051ab53a-d1d1-48f2-b26c-8b29f3368a60",
   "metadata": {},
   "outputs": [
    {
     "data": {
      "text/plain": [
       "dict_keys(['1', 'anahtar2', 'anahtar3'])"
      ]
     },
     "execution_count": 65,
     "metadata": {},
     "output_type": "execute_result"
    }
   ],
   "source": [
    "yenidict.keys()"
   ]
  },
  {
   "cell_type": "code",
   "execution_count": 67,
   "id": "e06eee2d-31cc-4b06-be4f-687bd93c5004",
   "metadata": {},
   "outputs": [
    {
     "data": {
      "text/plain": [
       "dict_values([100, [100, 'a'], {'anahtar3.1': 'wow'}])"
      ]
     },
     "execution_count": 67,
     "metadata": {},
     "output_type": "execute_result"
    }
   ],
   "source": [
    "yenidict.values()"
   ]
  },
  {
   "cell_type": "code",
   "execution_count": null,
   "id": "dc6a8149-7659-481c-acdb-748f713b6efb",
   "metadata": {},
   "outputs": [],
   "source": []
  }
 ],
 "metadata": {
  "kernelspec": {
   "display_name": "Python 3 (ipykernel)",
   "language": "python",
   "name": "python3"
  },
  "language_info": {
   "codemirror_mode": {
    "name": "ipython",
    "version": 3
   },
   "file_extension": ".py",
   "mimetype": "text/x-python",
   "name": "python",
   "nbconvert_exporter": "python",
   "pygments_lexer": "ipython3",
   "version": "3.11.7"
  }
 },
 "nbformat": 4,
 "nbformat_minor": 5
}
