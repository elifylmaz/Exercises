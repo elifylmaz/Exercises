{
 "cells": [
  {
   "cell_type": "code",
   "execution_count": 3,
   "id": "ba90f88a-6a56-4315-8da6-6bc433673481",
   "metadata": {},
   "outputs": [],
   "source": [
    "benimListem = [10,20,30,40,50]"
   ]
  },
  {
   "cell_type": "code",
   "execution_count": 5,
   "id": "0a4f4d5d-8fcc-4935-8ad1-ae9c7d5699b2",
   "metadata": {},
   "outputs": [
    {
     "name": "stdout",
     "output_type": "stream",
     "text": [
      "var\n"
     ]
    }
   ],
   "source": [
    "if 10 in benimListem:\n",
    "    print(\"var\")"
   ]
  },
  {
   "cell_type": "code",
   "execution_count": 7,
   "id": "5b2648ba-3f28-40a7-b847-9233d76ef08f",
   "metadata": {},
   "outputs": [
    {
     "data": {
      "text/plain": [
       "33.333333333333336"
      ]
     },
     "execution_count": 7,
     "metadata": {},
     "output_type": "execute_result"
    }
   ],
   "source": [
    "benimListem[1] * 5 / 3 ##Bütün elemanlara aynı işlemi yapmak istiyoruz"
   ]
  },
  {
   "cell_type": "code",
   "execution_count": 13,
   "id": "1bcefa69-b6b0-4a4e-b0ff-f7f4b7931a52",
   "metadata": {},
   "outputs": [
    {
     "name": "stdout",
     "output_type": "stream",
     "text": [
      "döngü başladı\n",
      "16.666666666666668\n",
      "33.333333333333336\n",
      "50.0\n",
      "66.66666666666667\n",
      "83.33333333333333\n",
      "elemanlar bitti, döngüden çıkıldı\n"
     ]
    }
   ],
   "source": [
    "print(\"döngü başladı\")\n",
    "for numara in benimListem:\n",
    "    print(numara * 5 / 3) \n",
    "print(\"elemanlar bitti, döngüden çıkıldı\")    \n",
    "##numara burada oluşuyor, elemanları temsil eden bir değişken \n",
    "#listedeki bütün elemanlar sırası ile numara değişkenine atanıyor"
   ]
  },
  {
   "cell_type": "code",
   "execution_count": 15,
   "id": "ab016177-649c-440e-8d76-9765ed37c793",
   "metadata": {},
   "outputs": [
    {
     "name": "stdout",
     "output_type": "stream",
     "text": [
      "16.666666666666668\n",
      "33.333333333333336\n",
      "50.0\n",
      "66.66666666666667\n",
      "83.33333333333333\n"
     ]
    }
   ],
   "source": [
    "for num in benimListem:\n",
    "    yeninum = num * 5 / 3 \n",
    "    print(yeninum)"
   ]
  },
  {
   "cell_type": "code",
   "execution_count": 17,
   "id": "cf01f52e-3180-4877-bb9c-fa22baabcc80",
   "metadata": {},
   "outputs": [],
   "source": [
    "yeniListe = [1,2,3,4,5,6]"
   ]
  },
  {
   "cell_type": "code",
   "execution_count": 37,
   "id": "aed2b6b4-3310-4d6e-b415-0ee01bc7d6d1",
   "metadata": {},
   "outputs": [
    {
     "name": "stdout",
     "output_type": "stream",
     "text": [
      "1 tek sayı\n",
      "2 çift sayı \n",
      "3 tek sayı\n",
      "4 çift sayı \n",
      "5 tek sayı\n",
      "6 çift sayı \n"
     ]
    }
   ],
   "source": [
    "for rakam in yeniListe:\n",
    "    if rakam % 2 == 0:\n",
    "        print(rakam , \"çift sayı \") #burada tab var ise ifin içerisindedir.   \n",
    "    else:\n",
    "        print(rakam , \"tek sayı\")\n",
    "    "
   ]
  },
  {
   "cell_type": "code",
   "execution_count": 39,
   "id": "1e744bec-043f-4b6d-97c9-c57f387b0ab2",
   "metadata": {},
   "outputs": [
    {
     "name": "stdout",
     "output_type": "stream",
     "text": [
      "ifin içerisinde değil. \n",
      "2 çift sayı \n",
      "ifin içerisinde değil. \n",
      "ifin içerisinde değil. \n",
      "4 çift sayı \n",
      "ifin içerisinde değil. \n",
      "ifin içerisinde değil. \n",
      "6 çift sayı \n",
      "ifin içerisinde değil. \n"
     ]
    }
   ],
   "source": [
    "for rakam in yeniListe:\n",
    "    if rakam % 2 == 0:\n",
    "        print(rakam , \"çift sayı \") #burada tab var ise ifin içerisindedir.\n",
    "    print(\"ifin içerisinde değil. \")    \n",
    "   "
   ]
  },
  {
   "cell_type": "code",
   "execution_count": 43,
   "id": "2a521a99-fdb3-4f4f-a9d3-e181db672c15",
   "metadata": {},
   "outputs": [],
   "source": [
    "yeniString = \"Atıl Samancıoğlu\""
   ]
  },
  {
   "cell_type": "code",
   "execution_count": 45,
   "id": "4d7ce4e8-89c6-4267-b88a-bf51b57f77d1",
   "metadata": {},
   "outputs": [
    {
     "name": "stdout",
     "output_type": "stream",
     "text": [
      "A\n",
      "t\n",
      "ı\n",
      "l\n",
      " \n",
      "S\n",
      "a\n",
      "m\n",
      "a\n",
      "n\n",
      "c\n",
      "ı\n",
      "o\n",
      "ğ\n",
      "l\n",
      "u\n"
     ]
    }
   ],
   "source": [
    "for harf in yeniString:\n",
    "    print(harf)"
   ]
  },
  {
   "cell_type": "code",
   "execution_count": 47,
   "id": "4a77322f-20c8-4ef2-991f-a1888135e44f",
   "metadata": {},
   "outputs": [],
   "source": [
    "benimTuple = (1,2,3,4,5)"
   ]
  },
  {
   "cell_type": "code",
   "execution_count": 49,
   "id": "e6695e20-8937-400c-913e-69590429874c",
   "metadata": {},
   "outputs": [
    {
     "name": "stdout",
     "output_type": "stream",
     "text": [
      "-9\n",
      "-8\n",
      "-7\n",
      "-6\n",
      "-5\n"
     ]
    }
   ],
   "source": [
    "for eleman in benimTuple:\n",
    "    print(eleman -10)"
   ]
  },
  {
   "cell_type": "code",
   "execution_count": 53,
   "id": "66f8cbac-7944-4bc1-8556-0bef5dc230b9",
   "metadata": {},
   "outputs": [],
   "source": [
    "koordinatListesi = [(10.2,15.2),(32.4,16.2),(10.7,40.2)]"
   ]
  },
  {
   "cell_type": "code",
   "execution_count": 55,
   "id": "06ebb695-2c70-4620-9a57-11610afade60",
   "metadata": {},
   "outputs": [
    {
     "data": {
      "text/plain": [
       "list"
      ]
     },
     "execution_count": 55,
     "metadata": {},
     "output_type": "execute_result"
    }
   ],
   "source": [
    "type(koordinatListesi)"
   ]
  },
  {
   "cell_type": "code",
   "execution_count": 57,
   "id": "dda5980d-c715-4a72-a0d5-4589d120e16a",
   "metadata": {},
   "outputs": [
    {
     "data": {
      "text/plain": [
       "tuple"
      ]
     },
     "execution_count": 57,
     "metadata": {},
     "output_type": "execute_result"
    }
   ],
   "source": [
    "type(koordinatListesi[1])"
   ]
  },
  {
   "cell_type": "code",
   "execution_count": 59,
   "id": "74d0a61d-a279-4874-8d51-42262f104d2c",
   "metadata": {},
   "outputs": [
    {
     "name": "stdout",
     "output_type": "stream",
     "text": [
      "15.2\n",
      "16.2\n",
      "40.2\n"
     ]
    }
   ],
   "source": [
    "for eleman in koordinatListesi:\n",
    "    print(eleman[1])"
   ]
  },
  {
   "cell_type": "code",
   "execution_count": 63,
   "id": "c9993be8-2c72-4213-80e7-0f700ce0d3e8",
   "metadata": {},
   "outputs": [
    {
     "name": "stdout",
     "output_type": "stream",
     "text": [
      "10.2\n",
      "32.4\n",
      "10.7\n"
     ]
    }
   ],
   "source": [
    "for (x,y) in koordinatListesi:\n",
    "    print(x)\n"
   ]
  },
  {
   "cell_type": "code",
   "execution_count": 65,
   "id": "c11206b7-8fc1-4257-886d-e868f9c976ae",
   "metadata": {},
   "outputs": [],
   "source": [
    "GaripListe = [(1,2,3),(4,5,6),(7,8,9)]"
   ]
  },
  {
   "cell_type": "code",
   "execution_count": 67,
   "id": "ede0d126-18ca-4062-a660-a6f07c5350fe",
   "metadata": {},
   "outputs": [
    {
     "name": "stdout",
     "output_type": "stream",
     "text": [
      "3 2\n",
      "6 5\n",
      "9 8\n"
     ]
    }
   ],
   "source": [
    "for (x,y,z) in GaripListe:\n",
    "    print(z,y)\n",
    "    "
   ]
  },
  {
   "cell_type": "code",
   "execution_count": 69,
   "id": "1745cb41-e9b6-42bf-8e68-5f59c594e6a0",
   "metadata": {},
   "outputs": [],
   "source": [
    "benimSozluk = {\"muz\":100, \"elma\":150, \"karpuz\": 500}"
   ]
  },
  {
   "cell_type": "code",
   "execution_count": 73,
   "id": "092a6549-0675-41e4-8468-ddbb0922ff85",
   "metadata": {},
   "outputs": [
    {
     "data": {
      "text/plain": [
       "dict_items"
      ]
     },
     "execution_count": 73,
     "metadata": {},
     "output_type": "execute_result"
    }
   ],
   "source": [
    "type(benimSozluk.items())"
   ]
  },
  {
   "cell_type": "code",
   "execution_count": 75,
   "id": "6b3b6ed2-99e0-4e5a-bd6b-b518791ebbad",
   "metadata": {},
   "outputs": [
    {
     "data": {
      "text/plain": [
       "dict_items([('muz', 100), ('elma', 150), ('karpuz', 500)])"
      ]
     },
     "execution_count": 75,
     "metadata": {},
     "output_type": "execute_result"
    }
   ],
   "source": [
    "benimSozluk.items() ##tuple benziyor aynıı"
   ]
  },
  {
   "cell_type": "code",
   "execution_count": 77,
   "id": "92c205b6-35bd-4456-a5cb-a549ca078ec0",
   "metadata": {},
   "outputs": [
    {
     "name": "stdout",
     "output_type": "stream",
     "text": [
      "100\n",
      "150\n",
      "500\n"
     ]
    }
   ],
   "source": [
    "for (anahtar,deger) in benimSozluk.items():\n",
    "    print(deger)"
   ]
  },
  {
   "cell_type": "code",
   "execution_count": null,
   "id": "c3a332b4-92fd-41cd-8d77-6dbccf24ee67",
   "metadata": {},
   "outputs": [],
   "source": []
  }
 ],
 "metadata": {
  "kernelspec": {
   "display_name": "Python 3 (ipykernel)",
   "language": "python",
   "name": "python3"
  },
  "language_info": {
   "codemirror_mode": {
    "name": "ipython",
    "version": 3
   },
   "file_extension": ".py",
   "mimetype": "text/x-python",
   "name": "python",
   "nbconvert_exporter": "python",
   "pygments_lexer": "ipython3",
   "version": "3.11.7"
  }
 },
 "nbformat": 4,
 "nbformat_minor": 5
}
