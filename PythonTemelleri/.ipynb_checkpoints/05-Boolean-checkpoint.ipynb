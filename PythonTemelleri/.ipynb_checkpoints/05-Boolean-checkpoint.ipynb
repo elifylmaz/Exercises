{
 "cells": [
  {
   "cell_type": "code",
   "execution_count": 2,
   "id": "0b85775f-708c-481d-87b3-8bb541b77457",
   "metadata": {},
   "outputs": [],
   "source": [
    "benimBool = True"
   ]
  },
  {
   "cell_type": "code",
   "execution_count": 4,
   "id": "e51d5f24-40e7-4a22-958c-069cada3666f",
   "metadata": {},
   "outputs": [
    {
     "data": {
      "text/plain": [
       "bool"
      ]
     },
     "execution_count": 4,
     "metadata": {},
     "output_type": "execute_result"
    }
   ],
   "source": [
    "type(benimBool)"
   ]
  },
  {
   "cell_type": "code",
   "execution_count": 8,
   "id": "de9ff072-886f-4fa5-a6c5-8998f1239559",
   "metadata": {},
   "outputs": [],
   "source": [
    "x= 10<5"
   ]
  },
  {
   "cell_type": "code",
   "execution_count": 10,
   "id": "a03fbcec-666b-47b2-8170-3b95e7c1b990",
   "metadata": {},
   "outputs": [
    {
     "data": {
      "text/plain": [
       "bool"
      ]
     },
     "execution_count": 10,
     "metadata": {},
     "output_type": "execute_result"
    }
   ],
   "source": [
    "type(x)  #boolean veritipidir ve genelde kontrol amaçlı kullanılır , büyük mü ? eşit mi ? gibi.."
   ]
  },
  {
   "cell_type": "code",
   "execution_count": 12,
   "id": "ccb94c56-d05b-4e04-b716-9f9752b6e55b",
   "metadata": {},
   "outputs": [],
   "source": [
    "listem = [5000,10000,3000,1000,2000,4000]"
   ]
  },
  {
   "cell_type": "code",
   "execution_count": 14,
   "id": "efbb386f-6a78-4431-9143-c150259c1d2f",
   "metadata": {},
   "outputs": [
    {
     "data": {
      "text/plain": [
       "6"
      ]
     },
     "execution_count": 14,
     "metadata": {},
     "output_type": "execute_result"
    }
   ],
   "source": [
    "len(listem)"
   ]
  },
  {
   "cell_type": "code",
   "execution_count": 29,
   "id": "3b4fbbd8-46ff-4698-a462-3540f4e553c2",
   "metadata": {},
   "outputs": [],
   "source": [
    "ort= sum(listem)/len(listem) # ort değeri verir"
   ]
  },
  {
   "cell_type": "code",
   "execution_count": 33,
   "id": "889a01da-3bd4-400c-ba65-72ae52cf68a8",
   "metadata": {},
   "outputs": [
    {
     "data": {
      "text/plain": [
       "True"
      ]
     },
     "execution_count": 33,
     "metadata": {},
     "output_type": "execute_result"
    }
   ],
   "source": [
    "listem[3] < ort # bu maş ortalamanın altında mı ? true."
   ]
  },
  {
   "cell_type": "code",
   "execution_count": 35,
   "id": "ed5f9a00-fb22-4448-ade7-dc9a3177bffa",
   "metadata": {},
   "outputs": [
    {
     "name": "stdin",
     "output_type": "stream",
     "text": [
      "Maaş Bilgisi:  60000\n"
     ]
    }
   ],
   "source": [
    "kullanicimaas = input (\"Maaş Bilgisi: \")"
   ]
  },
  {
   "cell_type": "code",
   "execution_count": 37,
   "id": "e7eced4c-f9b3-45ab-8401-e89726118e74",
   "metadata": {},
   "outputs": [
    {
     "ename": "TypeError",
     "evalue": "'>' not supported between instances of 'str' and 'int'",
     "output_type": "error",
     "traceback": [
      "\u001b[0;31m---------------------------------------------------------------------------\u001b[0m",
      "\u001b[0;31mTypeError\u001b[0m                                 Traceback (most recent call last)",
      "Cell \u001b[0;32mIn[37], line 1\u001b[0m\n\u001b[0;32m----> 1\u001b[0m kullanicimaas  \u001b[38;5;241m>\u001b[39m \u001b[38;5;241m6000\u001b[39m\n",
      "\u001b[0;31mTypeError\u001b[0m: '>' not supported between instances of 'str' and 'int'"
     ]
    }
   ],
   "source": [
    "kullanicimaas  > 6000 #hata veriyor çünkü input, str tipinde veri alır "
   ]
  },
  {
   "cell_type": "code",
   "execution_count": 39,
   "id": "64b72879-ff4b-47ef-95e9-d2490a1f1016",
   "metadata": {},
   "outputs": [
    {
     "data": {
      "text/plain": [
       "str"
      ]
     },
     "execution_count": 39,
     "metadata": {},
     "output_type": "execute_result"
    }
   ],
   "source": [
    "type(kullanicimaas)"
   ]
  },
  {
   "cell_type": "code",
   "execution_count": 41,
   "id": "1990e281-26b9-41e4-8197-1ac1e2493f4b",
   "metadata": {},
   "outputs": [],
   "source": [
    "kullanicimaasİnt = int(kullanicimaas)"
   ]
  },
  {
   "cell_type": "code",
   "execution_count": 43,
   "id": "ac3c3091-b882-4b2c-be6d-5d2d97bbb624",
   "metadata": {},
   "outputs": [
    {
     "data": {
      "text/plain": [
       "True"
      ]
     },
     "execution_count": 43,
     "metadata": {},
     "output_type": "execute_result"
    }
   ],
   "source": [
    "kullanicimaasİnt > ort #ikiside int oldu çalıştı."
   ]
  },
  {
   "cell_type": "markdown",
   "id": "acc6a818-a7a9-4a5b-ade2-1194e92e1efb",
   "metadata": {},
   "source": [
    "##KIYASLAMALAR"
   ]
  },
  {
   "cell_type": "code",
   "execution_count": 12,
   "id": "c310bcd7-dca2-4cd0-a63c-3027a7c0e7e2",
   "metadata": {},
   "outputs": [],
   "source": [
    "x=10\n",
    "y=8"
   ]
  },
  {
   "cell_type": "code",
   "execution_count": 14,
   "id": "c1907630-0a56-47b7-9b3a-3f8cbe5605ab",
   "metadata": {},
   "outputs": [
    {
     "data": {
      "text/plain": [
       "True"
      ]
     },
     "execution_count": 14,
     "metadata": {},
     "output_type": "execute_result"
    }
   ],
   "source": [
    "x > y"
   ]
  },
  {
   "cell_type": "code",
   "execution_count": 16,
   "id": "e406ea77-1c48-4e84-b8ab-3eb203ae9c45",
   "metadata": {},
   "outputs": [
    {
     "data": {
      "text/plain": [
       "False"
      ]
     },
     "execution_count": 16,
     "metadata": {},
     "output_type": "execute_result"
    }
   ],
   "source": [
    "x < y"
   ]
  },
  {
   "cell_type": "code",
   "execution_count": 18,
   "id": "745070e1-c6cf-4d25-824d-9bb000b5d6e1",
   "metadata": {},
   "outputs": [
    {
     "data": {
      "text/plain": [
       "True"
      ]
     },
     "execution_count": 18,
     "metadata": {},
     "output_type": "execute_result"
    }
   ],
   "source": [
    "9 >= 9"
   ]
  },
  {
   "cell_type": "code",
   "execution_count": 24,
   "id": "df22c67d-825f-4546-839a-2d25a71213aa",
   "metadata": {},
   "outputs": [
    {
     "data": {
      "text/plain": [
       "True"
      ]
     },
     "execution_count": 24,
     "metadata": {},
     "output_type": "execute_result"
    }
   ],
   "source": [
    "9 <= 9"
   ]
  },
  {
   "cell_type": "code",
   "execution_count": 28,
   "id": "3b53632f-4ab1-4ee5-b9a1-3c9dd55092fd",
   "metadata": {},
   "outputs": [
    {
     "data": {
      "text/plain": [
       "False"
      ]
     },
     "execution_count": 28,
     "metadata": {},
     "output_type": "execute_result"
    }
   ],
   "source": [
    "x == y ## = eşitler, == eşit mi ? kontorlü sağlar.."
   ]
  },
  {
   "cell_type": "code",
   "execution_count": 30,
   "id": "cf5d024a-5501-44bf-a59e-54b008c938ec",
   "metadata": {},
   "outputs": [
    {
     "data": {
      "text/plain": [
       "True"
      ]
     },
     "execution_count": 30,
     "metadata": {},
     "output_type": "execute_result"
    }
   ],
   "source": [
    "x != y"
   ]
  },
  {
   "cell_type": "code",
   "execution_count": 44,
   "id": "811a0d91-2632-45c3-b2b8-c5d745caa206",
   "metadata": {},
   "outputs": [
    {
     "data": {
      "text/plain": [
       "True"
      ]
     },
     "execution_count": 44,
     "metadata": {},
     "output_type": "execute_result"
    }
   ],
   "source": [
    "3 > 1 and 3 > 2 # iki taraf da doğru ise TRUE"
   ]
  },
  {
   "cell_type": "code",
   "execution_count": 46,
   "id": "53c1749d-0ae2-4752-985c-b6acb0ae7f99",
   "metadata": {},
   "outputs": [
    {
     "data": {
      "text/plain": [
       "True"
      ]
     },
     "execution_count": 46,
     "metadata": {},
     "output_type": "execute_result"
    }
   ],
   "source": [
    "1 > 3 or 5 > 3 # bir taraf doğru ise TRUE , iki taraf da doğru ise TRUE"
   ]
  },
  {
   "cell_type": "code",
   "execution_count": 48,
   "id": "cc4f5db6-1b98-4a02-ac55-3dca941235ff",
   "metadata": {},
   "outputs": [
    {
     "data": {
      "text/plain": [
       "True"
      ]
     },
     "execution_count": 48,
     "metadata": {},
     "output_type": "execute_result"
    }
   ],
   "source": [
    "not 5 == 4 #not olumsuz demek"
   ]
  },
  {
   "cell_type": "code",
   "execution_count": null,
   "id": "98a93531-6abe-4ab5-b460-9df3d44d8bdb",
   "metadata": {},
   "outputs": [],
   "source": []
  }
 ],
 "metadata": {
  "kernelspec": {
   "display_name": "Python 3 (ipykernel)",
   "language": "python",
   "name": "python3"
  },
  "language_info": {
   "codemirror_mode": {
    "name": "ipython",
    "version": 3
   },
   "file_extension": ".py",
   "mimetype": "text/x-python",
   "name": "python",
   "nbconvert_exporter": "python",
   "pygments_lexer": "ipython3",
   "version": "3.11.7"
  }
 },
 "nbformat": 4,
 "nbformat_minor": 5
}
