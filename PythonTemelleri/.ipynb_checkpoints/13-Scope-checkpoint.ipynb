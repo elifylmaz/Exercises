{
 "cells": [
  {
   "cell_type": "markdown",
   "id": "ade44b3e-fd93-4f96-a46f-6924139fcfa2",
   "metadata": {},
   "source": [
    "## Scope \n",
    "kapsamdır."
   ]
  },
  {
   "cell_type": "code",
   "execution_count": 10,
   "id": "ef375210-5934-4519-a967-6ac05c85c750",
   "metadata": {},
   "outputs": [],
   "source": [
    "numara = 20 \n",
    "\n",
    "def carpma (rakam):\n",
    "    numara = 10\n",
    "    return numara * rakam "
   ]
  },
  {
   "cell_type": "code",
   "execution_count": 12,
   "id": "a87a7234-9bc9-48de-a48b-42bcce4e58ba",
   "metadata": {},
   "outputs": [
    {
     "data": {
      "text/plain": [
       "30"
      ]
     },
     "execution_count": 12,
     "metadata": {},
     "output_type": "execute_result"
    }
   ],
   "source": [
    "carpma(3) # 10*3 Buradaki numara fonksiyonun scopeu içindedir."
   ]
  },
  {
   "cell_type": "code",
   "execution_count": 14,
   "id": "d555b3f3-5c55-4398-9833-beff6cc20c96",
   "metadata": {},
   "outputs": [
    {
     "data": {
      "text/plain": [
       "200"
      ]
     },
     "execution_count": 14,
     "metadata": {},
     "output_type": "execute_result"
    }
   ],
   "source": [
    "carpma (numara) # 20*10 Buradaki numara ilk tanımlanan numara farklı kapsamdadır."
   ]
  },
  {
   "cell_type": "markdown",
   "id": "afd7be2c-5fcd-468e-9214-aae0b5dd5abc",
   "metadata": {},
   "source": [
    "## Local, Enclosing, Global, Built-In"
   ]
  },
  {
   "cell_type": "markdown",
   "id": "7413740a-7be7-4e4a-98ee-fbe232746d78",
   "metadata": {},
   "source": [
    "LEGB model denebiliyor. Bu model ne işe yarar?\n",
    "\n",
    "locale bakıyor orada yoksa enclosing orada yoksa global bakıyor burada da yoksa pythona bakıyor\n",
    "\n",
    "içeriden dışarıya doğru bakıyor\n",
    "\n",
    "\n"
   ]
  },
  {
   "cell_type": "code",
   "execution_count": 27,
   "id": "7893a63c-26ef-43e0-88a5-586e33d56d41",
   "metadata": {},
   "outputs": [],
   "source": [
    "benimAdım = \"Atıl\"\n",
    "#global değişken\n",
    "\n",
    "def benimFonksiyonum ():\n",
    "    benimAdim = \"Mahmut\"\n",
    "    #Enclosing\n",
    "    print(benimAdim)\n",
    "    def icFonksiyon():\n",
    "        benimAdim = \"Ayşe\"\n",
    "        #Local\n",
    "        print(benimAdim)\n",
    "    icFonksiyon()    \n",
    "\n"
   ]
  },
  {
   "cell_type": "code",
   "execution_count": 29,
   "id": "9adfc2d3-5da5-4268-a05c-37419ff2fc7e",
   "metadata": {},
   "outputs": [
    {
     "name": "stdout",
     "output_type": "stream",
     "text": [
      "Mahmut\n",
      "Ayşe\n"
     ]
    }
   ],
   "source": [
    "benimFonksiyonum()"
   ]
  },
  {
   "cell_type": "code",
   "execution_count": 31,
   "id": "f17a000c-fe3b-4b23-88ac-cb87b6225a73",
   "metadata": {},
   "outputs": [
    {
     "name": "stdout",
     "output_type": "stream",
     "text": [
      "Atıl\n"
     ]
    }
   ],
   "source": [
    "print(benimAdım)"
   ]
  },
  {
   "cell_type": "code",
   "execution_count": 33,
   "id": "566ee56e-6207-4cc3-8298-ab68f03fa4c7",
   "metadata": {},
   "outputs": [],
   "source": [
    "y = 10 \n",
    "\n",
    "def yeniFonksiyon (y):\n",
    "    print(y)\n",
    "    y=5\n",
    "    print(y)\n",
    "    return y\n",
    "    "
   ]
  },
  {
   "cell_type": "code",
   "execution_count": 35,
   "id": "e2972aa7-6ea5-4311-b801-c16f4abef37d",
   "metadata": {},
   "outputs": [
    {
     "name": "stdout",
     "output_type": "stream",
     "text": [
      "70\n",
      "5\n"
     ]
    },
    {
     "data": {
      "text/plain": [
       "5"
      ]
     },
     "execution_count": 35,
     "metadata": {},
     "output_type": "execute_result"
    }
   ],
   "source": [
    "yeniFonksiyon(70)"
   ]
  },
  {
   "cell_type": "code",
   "execution_count": 37,
   "id": "5129a679-4ac4-4d05-8b60-5333f791359e",
   "metadata": {},
   "outputs": [
    {
     "data": {
      "text/plain": [
       "10"
      ]
     },
     "execution_count": 37,
     "metadata": {},
     "output_type": "execute_result"
    }
   ],
   "source": [
    "y"
   ]
  },
  {
   "cell_type": "code",
   "execution_count": 39,
   "id": "b06bc068-0e82-4c58-914f-7a708a252867",
   "metadata": {},
   "outputs": [
    {
     "name": "stdout",
     "output_type": "stream",
     "text": [
      "40\n",
      "5\n"
     ]
    }
   ],
   "source": [
    "y = yeniFonksiyon(40) #global olanı değiştirdik. çünkü fonksiyonumuzda return var olmasa değiştiremezdik."
   ]
  },
  {
   "cell_type": "code",
   "execution_count": 41,
   "id": "8dc3c682-a43c-4b88-aff0-5884811f9320",
   "metadata": {},
   "outputs": [
    {
     "data": {
      "text/plain": [
       "5"
      ]
     },
     "execution_count": 41,
     "metadata": {},
     "output_type": "execute_result"
    }
   ],
   "source": [
    "y"
   ]
  },
  {
   "cell_type": "code",
   "execution_count": 43,
   "id": "bb9448c4-238f-48f9-b9de-4688d4f84890",
   "metadata": {},
   "outputs": [],
   "source": [
    "y = 10 \n",
    "def ornekFonk ():\n",
    "    global y\n",
    "    y=34\n",
    "    print(y)"
   ]
  },
  {
   "cell_type": "code",
   "execution_count": 45,
   "id": "43176694-6f52-43f3-adde-092156af9126",
   "metadata": {},
   "outputs": [
    {
     "name": "stdout",
     "output_type": "stream",
     "text": [
      "34\n"
     ]
    }
   ],
   "source": [
    "ornekFonk()"
   ]
  },
  {
   "cell_type": "markdown",
   "id": "79f0fe3e-cff3-4629-88b6-952d1d588e94",
   "metadata": {},
   "source": [
    "## üst taraftaki bir şeyi değiştirmek için global tanımını kullanbilirsin."
   ]
  },
  {
   "cell_type": "code",
   "execution_count": 50,
   "id": "c2132b8a-a5f8-486d-aa5e-5b537bc02a15",
   "metadata": {},
   "outputs": [
    {
     "data": {
      "text/plain": [
       "34"
      ]
     },
     "execution_count": 50,
     "metadata": {},
     "output_type": "execute_result"
    }
   ],
   "source": [
    "y"
   ]
  },
  {
   "cell_type": "code",
   "execution_count": null,
   "id": "e010a1cb-01d5-4e09-8828-396fde52971a",
   "metadata": {},
   "outputs": [],
   "source": []
  }
 ],
 "metadata": {
  "kernelspec": {
   "display_name": "Python 3 (ipykernel)",
   "language": "python",
   "name": "python3"
  },
  "language_info": {
   "codemirror_mode": {
    "name": "ipython",
    "version": 3
   },
   "file_extension": ".py",
   "mimetype": "text/x-python",
   "name": "python",
   "nbconvert_exporter": "python",
   "pygments_lexer": "ipython3",
   "version": "3.11.7"
  }
 },
 "nbformat": 4,
 "nbformat_minor": 5
}
