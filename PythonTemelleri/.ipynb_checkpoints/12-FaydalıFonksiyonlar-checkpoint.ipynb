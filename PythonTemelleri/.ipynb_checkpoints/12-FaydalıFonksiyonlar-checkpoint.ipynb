{
 "cells": [
  {
   "cell_type": "code",
   "execution_count": 3,
   "id": "7dd292fc-6dad-4e07-ad65-08599f13a5a8",
   "metadata": {},
   "outputs": [],
   "source": [
    "def bolmeIslemi (num):\n",
    "    return num / 2"
   ]
  },
  {
   "cell_type": "code",
   "execution_count": 5,
   "id": "00a7d912-92fe-438f-a9a6-969ae527dba0",
   "metadata": {},
   "outputs": [
    {
     "data": {
      "text/plain": [
       "10.0"
      ]
     },
     "execution_count": 5,
     "metadata": {},
     "output_type": "execute_result"
    }
   ],
   "source": [
    "bolmeIslemi(20) "
   ]
  },
  {
   "cell_type": "code",
   "execution_count": 13,
   "id": "64fdda5b-0f9a-409e-9a00-81f89d045c7c",
   "metadata": {},
   "outputs": [],
   "source": [
    "benimListem=list(range(1,11))"
   ]
  },
  {
   "cell_type": "code",
   "execution_count": 25,
   "id": "381a82b1-a97a-44bb-9ed0-3bd5df896d67",
   "metadata": {},
   "outputs": [
    {
     "data": {
      "text/plain": [
       "[1, 2, 3, 4, 5, 6, 7, 8, 9, 10]"
      ]
     },
     "execution_count": 25,
     "metadata": {},
     "output_type": "execute_result"
    }
   ],
   "source": [
    "benimListem"
   ]
  },
  {
   "cell_type": "code",
   "execution_count": 27,
   "id": "4489dd5a-f1ce-47fa-82cc-0c67201438cb",
   "metadata": {},
   "outputs": [],
   "source": [
    "yeniListe= []\n",
    "for eleman in benimListem:\n",
    "   yeniListe.append(bolmeIslemi(eleman))"
   ]
  },
  {
   "cell_type": "code",
   "execution_count": 29,
   "id": "a4020c63-e12d-4e55-ba2d-6605dd0a054d",
   "metadata": {},
   "outputs": [
    {
     "data": {
      "text/plain": [
       "[0.5, 1.0, 1.5, 2.0, 2.5, 3.0, 3.5, 4.0, 4.5, 5.0]"
      ]
     },
     "execution_count": 29,
     "metadata": {},
     "output_type": "execute_result"
    }
   ],
   "source": [
    "yeniListe"
   ]
  },
  {
   "cell_type": "markdown",
   "id": "e5ded5b7-58c3-488a-9166-431bcc0b7211",
   "metadata": {},
   "source": [
    "## MAP \n",
    " bir liste ya da demet gibi iterasyon yapılabilir veri türlerinin her bir verisini bir fonksiyona tek tek parametre olarak göndermek için kullanılır"
   ]
  },
  {
   "cell_type": "code",
   "execution_count": 33,
   "id": "a67d6396-7e6f-4b3b-b4d7-082f4080d334",
   "metadata": {},
   "outputs": [
    {
     "data": {
      "text/plain": [
       "<map at 0x17f3c7d60>"
      ]
     },
     "execution_count": 33,
     "metadata": {},
     "output_type": "execute_result"
    }
   ],
   "source": [
    "map(bolmeIslemi,benimListem)"
   ]
  },
  {
   "cell_type": "code",
   "execution_count": 35,
   "id": "90ee8ed1-da31-47e4-b4fd-abfa0f1f81ad",
   "metadata": {},
   "outputs": [
    {
     "data": {
      "text/plain": [
       "[0.5, 1.0, 1.5, 2.0, 2.5, 3.0, 3.5, 4.0, 4.5, 5.0]"
      ]
     },
     "execution_count": 35,
     "metadata": {},
     "output_type": "execute_result"
    }
   ],
   "source": [
    "list(map(bolmeIslemi,benimListem)) #bir listeye bir fonksiyon ile işlem uyguladıktan sonra yeni listeyi veriyor"
   ]
  },
  {
   "cell_type": "code",
   "execution_count": 38,
   "id": "99bc72cb-efc1-4f64-990c-f9dccc5dc814",
   "metadata": {},
   "outputs": [],
   "source": [
    "def kontrolFonksiyonu (string):\n",
    "    return \"a\" in string "
   ]
  },
  {
   "cell_type": "code",
   "execution_count": 40,
   "id": "dd9eba22-12f7-433b-a82a-49c6fd8e4215",
   "metadata": {},
   "outputs": [
    {
     "data": {
      "text/plain": [
       "True"
      ]
     },
     "execution_count": 40,
     "metadata": {},
     "output_type": "execute_result"
    }
   ],
   "source": [
    "\"a\" in \"atıl\""
   ]
  },
  {
   "cell_type": "code",
   "execution_count": 42,
   "id": "457578e5-5765-4e9b-acf3-d94351c3fd77",
   "metadata": {},
   "outputs": [
    {
     "data": {
      "text/plain": [
       "True"
      ]
     },
     "execution_count": 42,
     "metadata": {},
     "output_type": "execute_result"
    }
   ],
   "source": [
    "kontrolFonksiyonu(\"atıl\")"
   ]
  },
  {
   "cell_type": "code",
   "execution_count": 44,
   "id": "776f547c-bb7a-4fec-834c-6ed109584ce6",
   "metadata": {},
   "outputs": [
    {
     "data": {
      "text/plain": [
       "False"
      ]
     },
     "execution_count": 44,
     "metadata": {},
     "output_type": "execute_result"
    }
   ],
   "source": [
    "kontrolFonksiyonu(\"zeynep\")"
   ]
  },
  {
   "cell_type": "code",
   "execution_count": 46,
   "id": "e05ff848-cfc8-462d-b5af-ae8fa575bb65",
   "metadata": {},
   "outputs": [],
   "source": [
    "stringListesi = [\"atıl\",\"samancıoğlu\",\"atlas\",\"zeynep\",\"mehmet\",\"ahmet\",\"levent\"]"
   ]
  },
  {
   "cell_type": "code",
   "execution_count": 48,
   "id": "21434f66-432e-4283-b8bb-f57bc46fd835",
   "metadata": {},
   "outputs": [
    {
     "data": {
      "text/plain": [
       "[True, True, True, False, False, True, False]"
      ]
     },
     "execution_count": 48,
     "metadata": {},
     "output_type": "execute_result"
    }
   ],
   "source": [
    "list(map(kontrolFonksiyonu,stringListesi))"
   ]
  },
  {
   "cell_type": "code",
   "execution_count": 50,
   "id": "5f408135-a35a-401b-b9ef-19b24d0403a6",
   "metadata": {},
   "outputs": [],
   "source": [
    "sonuc = list(map(kontrolFonksiyonu,stringListesi))"
   ]
  },
  {
   "cell_type": "code",
   "execution_count": 52,
   "id": "0de41da7-9403-4c0d-b644-a8fb0c3fcbc4",
   "metadata": {},
   "outputs": [
    {
     "data": {
      "text/plain": [
       "3"
      ]
     },
     "execution_count": 52,
     "metadata": {},
     "output_type": "execute_result"
    }
   ],
   "source": [
    "sonuc.count(False)"
   ]
  },
  {
   "cell_type": "markdown",
   "id": "b03b9179-f958-434a-b120-db061fcffaed",
   "metadata": {},
   "source": [
    "## Filter"
   ]
  },
  {
   "cell_type": "code",
   "execution_count": 56,
   "id": "740b0c69-ac6d-46f9-ad96-76025801653f",
   "metadata": {},
   "outputs": [
    {
     "data": {
      "text/plain": [
       "['atıl', 'samancıoğlu', 'atlas', 'ahmet']"
      ]
     },
     "execution_count": 56,
     "metadata": {},
     "output_type": "execute_result"
    }
   ],
   "source": [
    "#Sadece True olanları gösteriyor\n",
    "list(filter(kontrolFonksiyonu,stringListesi))"
   ]
  },
  {
   "cell_type": "markdown",
   "id": "3eac78c5-250f-44ed-acb2-089c976c8838",
   "metadata": {},
   "source": [
    "## Lambda"
   ]
  },
  {
   "cell_type": "code",
   "execution_count": 59,
   "id": "cb975355-33e1-4ad8-8e78-0d1d460f5c97",
   "metadata": {},
   "outputs": [],
   "source": [
    "#fonksiyonları tek satırda yazdırıyor\n",
    "#sonradan bir daha kullanmayacak isen böyle kullanman mantıklı olabilir\n",
    "carpma = lambda numara: numara * 3"
   ]
  },
  {
   "cell_type": "code",
   "execution_count": 61,
   "id": "80a00fc3-3abc-4a3c-b8ab-0b59de221d14",
   "metadata": {},
   "outputs": [
    {
     "data": {
      "text/plain": [
       "30"
      ]
     },
     "execution_count": 61,
     "metadata": {},
     "output_type": "execute_result"
    }
   ],
   "source": [
    "carpma(10)"
   ]
  },
  {
   "cell_type": "code",
   "execution_count": 63,
   "id": "06e2575a-b54c-48bf-a16e-50f7d58e7aa0",
   "metadata": {},
   "outputs": [],
   "source": [
    "orneklist = [10,20,30]"
   ]
  },
  {
   "cell_type": "code",
   "execution_count": 65,
   "id": "d4f79d11-1747-4e6a-aee3-cb7d893d54f2",
   "metadata": {},
   "outputs": [
    {
     "data": {
      "text/plain": [
       "[40, 80, 120]"
      ]
     },
     "execution_count": 65,
     "metadata": {},
     "output_type": "execute_result"
    }
   ],
   "source": [
    "list(map(lambda numara: numara *4 , orneklist))"
   ]
  },
  {
   "cell_type": "code",
   "execution_count": null,
   "id": "646b79c1-c77b-4319-b209-b5f467b87707",
   "metadata": {},
   "outputs": [],
   "source": []
  }
 ],
 "metadata": {
  "kernelspec": {
   "display_name": "Python 3 (ipykernel)",
   "language": "python",
   "name": "python3"
  },
  "language_info": {
   "codemirror_mode": {
    "name": "ipython",
    "version": 3
   },
   "file_extension": ".py",
   "mimetype": "text/x-python",
   "name": "python",
   "nbconvert_exporter": "python",
   "pygments_lexer": "ipython3",
   "version": "3.11.7"
  }
 },
 "nbformat": 4,
 "nbformat_minor": 5
}
