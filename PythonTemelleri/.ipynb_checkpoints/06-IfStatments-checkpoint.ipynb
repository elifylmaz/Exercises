{
 "cells": [
  {
   "cell_type": "code",
   "execution_count": 6,
   "id": "c6ad8642-2527-4be0-afe1-0d7a07fd3a7f",
   "metadata": {},
   "outputs": [
    {
     "name": "stdout",
     "output_type": "stream",
     "text": [
      "koşul sağlandı\n",
      "if koşulunun dışındayız.\n"
     ]
    }
   ],
   "source": [
    "if 3 > 1 :\n",
    "  #1 tab boşluk ile\n",
    "    print(\"koşul sağlandı\")\n",
    "print(\"if koşulunun dışındayız.\")  # boşluklar sayesinde çıktık "
   ]
  },
  {
   "cell_type": "code",
   "execution_count": 8,
   "id": "28c05c2a-9e4f-488e-8dc3-1fafad9e3e67",
   "metadata": {},
   "outputs": [
    {
     "name": "stdout",
     "output_type": "stream",
     "text": [
      "y,x'den büyüktür.\n"
     ]
    }
   ],
   "source": [
    "x = 3\n",
    "y = 4\n",
    "if x > y :\n",
    "    print(\"x,y'den büyüktür.\")\n",
    "elif y > x:\n",
    "    print(\"y,x'den büyüktür.\")\n",
    "else:\n",
    "    print(\"x ve y eşittir.\")  #sonsuza kadar elif yazabilirsin, else sadece bir kez çalışır."
   ]
  },
  {
   "cell_type": "code",
   "execution_count": 33,
   "id": "ac30032a-804e-4b86-b437-7303da9eec2d",
   "metadata": {},
   "outputs": [
    {
     "name": "stdin",
     "output_type": "stream",
     "text": [
      "Super kahraman seçin: Superman\n"
     ]
    }
   ],
   "source": [
    "benimKahramanim = input(\"Super kahraman seçin:\")"
   ]
  },
  {
   "cell_type": "code",
   "execution_count": 35,
   "id": "130f6fa5-0c56-4a3f-a85e-781005c1ae15",
   "metadata": {},
   "outputs": [
    {
     "name": "stdout",
     "output_type": "stream",
     "text": [
      "Superman\n"
     ]
    }
   ],
   "source": [
    "if benimKahramanim == \"Batman\":\n",
    "    print(\"Batman\")\n",
    "elif benimKahramanim == \"Superman\":\n",
    "    print(\"Superman\")\n",
    "elif benimKahramanim == \"Ironman\":\n",
    "    print(\"Ironman\")\n",
    "else:\n",
    "    print(\"Bu Kim?\")"
   ]
  },
  {
   "cell_type": "code",
   "execution_count": 39,
   "id": "46a017f9-4a2b-4b78-9e7a-b35b8f44ac4b",
   "metadata": {},
   "outputs": [
    {
     "name": "stdout",
     "output_type": "stream",
     "text": [
      "a, b'den küçük ve b de c'den küçük\n"
     ]
    }
   ],
   "source": [
    "a = 10 \n",
    "b = 20 \n",
    "c = 30 \n",
    "if a > b and  b > c:\n",
    "    print(\"a,b'den büyük ve b c'den büyük.\")\n",
    "elif a < b and b < c:\n",
    "    print(\"a, b'den küçük ve b de c'den küçük\")  "
   ]
  },
  {
   "cell_type": "code",
   "execution_count": 47,
   "id": "e1e64519-a889-4884-957c-e04b7e46be61",
   "metadata": {},
   "outputs": [
    {
     "name": "stdout",
     "output_type": "stream",
     "text": [
      "min bir koşul doğru \n"
     ]
    }
   ],
   "source": [
    "m = 10 \n",
    "k = 4\n",
    "l = 5 \n",
    "if m > k or k > l : \n",
    "    print(\"min bir koşul doğru \")"
   ]
  },
  {
   "cell_type": "code",
   "execution_count": 57,
   "id": "366ea8ba-571d-4057-b6e2-30b7a5cfdddb",
   "metadata": {},
   "outputs": [
    {
     "name": "stdout",
     "output_type": "stream",
     "text": [
      "karakter yaşıyor\n"
     ]
    }
   ],
   "source": [
    "karakterCanli = True\n",
    "if karakterCanli == True:\n",
    "    print(\"karakter yaşıyor\")\n",
    "else:\n",
    "    print(\"karakter ölü\")"
   ]
  },
  {
   "cell_type": "code",
   "execution_count": 59,
   "id": "9b9ebb76-ab78-480e-aeea-2e0df8ba9662",
   "metadata": {},
   "outputs": [
    {
     "name": "stdout",
     "output_type": "stream",
     "text": [
      "karakter yaşıyor\n"
     ]
    }
   ],
   "source": [
    "if karakterCanli:\n",
    "    print(\"karakter yaşıyor\")\n",
    "else:\n",
    "    print(\"karakter ölü\")  ## direkt böyle kullaanbiliriz çünkü değişkenimiz zaten True değerindeydi."
   ]
  },
  {
   "cell_type": "code",
   "execution_count": 65,
   "id": "d3b43a78-5234-4590-a38f-a256202b08e8",
   "metadata": {},
   "outputs": [
    {
     "name": "stdout",
     "output_type": "stream",
     "text": [
      "öldün\n"
     ]
    }
   ],
   "source": [
    "karakterCanli=False\n",
    "if not karakterCanli:\n",
    "    print(\"öldün\")  ##Bu 3 kullanım sadece boolean değerler için geçerlidir."
   ]
  },
  {
   "cell_type": "code",
   "execution_count": 69,
   "id": "1771790f-e765-40ed-86ba-3eb30c2087e7",
   "metadata": {},
   "outputs": [],
   "source": [
    "benimString = \"Atıl Samancıoğlu\""
   ]
  },
  {
   "cell_type": "code",
   "execution_count": 71,
   "id": "daf6d8d1-0126-4aee-9907-db3685528433",
   "metadata": {},
   "outputs": [
    {
     "name": "stdout",
     "output_type": "stream",
     "text": [
      "eşit değil\n"
     ]
    }
   ],
   "source": [
    "if benimString == \"atıl samancıoğlu\":\n",
    "    print(\"eşit\")\n",
    "else:\n",
    "    print(\"eşit değil\")  ##String değerlerde tamamen aynısını yazman gerekiyor"
   ]
  },
  {
   "cell_type": "code",
   "execution_count": 77,
   "id": "04391b5b-4fac-4099-92ad-dadd2b6c032e",
   "metadata": {},
   "outputs": [
    {
     "name": "stdout",
     "output_type": "stream",
     "text": [
      "içerisnde var\n"
     ]
    }
   ],
   "source": [
    "if \"amancıo\" in benimString:\n",
    "    print(\"içerisnde var\")\n",
    "else: \n",
    "    print(\"yokmuş\")"
   ]
  },
  {
   "cell_type": "code",
   "execution_count": 79,
   "id": "83aabf34-88b9-4507-ad21-afadb8774e3b",
   "metadata": {},
   "outputs": [
    {
     "name": "stdout",
     "output_type": "stream",
     "text": [
      "yokmuş\n"
     ]
    }
   ],
   "source": [
    "if \"samancıoğlu\" in benimString:\n",
    "    print(\"içerisnde var\")\n",
    "else: \n",
    "    print(\"yokmuş\")"
   ]
  },
  {
   "cell_type": "code",
   "execution_count": 81,
   "id": "3edf2095-dc84-472e-93cc-18bb56f522a1",
   "metadata": {},
   "outputs": [],
   "source": [
    "benimListem = [10,20,30,40,50]"
   ]
  },
  {
   "cell_type": "code",
   "execution_count": 83,
   "id": "eb36c538-41c9-458d-869d-60304ade55ac",
   "metadata": {},
   "outputs": [
    {
     "name": "stdout",
     "output_type": "stream",
     "text": [
      "var\n"
     ]
    }
   ],
   "source": [
    "if 50 in benimListem:\n",
    "    print(\"var\")  ## İN içerisinde var mı? için kullanılır. "
   ]
  },
  {
   "cell_type": "code",
   "execution_count": 85,
   "id": "55722630-4423-41ea-b8b2-6151d39360ac",
   "metadata": {},
   "outputs": [],
   "source": [
    "benimSozluk = {\"muz\":100, \"elma\":150, \"karpuz\": 500}"
   ]
  },
  {
   "cell_type": "code",
   "execution_count": 87,
   "id": "7da59e7f-12e7-4784-90ce-2bc33eb54a30",
   "metadata": {},
   "outputs": [
    {
     "data": {
      "text/plain": [
       "dict_keys(['muz', 'elma', 'karpuz'])"
      ]
     },
     "execution_count": 87,
     "metadata": {},
     "output_type": "execute_result"
    }
   ],
   "source": [
    "benimSozluk.keys()"
   ]
  },
  {
   "cell_type": "code",
   "execution_count": 89,
   "id": "e80be993-16d7-4ae0-bf8c-c0178aa6f557",
   "metadata": {},
   "outputs": [
    {
     "name": "stdout",
     "output_type": "stream",
     "text": [
      "var\n"
     ]
    }
   ],
   "source": [
    "if \"muz\" in benimSozluk.keys():\n",
    "    print(\"var\")"
   ]
  },
  {
   "cell_type": "code",
   "execution_count": 91,
   "id": "120de4f6-d4f2-4d5f-b72b-0a6230abbb3e",
   "metadata": {},
   "outputs": [
    {
     "name": "stdout",
     "output_type": "stream",
     "text": [
      "yok\n"
     ]
    }
   ],
   "source": [
    "if 250 in benimSozluk.values():\n",
    "    print(\"var\")\n",
    "else:\n",
    "    print(\"yok\")"
   ]
  },
  {
   "cell_type": "code",
   "execution_count": null,
   "id": "6c71254e-28f3-44f3-9a5d-b097256349cd",
   "metadata": {},
   "outputs": [],
   "source": []
  }
 ],
 "metadata": {
  "kernelspec": {
   "display_name": "Python 3 (ipykernel)",
   "language": "python",
   "name": "python3"
  },
  "language_info": {
   "codemirror_mode": {
    "name": "ipython",
    "version": 3
   },
   "file_extension": ".py",
   "mimetype": "text/x-python",
   "name": "python",
   "nbconvert_exporter": "python",
   "pygments_lexer": "ipython3",
   "version": "3.11.7"
  }
 },
 "nbformat": 4,
 "nbformat_minor": 5
}
