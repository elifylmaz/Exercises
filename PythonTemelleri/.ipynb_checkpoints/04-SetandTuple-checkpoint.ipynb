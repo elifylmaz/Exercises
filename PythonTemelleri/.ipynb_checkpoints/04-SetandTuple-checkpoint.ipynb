{
 "cells": [
  {
   "cell_type": "code",
   "execution_count": 2,
   "id": "831bde54-0986-43c4-9765-f72de96332dd",
   "metadata": {},
   "outputs": [],
   "source": [
    "##bir koleksiyon yapısı ve listeler ile benzerlik gösteriyor"
   ]
  },
  {
   "cell_type": "code",
   "execution_count": 6,
   "id": "be240b38-9b15-4485-9c40-4056c73ab6f7",
   "metadata": {},
   "outputs": [],
   "source": [
    "benimListem=[1,2,3,1,2,3]  #aynı elemanı birden fazla koyabiliyoruz"
   ]
  },
  {
   "cell_type": "code",
   "execution_count": 8,
   "id": "65ccd06f-fe6e-457e-bb84-6a719c52f6a2",
   "metadata": {},
   "outputs": [
    {
     "data": {
      "text/plain": [
       "[1, 2, 3, 1, 2, 3]"
      ]
     },
     "execution_count": 8,
     "metadata": {},
     "output_type": "execute_result"
    }
   ],
   "source": [
    "benimListem"
   ]
  },
  {
   "cell_type": "code",
   "execution_count": 10,
   "id": "9ffd0e01-7698-4828-b683-bd52ed33b8a7",
   "metadata": {},
   "outputs": [],
   "source": [
    "#SETİN EN BÜYÜK ÖZELLİĞİ: BİR ELEMANDAN SADECE BİR TANE VARRRR !!!"
   ]
  },
  {
   "cell_type": "code",
   "execution_count": 12,
   "id": "ee9996ec-827a-48a5-a8d8-d40dc2c3eb9f",
   "metadata": {},
   "outputs": [],
   "source": [
    "benimListeSetim = set(benimListem)  #listeden sete çevirdik"
   ]
  },
  {
   "cell_type": "code",
   "execution_count": 14,
   "id": "1b36bffc-215f-451f-a511-6e349f1c157c",
   "metadata": {},
   "outputs": [
    {
     "data": {
      "text/plain": [
       "set"
      ]
     },
     "execution_count": 14,
     "metadata": {},
     "output_type": "execute_result"
    }
   ],
   "source": [
    "type(benimListeSetim)"
   ]
  },
  {
   "cell_type": "code",
   "execution_count": 16,
   "id": "e36d89aa-986c-4fc6-8d08-2bf14ad9e5e3",
   "metadata": {},
   "outputs": [
    {
     "data": {
      "text/plain": [
       "{1, 2, 3}"
      ]
     },
     "execution_count": 16,
     "metadata": {},
     "output_type": "execute_result"
    }
   ],
   "source": [
    "benimListeSetim #fazla veriler silindi"
   ]
  },
  {
   "cell_type": "code",
   "execution_count": 18,
   "id": "a9370b5e-08fc-40ce-817f-a4e318bc7c8b",
   "metadata": {},
   "outputs": [
    {
     "data": {
      "text/plain": [
       "set"
      ]
     },
     "execution_count": 18,
     "metadata": {},
     "output_type": "execute_result"
    }
   ],
   "source": [
    "#setoluşturma\n",
    "benimSet = {\"a\",\"b\",\"c\"} # bir \"a\" daha koysaydım almazdı\n",
    "type(benimSet)"
   ]
  },
  {
   "cell_type": "code",
   "execution_count": 20,
   "id": "b4c894c2-7ac8-4d44-a92b-37f34c51f0d4",
   "metadata": {},
   "outputs": [
    {
     "data": {
      "text/plain": [
       "{'a', 'b', 'c'}"
      ]
     },
     "execution_count": 20,
     "metadata": {},
     "output_type": "execute_result"
    }
   ],
   "source": [
    "benimSet = {\"a\",\"b\",\"c\",\"a\"}\n",
    "benimSet"
   ]
  },
  {
   "cell_type": "code",
   "execution_count": 24,
   "id": "08374dda-a80c-4822-baa8-951974bfb6a5",
   "metadata": {},
   "outputs": [
    {
     "data": {
      "text/plain": [
       "dict"
      ]
     },
     "execution_count": 24,
     "metadata": {},
     "output_type": "execute_result"
    }
   ],
   "source": [
    "#bosSet oluşturma\n",
    "bosSet = {}\n",
    "type(bosSet) #dict olarak algılıyor!!"
   ]
  },
  {
   "cell_type": "code",
   "execution_count": 28,
   "id": "52cbfcaf-8efe-47cc-981b-05916471c751",
   "metadata": {},
   "outputs": [
    {
     "data": {
      "text/plain": [
       "set"
      ]
     },
     "execution_count": 28,
     "metadata": {},
     "output_type": "execute_result"
    }
   ],
   "source": [
    "#boş set böyle oluşturluyor\n",
    "benimBosSetim = set()\n",
    "type(benimBosSetim)"
   ]
  },
  {
   "cell_type": "code",
   "execution_count": 42,
   "id": "f9f368ae-ccad-4cd6-9fdf-818760b7093f",
   "metadata": {},
   "outputs": [
    {
     "data": {
      "text/plain": [
       "list"
      ]
     },
     "execution_count": 42,
     "metadata": {},
     "output_type": "execute_result"
    }
   ],
   "source": [
    "# bu format ile list,dict,set yaoabilirsin mesela\n",
    "x = list()\n",
    "y = dict()\n",
    "z = set ()\n",
    "type(x)"
   ]
  },
  {
   "cell_type": "code",
   "execution_count": 44,
   "id": "3ee525ea-652c-4f5d-a0d6-5bb567279945",
   "metadata": {},
   "outputs": [
    {
     "data": {
      "text/plain": [
       "dict"
      ]
     },
     "execution_count": 44,
     "metadata": {},
     "output_type": "execute_result"
    }
   ],
   "source": [
    " type(y)"
   ]
  },
  {
   "cell_type": "code",
   "execution_count": 46,
   "id": "5c14a781-09ad-4e44-a66e-0b4680dd243e",
   "metadata": {},
   "outputs": [
    {
     "data": {
      "text/plain": [
       "set"
      ]
     },
     "execution_count": 46,
     "metadata": {},
     "output_type": "execute_result"
    }
   ],
   "source": [
    "type(z)"
   ]
  },
  {
   "cell_type": "markdown",
   "id": "80e72e21-9d2d-4985-a58b-7ee406249563",
   "metadata": {},
   "source": [
    "##TUPLE"
   ]
  },
  {
   "cell_type": "code",
   "execution_count": 53,
   "id": "bddb9ff9-c027-4149-b351-68fde00341e9",
   "metadata": {},
   "outputs": [],
   "source": [
    "benimListem = [1,2,\"a\",4.5]"
   ]
  },
  {
   "cell_type": "code",
   "execution_count": 55,
   "id": "e0780cee-08af-429e-81e9-c6ca87615b7c",
   "metadata": {},
   "outputs": [
    {
     "data": {
      "text/plain": [
       "[100, 2, 'a', 4.5]"
      ]
     },
     "execution_count": 55,
     "metadata": {},
     "output_type": "execute_result"
    }
   ],
   "source": [
    "benimListem[0] = 100\n",
    "benimListem"
   ]
  },
  {
   "cell_type": "code",
   "execution_count": 57,
   "id": "ee0e6468-f4ae-44ef-912e-b641be5ad64e",
   "metadata": {},
   "outputs": [],
   "source": [
    "benimTuple = (1,2,\"a\",4.5)"
   ]
  },
  {
   "cell_type": "code",
   "execution_count": 59,
   "id": "6b1bc1de-2609-46e1-9e27-a5ad50f1200e",
   "metadata": {},
   "outputs": [
    {
     "data": {
      "text/plain": [
       "(1, 2, 'a', 4.5)"
      ]
     },
     "execution_count": 59,
     "metadata": {},
     "output_type": "execute_result"
    }
   ],
   "source": [
    "benimTuple"
   ]
  },
  {
   "cell_type": "code",
   "execution_count": 61,
   "id": "e51cc07f-e1f8-4ca9-9927-adaf8ced2baa",
   "metadata": {},
   "outputs": [
    {
     "data": {
      "text/plain": [
       "1"
      ]
     },
     "execution_count": 61,
     "metadata": {},
     "output_type": "execute_result"
    }
   ],
   "source": [
    "benimTuple[0] #index mantığı ile çalışıyor ama değiştiremeyiz değerleri"
   ]
  },
  {
   "cell_type": "code",
   "execution_count": 75,
   "id": "9d715ba3-d517-4477-8f4a-6a6d6a482a47",
   "metadata": {},
   "outputs": [
    {
     "ename": "TypeError",
     "evalue": "'tuple' object does not support item assignment",
     "output_type": "error",
     "traceback": [
      "\u001b[0;31m---------------------------------------------------------------------------\u001b[0m",
      "\u001b[0;31mTypeError\u001b[0m                                 Traceback (most recent call last)",
      "Cell \u001b[0;32mIn[75], line 1\u001b[0m\n\u001b[0;32m----> 1\u001b[0m benimTuple[\u001b[38;5;241m0\u001b[39m] \u001b[38;5;241m=\u001b[39m \u001b[38;5;241m3\u001b[39m\n",
      "\u001b[0;31mTypeError\u001b[0m: 'tuple' object does not support item assignment"
     ]
    }
   ],
   "source": [
    "benimTuple[0] = 3  #liste ile çok benziyor ve tuple değerleri değiştirilemez "
   ]
  },
  {
   "cell_type": "code",
   "execution_count": 79,
   "id": "86f1644a-6fd3-49e8-bd45-104ac4f48bfe",
   "metadata": {},
   "outputs": [
    {
     "data": {
      "text/plain": [
       "1"
      ]
     },
     "execution_count": 79,
     "metadata": {},
     "output_type": "execute_result"
    }
   ],
   "source": [
    "benimTuple.count(\"a\") #içerideki a sayısı"
   ]
  },
  {
   "cell_type": "code",
   "execution_count": 81,
   "id": "82b507c2-9846-4ae7-a84d-594a33030dca",
   "metadata": {},
   "outputs": [
    {
     "data": {
      "text/plain": [
       "3"
      ]
     },
     "execution_count": 81,
     "metadata": {},
     "output_type": "execute_result"
    }
   ],
   "source": [
    "benimTuple.index(4.5)  # 4.5 un indexini verir"
   ]
  },
  {
   "cell_type": "code",
   "execution_count": 77,
   "id": "8d6af4ae-7762-45d9-b413-5d266bb0a563",
   "metadata": {},
   "outputs": [
    {
     "data": {
      "text/plain": [
       "tuple"
      ]
     },
     "execution_count": 77,
     "metadata": {},
     "output_type": "execute_result"
    }
   ],
   "source": [
    "#tuple tanımlama\n",
    "x = tuple ()\n",
    "type(x)"
   ]
  },
  {
   "cell_type": "code",
   "execution_count": 73,
   "id": "1e81c4ee-1549-4825-8fe1-762efb7fe639",
   "metadata": {},
   "outputs": [
    {
     "data": {
      "text/plain": [
       "tuple"
      ]
     },
     "execution_count": 73,
     "metadata": {},
     "output_type": "execute_result"
    }
   ],
   "source": [
    "#tuple tanımlama\n",
    "x = ()\n",
    "type(x)"
   ]
  },
  {
   "cell_type": "code",
   "execution_count": null,
   "id": "77c70950-85db-4a3a-b481-0e13b3b2b136",
   "metadata": {},
   "outputs": [],
   "source": []
  }
 ],
 "metadata": {
  "kernelspec": {
   "display_name": "Python 3 (ipykernel)",
   "language": "python",
   "name": "python3"
  },
  "language_info": {
   "codemirror_mode": {
    "name": "ipython",
    "version": 3
   },
   "file_extension": ".py",
   "mimetype": "text/x-python",
   "name": "python",
   "nbconvert_exporter": "python",
   "pygments_lexer": "ipython3",
   "version": "3.11.7"
  }
 },
 "nbformat": 4,
 "nbformat_minor": 5
}
