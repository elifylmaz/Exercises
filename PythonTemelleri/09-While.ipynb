{
 "cells": [
  {
   "cell_type": "code",
   "execution_count": 5,
   "id": "768a8e12-157d-484b-bd3f-e88161a1babc",
   "metadata": {},
   "outputs": [
    {
     "name": "stdout",
     "output_type": "stream",
     "text": [
      "0\n",
      "1\n",
      "2\n",
      "3\n",
      "4\n",
      "5\n",
      "6\n",
      "7\n",
      "8\n",
      "9\n"
     ]
    }
   ],
   "source": [
    "##while = bir koşul sağlandığı sürece devam et\n",
    "#WHİLE DÖNGÜDÜR.\n",
    "x = 0\n",
    "while x < 10:\n",
    "    print(x)\n",
    "    #böyle sonsuza kadar çalışabilir\n",
    "    x = x + 1 #sonsuza kadar çalışmaması için x'i arttırdık"
   ]
  },
  {
   "cell_type": "code",
   "execution_count": 37,
   "id": "c8464b0b-0cf4-4301-ae82-d3737a5ae019",
   "metadata": {},
   "outputs": [],
   "source": [
    "Liste = [1,2,3,4,5]"
   ]
  },
  {
   "cell_type": "code",
   "execution_count": 39,
   "id": "12b62896-45b0-4997-bd04-b1d3711e1697",
   "metadata": {},
   "outputs": [
    {
     "data": {
      "text/plain": [
       "5"
      ]
     },
     "execution_count": 39,
     "metadata": {},
     "output_type": "execute_result"
    }
   ],
   "source": [
    "Liste.pop()"
   ]
  },
  {
   "cell_type": "code",
   "execution_count": 41,
   "id": "fa2f6cbf-fff9-4822-963e-f38f286963e8",
   "metadata": {},
   "outputs": [
    {
     "data": {
      "text/plain": [
       "[1, 2, 3, 4]"
      ]
     },
     "execution_count": 41,
     "metadata": {},
     "output_type": "execute_result"
    }
   ],
   "source": [
    "Liste"
   ]
  },
  {
   "cell_type": "code",
   "execution_count": 43,
   "id": "80a5297a-fe7b-492d-8755-35fcadc7d2b0",
   "metadata": {},
   "outputs": [],
   "source": [
    "Liste.append(5)"
   ]
  },
  {
   "cell_type": "code",
   "execution_count": 45,
   "id": "ee70dfa4-82c3-410b-bb25-07b17c474a51",
   "metadata": {},
   "outputs": [
    {
     "data": {
      "text/plain": [
       "[1, 2, 3, 4, 5]"
      ]
     },
     "execution_count": 45,
     "metadata": {},
     "output_type": "execute_result"
    }
   ],
   "source": [
    "Liste"
   ]
  },
  {
   "cell_type": "code",
   "execution_count": 47,
   "id": "27887762-8497-4f2e-b75e-110d9c08acc7",
   "metadata": {},
   "outputs": [
    {
     "name": "stdout",
     "output_type": "stream",
     "text": [
      "3 hala içeride\n",
      "3 hala içeride\n",
      "3 hala içeride\n"
     ]
    }
   ],
   "source": [
    "while 3 in Liste: #3 bu listede olduğu sürece çalışacak\n",
    "    print(\"3 hala içeride\")\n",
    "    Liste.pop()"
   ]
  },
  {
   "cell_type": "code",
   "execution_count": 49,
   "id": "b0e3276d-9af6-440e-9729-ac2036930d5b",
   "metadata": {},
   "outputs": [],
   "source": [
    "numara = 0 "
   ]
  },
  {
   "cell_type": "code",
   "execution_count": 51,
   "id": "0549a485-3a0f-42c4-aad4-edeec591e2e6",
   "metadata": {},
   "outputs": [
    {
     "name": "stdout",
     "output_type": "stream",
     "text": [
      "0\n",
      "1\n",
      "2\n",
      "3\n"
     ]
    }
   ],
   "source": [
    "while numara < 5 :\n",
    "    if numara == 4:\n",
    "        break        # 4'e gelince döngüyü komple bitirdi. \n",
    "    print(numara)\n",
    "    numara = numara + 1 "
   ]
  },
  {
   "cell_type": "code",
   "execution_count": 71,
   "id": "624fd51a-3e8b-4139-9304-8a63917c2b8c",
   "metadata": {},
   "outputs": [
    {
     "name": "stdout",
     "output_type": "stream",
     "text": [
      "değişken değeri: 0\n",
      "değişken değeri:  0\n",
      " yeni değişkenin güncel değeri: 0\n"
     ]
    }
   ],
   "source": [
    "yeniDegisken = 0\n",
    "# printte string değerleri yazarken + ile ayırlıyor\n",
    "# bu hatayı gidermek için : int olan veriyi str çevirdik.\n",
    "print(\"değişken değeri: \" + str(yeniDegisken))\n",
    "print(\"değişken değeri: \" , str(yeniDegisken))\n",
    "# f format anlamına gelir, süslü parantez içine yazdığım şeyleri kodo larak algıla diyor. \n",
    "print(f\" yeni değişkenin güncel değeri: {yeniDegisken}\")\n",
    "\n",
    "# printte , ile yazabilirsin !!!"
   ]
  },
  {
   "cell_type": "code",
   "execution_count": 69,
   "id": "935a8718-532c-41d9-82bd-e2fa5cd07dfa",
   "metadata": {},
   "outputs": [
    {
     "name": "stdout",
     "output_type": "stream",
     "text": [
      "Yeni Değişken değerim:  0\n",
      " yeni değişkenin güncel değeri: 0\n",
      "Yeni Değişken değerim:  1\n",
      " yeni değişkenin güncel değeri: 2\n",
      "Yeni Değişken değerim:  2\n",
      " yeni değişkenin güncel değeri: 4\n",
      "Yeni Değişken değerim:  3\n",
      " yeni değişkenin güncel değeri: 6\n",
      "Yeni Değişken değerim:  4\n",
      " yeni değişkenin güncel değeri: 8\n",
      "Yeni Değişken değerim:  5\n",
      " yeni değişkenin güncel değeri: 10\n",
      "Yeni Değişken değerim:  6\n",
      " yeni değişkenin güncel değeri: 12\n",
      "Yeni Değişken değerim:  7\n",
      " yeni değişkenin güncel değeri: 14\n",
      "Yeni Değişken değerim:  8\n",
      " yeni değişkenin güncel değeri: 16\n",
      "Yeni Değişken değerim:  9\n",
      " yeni değişkenin güncel değeri: 18\n",
      "Yeni Değişken değerim:  10\n",
      " yeni değişkenin güncel değeri: 20\n",
      "Yeni Değişken değerim:  11\n",
      " yeni değişkenin güncel değeri: 22\n",
      "Yeni Değişken değerim:  12\n",
      " yeni değişkenin güncel değeri: 24\n",
      "Yeni Değişken değerim:  13\n",
      " yeni değişkenin güncel değeri: 26\n",
      "Yeni Değişken değerim:  14\n",
      " yeni değişkenin güncel değeri: 28\n"
     ]
    }
   ],
   "source": [
    "while yeniDegisken < 15:\n",
    "    print(\"Yeni Değişken değerim: \" , yeniDegisken)\n",
    "    print(f\" yeni değişkenin güncel değeri: {yeniDegisken * 2 }\") #süslü parantez ile kod yazılabilir\n",
    "    yeniDegisken = yeniDegisken +1"
   ]
  }
 ],
 "metadata": {
  "kernelspec": {
   "display_name": "Python 3 (ipykernel)",
   "language": "python",
   "name": "python3"
  },
  "language_info": {
   "codemirror_mode": {
    "name": "ipython",
    "version": 3
   },
   "file_extension": ".py",
   "mimetype": "text/x-python",
   "name": "python",
   "nbconvert_exporter": "python",
   "pygments_lexer": "ipython3",
   "version": "3.11.7"
  }
 },
 "nbformat": 4,
 "nbformat_minor": 5
}
