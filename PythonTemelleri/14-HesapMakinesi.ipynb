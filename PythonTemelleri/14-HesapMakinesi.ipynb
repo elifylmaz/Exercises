{
 "cells": [
  {
   "cell_type": "code",
   "execution_count": null,
   "id": "01be7519-8c9e-4ab7-992e-eaabaa33625e",
   "metadata": {},
   "outputs": [
    {
     "name": "stdin",
     "output_type": "stream",
     "text": [
      "ilk sayıyı giriniz: 2\n",
      "ikinci sayıyı giriniz: e\n"
     ]
    },
    {
     "name": "stdout",
     "output_type": "stream",
     "text": [
      "Hatalı sayı girişi\n"
     ]
    },
    {
     "name": "stdin",
     "output_type": "stream",
     "text": [
      "ilk sayıyı giriniz: 3\n",
      "ikinci sayıyı giriniz: 4\n",
      "işleminizi seçin:( + - / * ): f\n"
     ]
    },
    {
     "name": "stdout",
     "output_type": "stream",
     "text": [
      "Hatalı işlem girildi.\n"
     ]
    },
    {
     "name": "stdin",
     "output_type": "stream",
     "text": [
      "ilk sayıyı giriniz: 5\n",
      "ikinci sayıyı giriniz: 5\n",
      "işleminizi seçin:( + - / * ): /\n"
     ]
    },
    {
     "name": "stdout",
     "output_type": "stream",
     "text": [
      "5 / 5 = 1.0\n",
      "Hatalı sayı girişi\n",
      "Hatalı sayı girişi\n"
     ]
    }
   ],
   "source": [
    "def hesapla(a,b,islem):\n",
    "    \n",
    "    if islem not in \"+-*/\":\n",
    "        return \"Hatalı işlem girildi.\"\n",
    "    \n",
    "    if islem == \"+\":\n",
    "        return (str(a)+ \" + \" + str(b) + \" = \"+ str(a+b))\n",
    "    if islem == \"-\":\n",
    "        return (str(a)+ \" - \" + str(b) + \" = \" + str(a-b))  \n",
    "    if islem == \"/\":\n",
    "        return (str(a)+ \" / \" + str(b) + \" = \" + str(a/b))\n",
    "    if islem == \"*\":\n",
    "        return (str(a)+ \" * \" + str(b) + \" = \" + str(a*b))        \n",
    "        \n",
    "while True:\n",
    "    try: #bunu dene yapamazsan except git , programı çökertme devam etsin\n",
    "        num1 = int(input(\"ilk sayıyı giriniz:\"))\n",
    "        num2 = int(input(\"ikinci sayıyı giriniz:\"))\n",
    "        islem = input(\"işleminizi seçin:( + - / * ):\")\n",
    "        print(hesapla(num1,num2,islem))\n",
    "    except:\n",
    "        print(\"Hatalı sayı girişi\")\n"
   ]
  },
  {
   "cell_type": "code",
   "execution_count": null,
   "id": "b5e3eb50-625b-4677-97e3-3712b663fb70",
   "metadata": {},
   "outputs": [],
   "source": []
  }
 ],
 "metadata": {
  "kernelspec": {
   "display_name": "Python 3 (ipykernel)",
   "language": "python",
   "name": "python3"
  },
  "language_info": {
   "codemirror_mode": {
    "name": "ipython",
    "version": 3
   },
   "file_extension": ".py",
   "mimetype": "text/x-python",
   "name": "python",
   "nbconvert_exporter": "python",
   "pygments_lexer": "ipython3",
   "version": "3.11.7"
  }
 },
 "nbformat": 4,
 "nbformat_minor": 5
}
