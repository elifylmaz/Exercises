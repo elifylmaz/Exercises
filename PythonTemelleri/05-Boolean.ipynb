{
 "cells": [
  {
   "cell_type": "code",
   "execution_count": 2,
   "id": "0b85775f-708c-481d-87b3-8bb541b77457",
   "metadata": {},
   "outputs": [],
   "source": [
    "benimBool = True"
   ]
  },
  {
   "cell_type": "code",
   "execution_count": 4,
   "id": "e51d5f24-40e7-4a22-958c-069cada3666f",
   "metadata": {},
   "outputs": [
    {
     "data": {
      "text/plain": [
       "bool"
      ]
     },
     "execution_count": 4,
     "metadata": {},
     "output_type": "execute_result"
    }
   ],
   "source": [
    "type(benimBool)"
   ]
  },
  {
   "cell_type": "code",
   "execution_count": 8,
   "id": "de9ff072-886f-4fa5-a6c5-8998f1239559",
   "metadata": {},
   "outputs": [],
   "source": [
    "x= 10<5"
   ]
  },
  {
   "cell_type": "code",
   "execution_count": 10,
   "id": "a03fbcec-666b-47b2-8170-3b95e7c1b990",
   "metadata": {},
   "outputs": [
    {
     "data": {
      "text/plain": [
       "bool"
      ]
     },
     "execution_count": 10,
     "metadata": {},
     "output_type": "execute_result"
    }
   ],
   "source": [
    "type(x)  #boolean veritipidir ve genelde kontrol amaçlı kullanılır , büyük mü ? eşit mi ? gibi.."
   ]
  },
  {
   "cell_type": "code",
   "execution_count": 12,
   "id": "ccb94c56-d05b-4e04-b716-9f9752b6e55b",
   "metadata": {},
   "outputs": [],
   "source": [
    "listem = [5000,10000,3000,1000,2000,4000]"
   ]
  },
  {
   "cell_type": "code",
   "execution_count": 14,
   "id": "efbb386f-6a78-4431-9143-c150259c1d2f",
   "metadata": {},
   "outputs": [
    {
     "data": {
      "text/plain": [
       "6"
      ]
     },
     "execution_count": 14,
     "metadata": {},
     "output_type": "execute_result"
    }
   ],
   "source": [
    "len(listem)"
   ]
  },
  {
   "cell_type": "code",
   "execution_count": 29,
   "id": "3b4fbbd8-46ff-4698-a462-3540f4e553c2",
   "metadata": {},
   "outputs": [],
   "source": [
    "ort= sum(listem)/len(listem) # ort değeri verir"
   ]
  },
  {
   "cell_type": "code",
   "execution_count": 33,
   "id": "889a01da-3bd4-400c-ba65-72ae52cf68a8",
   "metadata": {},
   "outputs": [
    {
     "data": {
      "text/plain": [
       "True"
      ]
     },
     "execution_count": 33,
     "metadata": {},
     "output_type": "execute_result"
    }
   ],
   "source": [
    "listem[3] < ort # bu maş ortalamanın altında mı ? true."
   ]
  },
  {
   "cell_type": "code",
   "execution_count": 35,
   "id": "ed5f9a00-fb22-4448-ade7-dc9a3177bffa",
   "metadata": {},
   "outputs": [
    {
     "name": "stdin",
     "output_type": "stream",
     "text": [
      "Maaş Bilgisi:  60000\n"
     ]
    }
   ],
   "source": [
    "kullanicimaas = input (\"Maaş Bilgisi: \")"
   ]
  },
  {
   "cell_type": "code",
   "execution_count": 37,
   "id": "e7eced4c-f9b3-45ab-8401-e89726118e74",
   "metadata": {},
   "outputs": [
    {
     "ename": "TypeError",
     "evalue": "'>' not supported between instances of 'str' and 'int'",
     "output_type": "error",
     "traceback": [
      "\u001b[0;31m---------------------------------------------------------------------------\u001b[0m",
      "\u001b[0;31mTypeError\u001b[0m                                 Traceback (most recent call last)",
      "Cell \u001b[0;32mIn[37], line 1\u001b[0m\n\u001b[0;32m----> 1\u001b[0m kullanicimaas  \u001b[38;5;241m>\u001b[39m \u001b[38;5;241m6000\u001b[39m\n",
      "\u001b[0;31mTypeError\u001b[0m: '>' not supported between instances of 'str' and 'int'"
     ]
    }
   ],
   "source": [
    "kullanicimaas  > 6000 #hata veriyor çünkü input, str tipinde veri alır "
   ]
  },
  {
   "cell_type": "code",
   "execution_count": 39,
   "id": "64b72879-ff4b-47ef-95e9-d2490a1f1016",
   "metadata": {},
   "outputs": [
    {
     "data": {
      "text/plain": [
       "str"
      ]
     },
     "execution_count": 39,
     "metadata": {},
     "output_type": "execute_result"
    }
   ],
   "source": [
    "type(kullanicimaas)"
   ]
  },
  {
   "cell_type": "code",
   "execution_count": 41,
   "id": "1990e281-26b9-41e4-8197-1ac1e2493f4b",
   "metadata": {},
   "outputs": [],
   "source": [
    "kullanicimaasİnt = int(kullanicimaas)"
   ]
  },
  {
   "cell_type": "code",
   "execution_count": 43,
   "id": "ac3c3091-b882-4b2c-be6d-5d2d97bbb624",
   "metadata": {},
   "outputs": [
    {
     "data": {
      "text/plain": [
       "True"
      ]
     },
     "execution_count": 43,
     "metadata": {},
     "output_type": "execute_result"
    }
   ],
   "source": [
    "kullanicimaasİnt > ort #ikiside int oldu çalıştı."
   ]
  },
  {
   "cell_type": "code",
   "execution_count": null,
   "id": "e92a588d-f85c-42ae-a2fe-debf02d77750",
   "metadata": {},
   "outputs": [],
   "source": []
  }
 ],
 "metadata": {
  "kernelspec": {
   "display_name": "Python 3 (ipykernel)",
   "language": "python",
   "name": "python3"
  },
  "language_info": {
   "codemirror_mode": {
    "name": "ipython",
    "version": 3
   },
   "file_extension": ".py",
   "mimetype": "text/x-python",
   "name": "python",
   "nbconvert_exporter": "python",
   "pygments_lexer": "ipython3",
   "version": "3.11.7"
  }
 },
 "nbformat": 4,
 "nbformat_minor": 5
}
