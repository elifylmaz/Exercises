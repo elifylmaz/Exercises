{
 "cells": [
  {
   "cell_type": "code",
   "execution_count": 2,
   "id": "3e1b6545-0cef-4c3b-ae2f-7afa17c2d40d",
   "metadata": {},
   "outputs": [],
   "source": [
    "benimListem = [0,1,2,3,4,5,6]"
   ]
  },
  {
   "cell_type": "code",
   "execution_count": 4,
   "id": "1c87d8b3-a796-4229-a6f8-051cf2fe4c07",
   "metadata": {},
   "outputs": [
    {
     "name": "stdout",
     "output_type": "stream",
     "text": [
      "0\n",
      "1\n",
      "2\n",
      "3\n",
      "4\n",
      "5\n",
      "6\n"
     ]
    }
   ],
   "source": [
    "for num in benimListem:\n",
    "    print(num)"
   ]
  },
  {
   "cell_type": "markdown",
   "id": "b771e4b3-2052-4f2f-b5f8-03babf5a581e",
   "metadata": {},
   "source": [
    "## Range #aralık belirtiyor (başlangıç, stop ,step)"
   ]
  },
  {
   "cell_type": "code",
   "execution_count": 6,
   "id": "989b7319-83f9-459b-9d74-2989756fd62a",
   "metadata": {},
   "outputs": [
    {
     "data": {
      "text/plain": [
       "range(0, 15)"
      ]
     },
     "execution_count": 6,
     "metadata": {},
     "output_type": "execute_result"
    }
   ],
   "source": [
    "range(15) #shift + tab ile fonk bilgisini al"
   ]
  },
  {
   "cell_type": "code",
   "execution_count": 8,
   "id": "c7475288-f1f6-426b-89a0-2a8274385577",
   "metadata": {},
   "outputs": [
    {
     "data": {
      "text/plain": [
       "[0, 1, 2, 3, 4, 5, 6, 7, 8, 9, 10, 11, 12, 13, 14]"
      ]
     },
     "execution_count": 8,
     "metadata": {},
     "output_type": "execute_result"
    }
   ],
   "source": [
    "list(range(15))"
   ]
  },
  {
   "cell_type": "code",
   "execution_count": 10,
   "id": "38077a8b-1ece-44a5-b59e-5974b985829e",
   "metadata": {},
   "outputs": [
    {
     "name": "stdout",
     "output_type": "stream",
     "text": [
      "0\n",
      "5\n",
      "10\n",
      "15\n",
      "20\n",
      "25\n",
      "30\n",
      "35\n",
      "40\n",
      "45\n",
      "50\n",
      "55\n",
      "60\n",
      "65\n",
      "70\n",
      "75\n",
      "80\n",
      "85\n",
      "90\n",
      "95\n"
     ]
    }
   ],
   "source": [
    "for num in list(range(20)):\n",
    "    print (num * 5)"
   ]
  },
  {
   "cell_type": "code",
   "execution_count": 12,
   "id": "791dfdde-1b27-4602-8c25-d11c6b522d76",
   "metadata": {},
   "outputs": [
    {
     "data": {
      "text/plain": [
       "[5, 9, 13, 17, 21]"
      ]
     },
     "execution_count": 12,
     "metadata": {},
     "output_type": "execute_result"
    }
   ],
   "source": [
    "list(range(5,22,4))"
   ]
  },
  {
   "cell_type": "markdown",
   "id": "2bca86c1-0507-4fc2-a13f-350810efbc1d",
   "metadata": {},
   "source": [
    "## enumerate\n",
    "bir veri kümesindeki her bir öğenin indeksini ve değerini birlikte döndürmek için kullanılır."
   ]
  },
  {
   "cell_type": "code",
   "execution_count": 14,
   "id": "18cb29ae-bdf6-4887-b47d-becc89a3ecc8",
   "metadata": {},
   "outputs": [
    {
     "name": "stdout",
     "output_type": "stream",
     "text": [
      "güncel numara: 5 güncel index: 0\n",
      "güncel numara: 6 güncel index: 1\n",
      "güncel numara: 7 güncel index: 2\n",
      "güncel numara: 8 güncel index: 3\n",
      "güncel numara: 9 güncel index: 4\n",
      "güncel numara: 10 güncel index: 5\n",
      "güncel numara: 11 güncel index: 6\n",
      "güncel numara: 12 güncel index: 7\n",
      "güncel numara: 13 güncel index: 8\n",
      "güncel numara: 14 güncel index: 9\n"
     ]
    }
   ],
   "source": [
    "index = 0 \n",
    "for num in list(range(5,15)):\n",
    "    print(f\"güncel numara: {num} güncel index: {index}\")\n",
    "    index = index + 1"
   ]
  },
  {
   "cell_type": "code",
   "execution_count": 16,
   "id": "21d485b4-80f5-44be-bc9c-9125b0daf606",
   "metadata": {},
   "outputs": [
    {
     "name": "stdout",
     "output_type": "stream",
     "text": [
      "(0, 5)\n",
      "(1, 6)\n",
      "(2, 7)\n",
      "(3, 8)\n",
      "(4, 9)\n",
      "(5, 10)\n",
      "(6, 11)\n",
      "(7, 12)\n",
      "(8, 13)\n",
      "(9, 14)\n"
     ]
    }
   ],
   "source": [
    "for eleman in enumerate(list(range(5,15))):\n",
    "    print(eleman)"
   ]
  },
  {
   "cell_type": "code",
   "execution_count": 18,
   "id": "6d214a3c-1b3c-452f-a914-66e4c1379e16",
   "metadata": {},
   "outputs": [
    {
     "data": {
      "text/plain": [
       "tuple"
      ]
     },
     "execution_count": 18,
     "metadata": {},
     "output_type": "execute_result"
    }
   ],
   "source": [
    "type(eleman)"
   ]
  },
  {
   "cell_type": "code",
   "execution_count": 20,
   "id": "16517e50-e847-4f8c-b3e8-8ba86455dc9d",
   "metadata": {},
   "outputs": [
    {
     "name": "stdout",
     "output_type": "stream",
     "text": [
      "0\n",
      "1\n",
      "2\n",
      "3\n",
      "4\n",
      "5\n",
      "6\n",
      "7\n",
      "8\n",
      "9\n"
     ]
    }
   ],
   "source": [
    "for (index,num) in enumerate(list(range(5,15))):\n",
    "    print(index)"
   ]
  },
  {
   "cell_type": "markdown",
   "id": "3f7dec7c-4fb6-48c1-a876-7a53af0c1abd",
   "metadata": {},
   "source": [
    "## Random"
   ]
  },
  {
   "cell_type": "code",
   "execution_count": 25,
   "id": "e3ff3a76-d286-4ff5-8bf1-7fb713c4b449",
   "metadata": {},
   "outputs": [],
   "source": [
    "from random import randint  #random kütüphanesinin içerisinden randint al getir"
   ]
  },
  {
   "cell_type": "code",
   "execution_count": 39,
   "id": "0366ee76-0d39-467a-b470-7fe5178a2bd9",
   "metadata": {},
   "outputs": [
    {
     "data": {
      "text/plain": [
       "38"
      ]
     },
     "execution_count": 39,
     "metadata": {},
     "output_type": "execute_result"
    }
   ],
   "source": [
    "randint (0,100)"
   ]
  },
  {
   "cell_type": "code",
   "execution_count": 41,
   "id": "c6f42005-133e-4de0-844a-137215004293",
   "metadata": {},
   "outputs": [
    {
     "data": {
      "text/plain": [
       "44"
      ]
     },
     "execution_count": 41,
     "metadata": {},
     "output_type": "execute_result"
    }
   ],
   "source": [
    "randint (0,100)  # her zaman rastgele bir örnek veriyor"
   ]
  },
  {
   "cell_type": "code",
   "execution_count": 57,
   "id": "bb4f59cd-9e7a-4b1d-8618-f501e6d81ab7",
   "metadata": {},
   "outputs": [],
   "source": [
    "yeniListe = list(range(0,10))"
   ]
  },
  {
   "cell_type": "code",
   "execution_count": 59,
   "id": "f16cd348-910f-4694-90cd-69f913632f90",
   "metadata": {},
   "outputs": [
    {
     "data": {
      "text/plain": [
       "3"
      ]
     },
     "execution_count": 59,
     "metadata": {},
     "output_type": "execute_result"
    }
   ],
   "source": [
    "yeniListe[randint(0,5)]"
   ]
  },
  {
   "cell_type": "code",
   "execution_count": 61,
   "id": "23849f8c-64a6-475a-8294-0e5a9807cc00",
   "metadata": {},
   "outputs": [],
   "source": [
    "from random import shuffle #karıştırıyor"
   ]
  },
  {
   "cell_type": "code",
   "execution_count": 63,
   "id": "2ed8339a-21a5-45b6-a216-b9dfe4301e0b",
   "metadata": {},
   "outputs": [],
   "source": [
    "shuffle(yeniListe)"
   ]
  },
  {
   "cell_type": "code",
   "execution_count": 65,
   "id": "48decaab-258d-41b5-bca3-be5b3f232895",
   "metadata": {},
   "outputs": [
    {
     "data": {
      "text/plain": [
       "[5, 9, 7, 2, 6, 0, 1, 3, 4, 8]"
      ]
     },
     "execution_count": 65,
     "metadata": {},
     "output_type": "execute_result"
    }
   ],
   "source": [
    "yeniListe"
   ]
  },
  {
   "cell_type": "markdown",
   "id": "a94f9412-ab3b-4f73-9686-5bda0ccfc681",
   "metadata": {},
   "source": [
    "zip"
   ]
  },
  {
   "cell_type": "code",
   "execution_count": 72,
   "id": "54667fda-c89f-4d43-82c9-26a8c5949eb6",
   "metadata": {},
   "outputs": [],
   "source": [
    "yemekListesi = [\"muz\", \"ananas\", \"elma\"]\n",
    "kaloriListesi = [100,200,300]\n",
    "gunListesi = [\"pazartesi\",\"salı\",\"çarşamba\"]"
   ]
  },
  {
   "cell_type": "code",
   "execution_count": 84,
   "id": "491304c4-dadb-45aa-8b3a-f1cff7697602",
   "metadata": {},
   "outputs": [],
   "source": [
    "ziplenmişListe = list(zip(yemekListesi,kaloriListesi,gunListesi))"
   ]
  },
  {
   "cell_type": "code",
   "execution_count": 86,
   "id": "4851d434-7bbd-49a3-9459-427db6195e1a",
   "metadata": {},
   "outputs": [
    {
     "data": {
      "text/plain": [
       "list"
      ]
     },
     "execution_count": 86,
     "metadata": {},
     "output_type": "execute_result"
    }
   ],
   "source": [
    "type(ziplenmişListe)"
   ]
  },
  {
   "cell_type": "code",
   "execution_count": 88,
   "id": "5f2d3532-5f42-4fc0-95b9-b7406b675a36",
   "metadata": {},
   "outputs": [
    {
     "name": "stdout",
     "output_type": "stream",
     "text": [
      "<class 'tuple'>\n",
      "<class 'tuple'>\n",
      "<class 'tuple'>\n"
     ]
    }
   ],
   "source": [
    "for eleman in ziplenmişListe:\n",
    "    print(type(eleman))"
   ]
  },
  {
   "cell_type": "code",
   "execution_count": 90,
   "id": "39c4ab67-296f-42dd-ac71-eeb0dae7a1dc",
   "metadata": {},
   "outputs": [
    {
     "data": {
      "text/plain": [
       "[('muz', 100, 'pazartesi'), ('ananas', 200, 'salı'), ('elma', 300, 'çarşamba')]"
      ]
     },
     "execution_count": 90,
     "metadata": {},
     "output_type": "execute_result"
    }
   ],
   "source": [
    "ziplenmişListe  #indexlere göre eşleştirmiş"
   ]
  },
  {
   "cell_type": "markdown",
   "id": "29990a57-9364-476e-8907-4b19bf3415cf",
   "metadata": {},
   "source": [
    "## LİSTELER İLERİ SEVİYE"
   ]
  },
  {
   "cell_type": "code",
   "execution_count": 100,
   "id": "f42d31f6-16b3-4cfb-9413-c0627e41e48c",
   "metadata": {},
   "outputs": [
    {
     "data": {
      "text/plain": [
       "['a',\n",
       " 't',\n",
       " 'ı',\n",
       " 'l',\n",
       " ' ',\n",
       " 's',\n",
       " 'a',\n",
       " 'm',\n",
       " 'a',\n",
       " 'n',\n",
       " 'c',\n",
       " 'ı',\n",
       " 'o',\n",
       " 'ğ',\n",
       " 'l',\n",
       " 'u']"
      ]
     },
     "execution_count": 100,
     "metadata": {},
     "output_type": "execute_result"
    }
   ],
   "source": [
    "listOrnegi = []\n",
    "benimString = \"atıl samancıoğlu\"\n",
    "for harf in benimString:\n",
    "    listOrnegi.append(harf)\n",
    "listOrnegi    "
   ]
  },
  {
   "cell_type": "code",
   "execution_count": 106,
   "id": "eaacdd3f-f922-4a9d-932e-0a396d7a229f",
   "metadata": {},
   "outputs": [
    {
     "data": {
      "text/plain": [
       "['A',\n",
       " 't',\n",
       " 'ı',\n",
       " 'l',\n",
       " ' ',\n",
       " 'S',\n",
       " 'a',\n",
       " 'm',\n",
       " 'a',\n",
       " 'n',\n",
       " 'c',\n",
       " 'ı',\n",
       " 'o',\n",
       " 'ğ',\n",
       " 'l',\n",
       " 'u']"
      ]
     },
     "execution_count": 106,
     "metadata": {},
     "output_type": "execute_result"
    }
   ],
   "source": [
    "yeniString = \"Atıl Samancıoğlu\"\n",
    "yeniListeOrnegi = [eleman for eleman in yeniString] #harfleri listeye ekliyor üstekiyle aynı daha pratik bir yazım.\n",
    "yeniListeOrnegi"
   ]
  },
  {
   "cell_type": "code",
   "execution_count": 115,
   "id": "e896a577-e245-4cf6-a335-e3d0eceb8523",
   "metadata": {},
   "outputs": [],
   "source": [
    "ikinciListeOrnegi = [num * 5 for num in list(range(0,9))]"
   ]
  },
  {
   "cell_type": "code",
   "execution_count": 121,
   "id": "8b2fa36f-76d3-4cbd-ad9d-37957e9e4d03",
   "metadata": {},
   "outputs": [
    {
     "data": {
      "text/plain": [
       "[0, 5, 10, 15, 20, 25, 30, 35, 40]"
      ]
     },
     "execution_count": 121,
     "metadata": {},
     "output_type": "execute_result"
    }
   ],
   "source": [
    "ikinciListeOrnegi\n",
    "#listenin içindeki her elemanı 5 ile çarptık \n",
    "# yeni değer for eski değer in list.. formatında\n",
    "# ilk yazılan num eklenecek olanı temsil ediyor, ikinci olan num listenin içindeki elemanı temsil ediyor ve num değeri orada tanımlanıyor"
   ]
  }
 ],
 "metadata": {
  "kernelspec": {
   "display_name": "Python 3 (ipykernel)",
   "language": "python",
   "name": "python3"
  },
  "language_info": {
   "codemirror_mode": {
    "name": "ipython",
    "version": 3
   },
   "file_extension": ".py",
   "mimetype": "text/x-python",
   "name": "python",
   "nbconvert_exporter": "python",
   "pygments_lexer": "ipython3",
   "version": "3.11.7"
  }
 },
 "nbformat": 4,
 "nbformat_minor": 5
}
