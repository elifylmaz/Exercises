{
 "cells": [
  {
   "cell_type": "code",
   "execution_count": 7,
   "id": "736ebd10-c684-4b06-b5d1-49c4bf6a2f0b",
   "metadata": {},
   "outputs": [],
   "source": [
    "benimListem = list() #Aslında liste sınıfından bir obje oluşturduk."
   ]
  },
  {
   "cell_type": "code",
   "execution_count": 9,
   "id": "c563610a-ee4d-41c4-8648-7dd3a4593913",
   "metadata": {},
   "outputs": [
    {
     "data": {
      "text/plain": [
       "list"
      ]
     },
     "execution_count": 9,
     "metadata": {},
     "output_type": "execute_result"
    }
   ],
   "source": [
    "type(benimListem) "
   ]
  },
  {
   "cell_type": "markdown",
   "id": "750b9338-832e-487d-a8a5-af1f435f3686",
   "metadata": {},
   "source": [
    "## instance & attribute\n",
    "instance : örnek / nesne , o sınıfın nesnesi  \n",
    "benimListem, list sınıfının instance'ı dir.\n",
    "### sınıf içerisindeki fonksiyonlara method denir.\n",
    "attribute = sınıfın özellikleri"
   ]
  },
  {
   "cell_type": "code",
   "execution_count": 18,
   "id": "9ddce136-277a-4291-8e46-a09594bd1a48",
   "metadata": {},
   "outputs": [],
   "source": [
    "class SuperKahraman(): #sınıfların ilk harfı genelde büyük yazılır.\n",
    "    #küçük harfle yazılan o sınıfın instance ı dir. \n",
    "    def __init__(self, isimInput, yasInput, meslekInput): #zaten tanımlı bir fonksiyon, başlatma fonksiyonudur.\n",
    "        print(\"init çağrıldı\") \n",
    "        self.isim = isimInput  #self.isim = isim şeklinde kullanılır normalde.\n",
    "        self.yas = yasInput\n",
    "        self.meslek = meslekInput\n",
    "    #SuperKahraman sınıfından herhangi bir obje oluşturduğumuzda init çağrılır.\n",
    "    #self ile kendini çağırıyor ve arguman hatasını engelliyor. Objenin kendisine referans veriyor.\n",
    "    "
   ]
  },
  {
   "cell_type": "code",
   "execution_count": 16,
   "id": "29321cfe-369c-4be2-bd3a-1c220437159a",
   "metadata": {},
   "outputs": [
    {
     "name": "stdout",
     "output_type": "stream",
     "text": [
      "init çağrıldı\n"
     ]
    }
   ],
   "source": [
    "superman = SuperKahraman()"
   ]
  },
  {
   "cell_type": "code",
   "execution_count": 20,
   "id": "5eabc130-7a24-41c9-b7de-1580736439c8",
   "metadata": {},
   "outputs": [
    {
     "name": "stdout",
     "output_type": "stream",
     "text": [
      "init çağrıldı\n"
     ]
    }
   ],
   "source": [
    "superman = SuperKahraman(\"Superman\",30,\"gazeteci\")"
   ]
  },
  {
   "cell_type": "code",
   "execution_count": 22,
   "id": "a69588c9-6da6-48fe-a14c-591f4eae0afc",
   "metadata": {},
   "outputs": [
    {
     "data": {
      "text/plain": [
       "'Superman'"
      ]
     },
     "execution_count": 22,
     "metadata": {},
     "output_type": "execute_result"
    }
   ],
   "source": [
    "#self.isim sayesinde bu özellikleri/attıırbuteleri tanımladık. \n",
    "superman.isim"
   ]
  },
  {
   "cell_type": "code",
   "execution_count": 24,
   "id": "213ec564-b1b1-49cc-bc4e-5b8ec7b25170",
   "metadata": {},
   "outputs": [
    {
     "data": {
      "text/plain": [
       "'Clark Kent'"
      ]
     },
     "execution_count": 24,
     "metadata": {},
     "output_type": "execute_result"
    }
   ],
   "source": [
    "#daha sonra değiştirebiliriz.\n",
    "superman.isim = \"Clark Kent\"\n",
    "superman.isim"
   ]
  },
  {
   "cell_type": "markdown",
   "id": "114eab64-cf60-424f-a059-542aeadd9dad",
   "metadata": {},
   "source": [
    "# Methodlar"
   ]
  },
  {
   "cell_type": "code",
   "execution_count": 51,
   "id": "7f4b4596-3ab0-499d-a1f6-fbbcc18183ad",
   "metadata": {},
   "outputs": [],
   "source": [
    "class SuperKahraman():\n",
    "\n",
    "    ozelGuc = \"uçmak\" #burda clasın bir özelliği sadece başlangıç için zorunlu bir özellik değil\n",
    "    #kullanıcı özel guç belirtmeden de nesne ekleyebilir ama ısım yas ve meslek belritmek zorundadır\n",
    "    \n",
    "    def __init__(self, isim, yas, meslek): \n",
    "        print(\"init çağrıldı\") \n",
    "        self.isim = isim \n",
    "        self.yas = yas\n",
    "        self.meslek = meslek\n",
    "\n",
    "    def ornekMethod():\n",
    "        print (\"Ben süperkahmanım\")"
   ]
  },
  {
   "cell_type": "code",
   "execution_count": 53,
   "id": "5c15b9f8-47a4-47ed-9cbd-bff9aca6a4f6",
   "metadata": {},
   "outputs": [
    {
     "name": "stdout",
     "output_type": "stream",
     "text": [
      "init çağrıldı\n"
     ]
    }
   ],
   "source": [
    "superman = SuperKahraman(\"Superman\",30,\"gazeteci\")"
   ]
  },
  {
   "cell_type": "code",
   "execution_count": 33,
   "id": "b8e17c00-b14b-4741-870d-72db53edca89",
   "metadata": {},
   "outputs": [
    {
     "data": {
      "text/plain": [
       "'uçmak'"
      ]
     },
     "execution_count": 33,
     "metadata": {},
     "output_type": "execute_result"
    }
   ],
   "source": [
    "superman.ozelGuc"
   ]
  },
  {
   "cell_type": "code",
   "execution_count": 35,
   "id": "d3b0227f-ae83-42c5-bf2f-215289d6b87a",
   "metadata": {},
   "outputs": [],
   "source": [
    "superman.ozelGuc = \"Lazer göz \""
   ]
  },
  {
   "cell_type": "code",
   "execution_count": 37,
   "id": "3ff78334-c6ab-48a5-874a-7d4caa5396ea",
   "metadata": {},
   "outputs": [
    {
     "data": {
      "text/plain": [
       "'Lazer göz '"
      ]
     },
     "execution_count": 37,
     "metadata": {},
     "output_type": "execute_result"
    }
   ],
   "source": [
    "superman.ozelGuc"
   ]
  },
  {
   "cell_type": "code",
   "execution_count": 41,
   "id": "fb2d08c6-5e9b-4903-8d3e-d650bf33b941",
   "metadata": {},
   "outputs": [
    {
     "ename": "AttributeError",
     "evalue": "'SuperKahraman' object has no attribute 'ornekMethod'",
     "output_type": "error",
     "traceback": [
      "\u001b[0;31m---------------------------------------------------------------------------\u001b[0m",
      "\u001b[0;31mAttributeError\u001b[0m                            Traceback (most recent call last)",
      "Cell \u001b[0;32mIn[41], line 1\u001b[0m\n\u001b[0;32m----> 1\u001b[0m superman\u001b[38;5;241m.\u001b[39mornekMethod()\n",
      "\u001b[0;31mAttributeError\u001b[0m: 'SuperKahraman' object has no attribute 'ornekMethod'"
     ]
    }
   ],
   "source": [
    "superman.ornekMethod() #self kullanılmadığı için çıkan hata"
   ]
  },
  {
   "cell_type": "code",
   "execution_count": 57,
   "id": "50cb82cf-614f-4281-9272-df6eb2a25c84",
   "metadata": {},
   "outputs": [],
   "source": [
    "class SuperKahraman():\n",
    "\n",
    "    ozelGuc = \"uçmak\" #burda clasın bir özelliği sadece başlangıç için zorunlu bir özellik değil\n",
    "    #kullanıcı özel guç belirtmeden de nesne ekleyebilir ama ısım yas ve meslek belritmek zorundadır\n",
    "    \n",
    "    def __init__(self, isim, yas, meslek): \n",
    "        print(\"init çağrıldı\") \n",
    "        self.isim = isim \n",
    "        self.yas = yas\n",
    "        self.meslek = meslek\n",
    "\n",
    "    def ornekMethod(self):\n",
    "        print (f\"Ben süperkahmanım ve mesleğim : {self.meslek}\") #sadece meslek yazarsak çalışmaz."
   ]
  },
  {
   "cell_type": "code",
   "execution_count": 59,
   "id": "3f041832-4e7b-43f7-a119-67c8066b53fc",
   "metadata": {},
   "outputs": [
    {
     "name": "stdout",
     "output_type": "stream",
     "text": [
      "init çağrıldı\n"
     ]
    }
   ],
   "source": [
    "superman = SuperKahraman(\"Superman\",30,\"gazeteci\")"
   ]
  },
  {
   "cell_type": "code",
   "execution_count": 55,
   "id": "cb0c0706-56e1-437e-8ece-b3e91dcbbf76",
   "metadata": {},
   "outputs": [
    {
     "name": "stdout",
     "output_type": "stream",
     "text": [
      "Ben süperkahmanım\n"
     ]
    }
   ],
   "source": [
    "superman.ornekMethod() #self kullandık"
   ]
  },
  {
   "cell_type": "code",
   "execution_count": 61,
   "id": "75c9cd14-311a-43a6-92a1-0c3d5f461ff5",
   "metadata": {},
   "outputs": [
    {
     "name": "stdout",
     "output_type": "stream",
     "text": [
      "Ben süperkahmanım ve mesleğim : gazeteci\n"
     ]
    }
   ],
   "source": [
    "superman.ornekMethod() #self kullandık"
   ]
  },
  {
   "cell_type": "code",
   "execution_count": null,
   "id": "6e420453-6e3a-450f-843f-670958d1637e",
   "metadata": {},
   "outputs": [],
   "source": []
  },
  {
   "cell_type": "code",
   "execution_count": null,
   "id": "5233e6d0-089a-4eed-9b49-c9c0c48eaad5",
   "metadata": {},
   "outputs": [],
   "source": []
  }
 ],
 "metadata": {
  "kernelspec": {
   "display_name": "Python 3 (ipykernel)",
   "language": "python",
   "name": "python3"
  },
  "language_info": {
   "codemirror_mode": {
    "name": "ipython",
    "version": 3
   },
   "file_extension": ".py",
   "mimetype": "text/x-python",
   "name": "python",
   "nbconvert_exporter": "python",
   "pygments_lexer": "ipython3",
   "version": "3.11.7"
  }
 },
 "nbformat": 4,
 "nbformat_minor": 5
}
