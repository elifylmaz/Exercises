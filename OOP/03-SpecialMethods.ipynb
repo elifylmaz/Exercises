{
 "cells": [
  {
   "cell_type": "code",
   "execution_count": 25,
   "id": "4392f677-83c8-4b21-9f2c-574e7edcfb40",
   "metadata": {},
   "outputs": [],
   "source": [
    "class Meyve ():\n",
    "    def __init__(self,isim,kalori):\n",
    "        self.isim = isim\n",
    "        self.kalori = kalori\n",
    "\n",
    "    def __str__(self): # print ile yazdırıldığında ne dönmesi gerektiğini belirityor\n",
    "        return f\"{self.isim} şu kadar kaloriye sahiptir: {self.kalori}\"\n",
    "\n",
    "    def __len__(self): #len ile ne yazılması gerektiğini belirtiyor\n",
    "        return self.kalori"
   ]
  },
  {
   "cell_type": "code",
   "execution_count": 27,
   "id": "8ea9dc40-b5f2-4107-98fb-a61ea7611877",
   "metadata": {},
   "outputs": [],
   "source": [
    "muz = Meyve(\"muz\",150)"
   ]
  },
  {
   "cell_type": "code",
   "execution_count": 10,
   "id": "0615aea2-b216-4100-a62a-3ea105781f23",
   "metadata": {},
   "outputs": [
    {
     "data": {
      "text/plain": [
       "150"
      ]
     },
     "execution_count": 10,
     "metadata": {},
     "output_type": "execute_result"
    }
   ],
   "source": [
    "muz.kalori"
   ]
  },
  {
   "cell_type": "code",
   "execution_count": 12,
   "id": "3c9ee3bb-bbb2-4a86-883f-1c22541db5ea",
   "metadata": {},
   "outputs": [
    {
     "name": "stdout",
     "output_type": "stream",
     "text": [
      "<__main__.Meyve object at 0x1127b3190>\n"
     ]
    }
   ],
   "source": [
    "print(muz)"
   ]
  },
  {
   "cell_type": "code",
   "execution_count": 29,
   "id": "4fd95c5b-dc2e-4f55-b254-c00fa2bb9e90",
   "metadata": {},
   "outputs": [
    {
     "name": "stdout",
     "output_type": "stream",
     "text": [
      "muz şu kadar kaloriye sahiptir: 150\n"
     ]
    }
   ],
   "source": [
    "print(muz)"
   ]
  },
  {
   "cell_type": "code",
   "execution_count": 31,
   "id": "67e84a97-3d44-485f-a273-1e0a12ba6eb4",
   "metadata": {},
   "outputs": [
    {
     "data": {
      "text/plain": [
       "150"
      ]
     },
     "execution_count": 31,
     "metadata": {},
     "output_type": "execute_result"
    }
   ],
   "source": [
    "len(muz)"
   ]
  },
  {
   "cell_type": "code",
   "execution_count": null,
   "id": "16467d71-b185-4037-a673-ab6076dbf18a",
   "metadata": {},
   "outputs": [],
   "source": []
  },
  {
   "cell_type": "code",
   "execution_count": 33,
   "id": "1e5ec2af-2503-4a44-9b62-a82599a87c12",
   "metadata": {},
   "outputs": [],
   "source": [
    "elma = Meyve(\"Elma\", 200)"
   ]
  },
  {
   "cell_type": "code",
   "execution_count": 35,
   "id": "7d745512-c66c-401d-b3f8-8ff843f0ca6b",
   "metadata": {},
   "outputs": [
    {
     "data": {
      "text/plain": [
       "200"
      ]
     },
     "execution_count": 35,
     "metadata": {},
     "output_type": "execute_result"
    }
   ],
   "source": [
    "len(elma)"
   ]
  },
  {
   "cell_type": "code",
   "execution_count": 37,
   "id": "34c1af32-b2d6-4be7-b2b9-0e45a7b5bc93",
   "metadata": {},
   "outputs": [
    {
     "name": "stdout",
     "output_type": "stream",
     "text": [
      "Elma şu kadar kaloriye sahiptir: 200\n"
     ]
    }
   ],
   "source": [
    "print(elma)"
   ]
  },
  {
   "cell_type": "code",
   "execution_count": null,
   "id": "7f0cf37e-4ec4-4ed6-8395-fb0bd00e2f9d",
   "metadata": {},
   "outputs": [],
   "source": []
  }
 ],
 "metadata": {
  "kernelspec": {
   "display_name": "Python 3 (ipykernel)",
   "language": "python",
   "name": "python3"
  },
  "language_info": {
   "codemirror_mode": {
    "name": "ipython",
    "version": 3
   },
   "file_extension": ".py",
   "mimetype": "text/x-python",
   "name": "python",
   "nbconvert_exporter": "python",
   "pygments_lexer": "ipython3",
   "version": "3.11.7"
  }
 },
 "nbformat": 4,
 "nbformat_minor": 5
}
