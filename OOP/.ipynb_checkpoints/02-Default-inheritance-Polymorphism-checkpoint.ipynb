{
 "cells": [
  {
   "cell_type": "code",
   "execution_count": 68,
   "id": "c5a23088-1923-4736-bdc6-5878b2b57281",
   "metadata": {},
   "outputs": [],
   "source": [
    "class Kopek():\n",
    "\n",
    "    yilCarpani = 7\n",
    "\n",
    "    def __init__(self,yas=5):\n",
    "        self.yas = yas \n",
    "        self.insanYasınaCevirmeAttribute = yas * 7 \n",
    "        \n",
    "    def insanYasiniHesapla (self):\n",
    "        return self.yas * Kopek.yilCarpani"
   ]
  },
  {
   "cell_type": "code",
   "execution_count": 70,
   "id": "ea6f106f-a4bb-45ed-a86e-77e74ab03e7e",
   "metadata": {},
   "outputs": [],
   "source": [
    "benimKopek = Kopek()"
   ]
  },
  {
   "cell_type": "code",
   "execution_count": 72,
   "id": "b3526b68-6821-45b3-9593-5b8d56df74eb",
   "metadata": {},
   "outputs": [
    {
     "data": {
      "text/plain": [
       "5"
      ]
     },
     "execution_count": 72,
     "metadata": {},
     "output_type": "execute_result"
    }
   ],
   "source": [
    "benimKopek.yas"
   ]
  },
  {
   "cell_type": "code",
   "execution_count": 74,
   "id": "675ca700-ee7f-4efa-bfb3-dda94a6e3c15",
   "metadata": {},
   "outputs": [],
   "source": [
    "#eğer bir değer verilmez ise kod çökmesin diye default değer atıyoruz. "
   ]
  },
  {
   "cell_type": "code",
   "execution_count": 76,
   "id": "b908acc3-ee32-4fd5-8051-cfa8e813a397",
   "metadata": {},
   "outputs": [],
   "source": [
    "benimKopek.yas = 9"
   ]
  },
  {
   "cell_type": "code",
   "execution_count": 78,
   "id": "a0fd26e2-8202-478a-9559-1f091f988e48",
   "metadata": {},
   "outputs": [
    {
     "data": {
      "text/plain": [
       "9"
      ]
     },
     "execution_count": 78,
     "metadata": {},
     "output_type": "execute_result"
    }
   ],
   "source": [
    "benimKopek.yas #default değerin üstüne overwrite yapabiliyoruz."
   ]
  },
  {
   "cell_type": "code",
   "execution_count": 80,
   "id": "b5b4124a-0475-4258-8af0-8ed1bd0d9cc5",
   "metadata": {},
   "outputs": [
    {
     "data": {
      "text/plain": [
       "63"
      ]
     },
     "execution_count": 80,
     "metadata": {},
     "output_type": "execute_result"
    }
   ],
   "source": [
    "benimKopek.insanYasiniHesapla()"
   ]
  },
  {
   "cell_type": "code",
   "execution_count": 82,
   "id": "5ce93fd9-752a-493c-9535-7995530fa81f",
   "metadata": {},
   "outputs": [
    {
     "data": {
      "text/plain": [
       "35"
      ]
     },
     "execution_count": 82,
     "metadata": {},
     "output_type": "execute_result"
    }
   ],
   "source": [
    "benimKopek.insanYasınaCevirmeAttribute"
   ]
  },
  {
   "cell_type": "markdown",
   "id": "e0e20bdf-0805-4813-bec6-bb9c714ac132",
   "metadata": {},
   "source": [
    "## inheritance \n",
    "miras bırakma\n"
   ]
  },
  {
   "cell_type": "code",
   "execution_count": 94,
   "id": "d11bfc99-9f2a-40d7-841e-f20f905f0720",
   "metadata": {},
   "outputs": [],
   "source": [
    "class Hayvan ():\n",
    "    def __init__(self):\n",
    "        print(\"hayvan sınıfı init çağrıldı\")\n",
    "\n",
    "    def method1 (self):\n",
    "        print(\"hayvan sınıfı method 1 çağrıldı\")\n",
    "\n",
    "    def method2 (self):\n",
    "        print (\"hayvan sınıfı method 2 çağrıldı\")\n"
   ]
  },
  {
   "cell_type": "code",
   "execution_count": 96,
   "id": "32524fa3-23a3-45cf-a8f5-035b75b76af3",
   "metadata": {},
   "outputs": [
    {
     "name": "stdout",
     "output_type": "stream",
     "text": [
      "hayvan sınıfı init çağrıldı\n"
     ]
    }
   ],
   "source": [
    "benimHayvanim =Hayvan()"
   ]
  },
  {
   "cell_type": "code",
   "execution_count": 98,
   "id": "7b843999-6720-482b-bb27-3419c79abb18",
   "metadata": {},
   "outputs": [
    {
     "name": "stdout",
     "output_type": "stream",
     "text": [
      "hayvan sınıfı method 1 çağrıldı\n"
     ]
    }
   ],
   "source": [
    "benimHayvanim.method1()"
   ]
  },
  {
   "cell_type": "code",
   "execution_count": 100,
   "id": "3b767bbc-bb97-4500-8d6d-e66765c56e07",
   "metadata": {},
   "outputs": [
    {
     "name": "stdout",
     "output_type": "stream",
     "text": [
      "hayvan sınıfı method 2 çağrıldı\n"
     ]
    }
   ],
   "source": [
    "benimHayvanim.method2()"
   ]
  },
  {
   "cell_type": "code",
   "execution_count": 120,
   "id": "6c0bf045-119f-4f3f-9c17-1902220f1b45",
   "metadata": {},
   "outputs": [],
   "source": [
    "class Kedi (Hayvan): #buraya hayvan yazdığımız için hayvan sınıfının içindeki methodlara buradan da ulaşabiliriz.\n",
    "    def __init__(self):\n",
    "        Hayvan.__init__(self)\n",
    "        print(\"kedi sınıfı init çağrıldı\")\n",
    "\n",
    "    def mivayla(self):\n",
    "        print(\"mivay\")\n",
    "        \n",
    "    #override üzerine yazmak demektir.\n",
    "    def method1(self):\n",
    "        print(\"kedi sınıfındaki method1 çağrıldı\")"
   ]
  },
  {
   "cell_type": "code",
   "execution_count": 122,
   "id": "aa2bac34-5319-48a0-aa8c-09329db9936b",
   "metadata": {},
   "outputs": [
    {
     "name": "stdout",
     "output_type": "stream",
     "text": [
      "hayvan sınıfı init çağrıldı\n",
      "kedi sınıfı init çağrıldı\n"
     ]
    }
   ],
   "source": [
    "benimKedi = Kedi()"
   ]
  },
  {
   "cell_type": "code",
   "execution_count": 112,
   "id": "ba414431-9e59-4787-a590-e9f75cbc19ec",
   "metadata": {},
   "outputs": [
    {
     "name": "stdout",
     "output_type": "stream",
     "text": [
      "hayvan sınıfı method 1 çağrıldı\n"
     ]
    }
   ],
   "source": [
    "benimKedi.method1()  #overridedan önceki kod "
   ]
  },
  {
   "cell_type": "code",
   "execution_count": 114,
   "id": "2c1fe6e1-05ec-48e6-bbf2-8027799c3741",
   "metadata": {},
   "outputs": [
    {
     "name": "stdout",
     "output_type": "stream",
     "text": [
      "mivay\n"
     ]
    }
   ],
   "source": [
    "benimKedi.mivayla() #bu kediye özeldir."
   ]
  },
  {
   "cell_type": "code",
   "execution_count": 124,
   "id": "9c728978-0253-4e3a-8cf1-5333cf9f9b9e",
   "metadata": {},
   "outputs": [
    {
     "name": "stdout",
     "output_type": "stream",
     "text": [
      "kedi sınıfındaki method1 çağrıldı\n"
     ]
    }
   ],
   "source": [
    "benimKedi.method1() #override dan sonraki kod "
   ]
  },
  {
   "cell_type": "markdown",
   "id": "ab55a7c2-579c-4228-9ad5-a60ca7cae93a",
   "metadata": {},
   "source": [
    "## Polymorphism\n",
    "aynı isimdeki methodların/fonksiyonların farklı amaca hizmet edebilmesi"
   ]
  },
  {
   "cell_type": "code",
   "execution_count": 158,
   "id": "a3c096f4-5d8c-4486-b01f-56fe085aa561",
   "metadata": {},
   "outputs": [],
   "source": [
    "class Elma():\n",
    "    def __init__(self,isim):\n",
    "        self.isim = isim \n",
    "\n",
    "    def bilgiVer (self):\n",
    "        return self.isim + \" 100 kaloridir.\""
   ]
  },
  {
   "cell_type": "code",
   "execution_count": 160,
   "id": "8274ef84-21c4-4883-ae5c-f3ba6451996c",
   "metadata": {},
   "outputs": [],
   "source": [
    "class Muz():\n",
    "    def __init__ (self,isim):\n",
    "        self.isim = isim\n",
    "\n",
    "    def bilgiVer(self):\n",
    "        return self.isim + \" 150 kaloridir.\"\n",
    "        "
   ]
  },
  {
   "cell_type": "code",
   "execution_count": 162,
   "id": "84b79f0c-1bce-4b34-93ab-46a701838f92",
   "metadata": {},
   "outputs": [],
   "source": [
    "elma = Elma(\"Elma\")"
   ]
  },
  {
   "cell_type": "code",
   "execution_count": 164,
   "id": "72e54186-4564-4168-bb9f-7063a0632674",
   "metadata": {},
   "outputs": [
    {
     "data": {
      "text/plain": [
       "'Elma 100 kaloridir.'"
      ]
     },
     "execution_count": 164,
     "metadata": {},
     "output_type": "execute_result"
    }
   ],
   "source": [
    "elma.bilgiVer()"
   ]
  },
  {
   "cell_type": "code",
   "execution_count": 166,
   "id": "85e2758e-795b-4e73-bdac-77ec17b528c6",
   "metadata": {},
   "outputs": [],
   "source": [
    "muz = Muz(\"muz\")"
   ]
  },
  {
   "cell_type": "code",
   "execution_count": 168,
   "id": "4a022ffb-4c1c-4f42-bf2e-0f9182403b5b",
   "metadata": {},
   "outputs": [
    {
     "data": {
      "text/plain": [
       "'muz 150 kaloridir.'"
      ]
     },
     "execution_count": 168,
     "metadata": {},
     "output_type": "execute_result"
    }
   ],
   "source": [
    "muz.bilgiVer()"
   ]
  },
  {
   "cell_type": "code",
   "execution_count": 170,
   "id": "12c7b536-917d-45d3-af63-146705ac6153",
   "metadata": {},
   "outputs": [],
   "source": [
    "meyveListesi = [elma,muz] #listenin içindekiler,sınıflar ile oluşan objeler"
   ]
  },
  {
   "cell_type": "code",
   "execution_count": 172,
   "id": "463472ad-699e-4871-bf1d-ff8d4140990a",
   "metadata": {},
   "outputs": [
    {
     "name": "stdout",
     "output_type": "stream",
     "text": [
      "Elma 100 kaloridir.\n",
      "muz 150 kaloridir.\n"
     ]
    }
   ],
   "source": [
    "for meyve in meyveListesi:\n",
    "    print(meyve.bilgiVer())  #iki objede ayn methoda sahip her obje kendi için çalıştı."
   ]
  },
  {
   "cell_type": "code",
   "execution_count": 174,
   "id": "22cbffbc-1b74-4c24-b631-c24ed4594583",
   "metadata": {},
   "outputs": [],
   "source": [
    "def bilgiAl(meyve):\n",
    "    print(meyve.bilgiVer())"
   ]
  },
  {
   "cell_type": "code",
   "execution_count": 176,
   "id": "44addd4b-7794-4ddc-aeca-3e635876363f",
   "metadata": {},
   "outputs": [
    {
     "name": "stdout",
     "output_type": "stream",
     "text": [
      "muz 150 kaloridir.\n"
     ]
    }
   ],
   "source": [
    "bilgiAl(muz)"
   ]
  },
  {
   "cell_type": "code",
   "execution_count": 178,
   "id": "f35e4689-0ee0-4d3a-ba65-299b7177ab5b",
   "metadata": {},
   "outputs": [
    {
     "name": "stdout",
     "output_type": "stream",
     "text": [
      "Elma 100 kaloridir.\n"
     ]
    }
   ],
   "source": [
    "bilgiAl(elma)"
   ]
  },
  {
   "cell_type": "code",
   "execution_count": null,
   "id": "dcae34cb-0118-4a9b-a6fe-19f51a371848",
   "metadata": {},
   "outputs": [],
   "source": []
  }
 ],
 "metadata": {
  "kernelspec": {
   "display_name": "Python 3 (ipykernel)",
   "language": "python",
   "name": "python3"
  },
  "language_info": {
   "codemirror_mode": {
    "name": "ipython",
    "version": 3
   },
   "file_extension": ".py",
   "mimetype": "text/x-python",
   "name": "python",
   "nbconvert_exporter": "python",
   "pygments_lexer": "ipython3",
   "version": "3.11.7"
  }
 },
 "nbformat": 4,
 "nbformat_minor": 5
}
