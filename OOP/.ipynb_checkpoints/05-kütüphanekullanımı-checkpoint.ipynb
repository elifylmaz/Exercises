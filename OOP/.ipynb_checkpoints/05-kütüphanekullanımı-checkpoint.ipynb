{
 "cells": [
  {
   "cell_type": "code",
   "execution_count": 4,
   "id": "be83e8ca-845d-4ea7-985a-8a9a5eddee60",
   "metadata": {},
   "outputs": [
    {
     "data": {
      "text/plain": [
       "4015.2239088349193"
      ]
     },
     "execution_count": 4,
     "metadata": {},
     "output_type": "execute_result"
    }
   ],
   "source": [
    "import numpy as np #kısaltmalar\n",
    "import matplotlib.pyplot as matplot\n",
    "\n",
    "maasListesi = np.random.normal(4000,500,1000) #verileri oluşturduk\n",
    "numpy.mean(maasListesi)"
   ]
  },
  {
   "cell_type": "code",
   "execution_count": 8,
   "id": "f076a085-5c77-4c80-b7b9-b04efedb058a",
   "metadata": {},
   "outputs": [
    {
     "data": {
      "image/png": "[encoded data removed]",
      "text/plain": [
       "<Figure size 640x480 with 1 Axes>"
      ]
     },
     "metadata": {},
     "output_type": "display_data"
    }
   ],
   "source": [
    "matplot.hist(maasListesi,50) #verileri görselleştirdik\n",
    "matplot.show()"
   ]
  },
  {
   "cell_type": "code",
   "execution_count": null,
   "id": "d66b0346-4026-419a-b52b-e510c1535b96",
   "metadata": {},
   "outputs": [],
   "source": []
  },
  {
   "cell_type": "markdown",
   "id": "c6be4657-015b-4ff3-a3c3-e21b25174920",
   "metadata": {},
   "source": [
    "## Modüller , kütüphane gibi\n",
    "atılmodul.py gibi bir dosya oluyor ve onun içindeki bir kodu çağırmak için\n",
    "#### from atılmodul import fonksiyon \n",
    "\n",
    "#### fonksiyon()\n",
    "\n",
    "------------------------------------------------------------------------\n",
    "\n",
    "## Paketler\n",
    "bunun içersinde ayrı ayrı klasörler olabilir \n",
    "her klasör alt paket (subpackage) olur.\n",
    "içerisinde __init__.py dosyaları olursa python bunun paket olduğunu anlar. \n",
    "#### from OnemliProjePackage import anapaketmodul\n",
    "#### from OnemliProjePackage.SubPackage import altpaketmodul\n",
    "\n",
    "#### anapaketmodul.anaFonksiyon()\n",
    "#### altpaketmodul.altFonksiyon()"
   ]
  },
  {
   "cell_type": "code",
   "execution_count": null,
   "id": "d3f91630-dec5-4115-ade4-97a70bc41aa8",
   "metadata": {},
   "outputs": [],
   "source": []
  }
 ],
 "metadata": {
  "kernelspec": {
   "display_name": "Python 3 (ipykernel)",
   "language": "python",
   "name": "python3"
  },
  "language_info": {
   "codemirror_mode": {
    "name": "ipython",
    "version": 3
   },
   "file_extension": ".py",
   "mimetype": "text/x-python",
   "name": "python",
   "nbconvert_exporter": "python",
   "pygments_lexer": "ipython3",
   "version": "3.11.7"
  }
 },
 "nbformat": 4,
 "nbformat_minor": 5
}
