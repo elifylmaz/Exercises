{
 "cells": [
  {
   "cell_type": "code",
   "execution_count": 2,
   "id": "5bf84e43-81cc-4837-8c96-6a223346802a",
   "metadata": {},
   "outputs": [],
   "source": [
    "def toplama (num1,num2):\n",
    "    return num1 + num2"
   ]
  },
  {
   "cell_type": "code",
   "execution_count": 4,
   "id": "0527aa87-6c6f-479e-af0b-c0feefbdb141",
   "metadata": {},
   "outputs": [
    {
     "name": "stdin",
     "output_type": "stream",
     "text": [
      "ilk numarayı girin:  12\n",
      "ikinci numarayı girin:  22\n"
     ]
    },
    {
     "data": {
      "text/plain": [
       "34"
      ]
     },
     "execution_count": 4,
     "metadata": {},
     "output_type": "execute_result"
    }
   ],
   "source": [
    "x = int(input(\"ilk numarayı girin: \"))\n",
    "y = int(input(\"ikinci numarayı girin: \"))\n",
    "toplama(x,y)"
   ]
  },
  {
   "cell_type": "markdown",
   "id": "76b5aac2-7200-4804-8f25-8936d2d89570",
   "metadata": {},
   "source": [
    "## try & except & else & finally"
   ]
  },
  {
   "cell_type": "code",
   "execution_count": 7,
   "id": "7d0f82c4-aeb1-4486-bc21-10cd6136bf4e",
   "metadata": {},
   "outputs": [
    {
     "name": "stdin",
     "output_type": "stream",
     "text": [
      "Numara girin:  atıl\n"
     ]
    },
    {
     "name": "stdout",
     "output_type": "stream",
     "text": [
      "lütfen gerçek numara girin:\n",
      "finally çağrıldı\n"
     ]
    },
    {
     "name": "stdin",
     "output_type": "stream",
     "text": [
      "Numara girin:  3\n"
     ]
    },
    {
     "name": "stdout",
     "output_type": "stream",
     "text": [
      "teşekkürler\n",
      "finally çağrıldı\n"
     ]
    }
   ],
   "source": [
    "while True:\n",
    "    try:\n",
    "        benimInt = int(input(\"Numara girin: \"))\n",
    "    except:\n",
    "        print(\"lütfen gerçek numara girin:\") #hatalı girdin\n",
    "        continue   \n",
    "    else:\n",
    "        print(\"teşekkürler\") #gerçek numara girdin, break oldu ve döngüden çıktı\n",
    "        break\n",
    "\n",
    "    finally:\n",
    "        print(\"finally çağrıldı\") #ne yazarsak yaz döngü içinde old sürece bu çağrılacak"
   ]
  },
  {
   "cell_type": "code",
   "execution_count": null,
   "id": "5664d987-f223-496c-bd5a-f24964dcb6be",
   "metadata": {},
   "outputs": [],
   "source": []
  },
  {
   "cell_type": "code",
   "execution_count": null,
   "id": "1936fbfb-1abd-468c-96ff-6ce493c0f370",
   "metadata": {},
   "outputs": [],
   "source": []
  }
 ],
 "metadata": {
  "kernelspec": {
   "display_name": "Python 3 (ipykernel)",
   "language": "python",
   "name": "python3"
  },
  "language_info": {
   "codemirror_mode": {
    "name": "ipython",
    "version": 3
   },
   "file_extension": ".py",
   "mimetype": "text/x-python",
   "name": "python",
   "nbconvert_exporter": "python",
   "pygments_lexer": "ipython3",
   "version": "3.11.7"
  }
 },
 "nbformat": 4,
 "nbformat_minor": 5
}
