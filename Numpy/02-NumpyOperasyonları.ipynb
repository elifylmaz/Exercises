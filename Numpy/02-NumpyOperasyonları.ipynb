{
 "cells": [
  {
   "cell_type": "code",
   "execution_count": 2,
   "id": "33a94b9a-0ee0-4038-b2e3-a45acb0845dc",
   "metadata": {},
   "outputs": [],
   "source": [
    "import numpy as np "
   ]
  },
  {
   "cell_type": "code",
   "execution_count": 4,
   "id": "2afeba79-538a-4201-b8b3-10e3bf738631",
   "metadata": {},
   "outputs": [],
   "source": [
    "benimDizim = np.arange(0,15)"
   ]
  },
  {
   "cell_type": "code",
   "execution_count": 6,
   "id": "56e94368-eb06-4cd7-ad59-41fa2cea3c85",
   "metadata": {},
   "outputs": [
    {
     "data": {
      "text/plain": [
       "array([ 0,  1,  2,  3,  4,  5,  6,  7,  8,  9, 10, 11, 12, 13, 14])"
      ]
     },
     "execution_count": 6,
     "metadata": {},
     "output_type": "execute_result"
    }
   ],
   "source": [
    "benimDizim"
   ]
  },
  {
   "cell_type": "code",
   "execution_count": 8,
   "id": "31fcb2f6-6c4e-440c-a091-dbb1350fd97f",
   "metadata": {},
   "outputs": [
    {
     "data": {
      "text/plain": [
       "5"
      ]
     },
     "execution_count": 8,
     "metadata": {},
     "output_type": "execute_result"
    }
   ],
   "source": [
    "benimDizim[5]"
   ]
  },
  {
   "cell_type": "code",
   "execution_count": 17,
   "id": "42f13d9b-cd01-4deb-9e70-2df7febe079f",
   "metadata": {},
   "outputs": [
    {
     "data": {
      "text/plain": [
       "array([3, 4, 5, 6, 7])"
      ]
     },
     "execution_count": 17,
     "metadata": {},
     "output_type": "execute_result"
    }
   ],
   "source": [
    "benimDizim[3:8] #listelerdeki gibi çalışıyor"
   ]
  },
  {
   "cell_type": "code",
   "execution_count": 19,
   "id": "cfbf8ab1-0cae-4ced-a775-969bbacb23bc",
   "metadata": {},
   "outputs": [],
   "source": [
    "benimDizim[3:8] = -5"
   ]
  },
  {
   "cell_type": "code",
   "execution_count": 21,
   "id": "3adf1285-230b-468e-baad-672a585690a3",
   "metadata": {},
   "outputs": [
    {
     "data": {
      "text/plain": [
       "array([ 0,  1,  2, -5, -5, -5, -5, -5,  8,  9, 10, 11, 12, 13, 14])"
      ]
     },
     "execution_count": 21,
     "metadata": {},
     "output_type": "execute_result"
    }
   ],
   "source": [
    "benimDizim"
   ]
  },
  {
   "cell_type": "code",
   "execution_count": 23,
   "id": "3dffbf76-627c-405f-a7e4-3893e138638c",
   "metadata": {},
   "outputs": [],
   "source": [
    "baskaDizi = np.arange(0,24)"
   ]
  },
  {
   "cell_type": "code",
   "execution_count": 25,
   "id": "3d59acbc-947e-44bb-9822-617b00113b32",
   "metadata": {},
   "outputs": [
    {
     "data": {
      "text/plain": [
       "array([ 0,  1,  2,  3,  4,  5,  6,  7,  8,  9, 10, 11, 12, 13, 14, 15, 16,\n",
       "       17, 18, 19, 20, 21, 22, 23])"
      ]
     },
     "execution_count": 25,
     "metadata": {},
     "output_type": "execute_result"
    }
   ],
   "source": [
    "baskaDizi"
   ]
  },
  {
   "cell_type": "code",
   "execution_count": 37,
   "id": "0d5c3cf5-ee0b-46a2-be98-4be4f297b309",
   "metadata": {},
   "outputs": [
    {
     "data": {
      "text/plain": [
       "array([4, 5, 6, 7, 8])"
      ]
     },
     "execution_count": 37,
     "metadata": {},
     "output_type": "execute_result"
    }
   ],
   "source": [
    "baskaDizi[4:9]"
   ]
  },
  {
   "cell_type": "code",
   "execution_count": 39,
   "id": "bc62b9ae-12e4-47a1-b5d2-1d46e3996c49",
   "metadata": {},
   "outputs": [],
   "source": [
    "slicingDizisi = baskaDizi[4:9]"
   ]
  },
  {
   "cell_type": "code",
   "execution_count": 41,
   "id": "35d9aa29-0b7e-4fb7-b703-64b69e2f58f2",
   "metadata": {},
   "outputs": [
    {
     "data": {
      "text/plain": [
       "array([4, 5, 6, 7, 8])"
      ]
     },
     "execution_count": 41,
     "metadata": {},
     "output_type": "execute_result"
    }
   ],
   "source": [
    "slicingDizisi"
   ]
  },
  {
   "cell_type": "code",
   "execution_count": 33,
   "id": "250a3820-c129-4f97-bcaf-b4c12b9b0b5f",
   "metadata": {},
   "outputs": [],
   "source": [
    "slicingDizisi = 700"
   ]
  },
  {
   "cell_type": "code",
   "execution_count": 35,
   "id": "5531bdc2-1a73-4cdc-b076-791cb9cdeda2",
   "metadata": {},
   "outputs": [
    {
     "data": {
      "text/plain": [
       "700"
      ]
     },
     "execution_count": 35,
     "metadata": {},
     "output_type": "execute_result"
    }
   ],
   "source": [
    "slicingDizisi # bu direk int olan 700 e eşitleniyor ve type da int "
   ]
  },
  {
   "cell_type": "code",
   "execution_count": 49,
   "id": "a9517275-e8f6-4f63-b530-091a6378b568",
   "metadata": {},
   "outputs": [],
   "source": [
    "slicingDizisi[:] = 700  #doğru kullanım bu şekildedir"
   ]
  },
  {
   "cell_type": "code",
   "execution_count": 51,
   "id": "b1cad345-a5a8-476b-ae7b-2fa845cc5f79",
   "metadata": {},
   "outputs": [
    {
     "data": {
      "text/plain": [
       "array([700, 700, 700, 700, 700])"
      ]
     },
     "execution_count": 51,
     "metadata": {},
     "output_type": "execute_result"
    }
   ],
   "source": [
    "slicingDizisi"
   ]
  },
  {
   "cell_type": "code",
   "execution_count": 53,
   "id": "b94043b6-62ca-46fd-aa02-2a502e5f3da1",
   "metadata": {},
   "outputs": [
    {
     "data": {
      "text/plain": [
       "array([  0,   1,   2,   3, 700, 700, 700, 700, 700,   9,  10,  11,  12,\n",
       "        13,  14,  15,  16,  17,  18,  19,  20,  21,  22,  23])"
      ]
     },
     "execution_count": 53,
     "metadata": {},
     "output_type": "execute_result"
    }
   ],
   "source": [
    "baskaDizi  ##buradaki rakamlarda değişti ben şok "
   ]
  },
  {
   "cell_type": "markdown",
   "id": "27516661-70f1-4640-abed-989ce7a29e0b",
   "metadata": {},
   "source": [
    "## orijinali değiştirmeden yapmak için "
   ]
  },
  {
   "cell_type": "code",
   "execution_count": 56,
   "id": "76d0c277-8027-4165-9c6b-00dbf203f762",
   "metadata": {},
   "outputs": [],
   "source": [
    "ornekDizi = np.arange(0,24)"
   ]
  },
  {
   "cell_type": "code",
   "execution_count": 58,
   "id": "30b4dcae-d245-4001-8f0a-26357eec5431",
   "metadata": {},
   "outputs": [
    {
     "data": {
      "text/plain": [
       "array([ 0,  1,  2,  3,  4,  5,  6,  7,  8,  9, 10, 11, 12, 13, 14, 15, 16,\n",
       "       17, 18, 19, 20, 21, 22, 23])"
      ]
     },
     "execution_count": 58,
     "metadata": {},
     "output_type": "execute_result"
    }
   ],
   "source": [
    "ornekDizi"
   ]
  },
  {
   "cell_type": "code",
   "execution_count": 60,
   "id": "ee96b766-5956-4566-9359-7b73b3b9a2cc",
   "metadata": {},
   "outputs": [],
   "source": [
    "ornekDiziKopyası = ornekDizi.copy()"
   ]
  },
  {
   "cell_type": "code",
   "execution_count": 62,
   "id": "335463ab-5c16-4caf-aa28-3cad42c7c3b1",
   "metadata": {},
   "outputs": [
    {
     "data": {
      "text/plain": [
       "array([ 0,  1,  2,  3,  4,  5,  6,  7,  8,  9, 10, 11, 12, 13, 14, 15, 16,\n",
       "       17, 18, 19, 20, 21, 22, 23])"
      ]
     },
     "execution_count": 62,
     "metadata": {},
     "output_type": "execute_result"
    }
   ],
   "source": [
    "ornekDiziKopyası"
   ]
  },
  {
   "cell_type": "code",
   "execution_count": 64,
   "id": "cdc6be82-6eda-426a-8085-13adc80776ff",
   "metadata": {},
   "outputs": [
    {
     "data": {
      "text/plain": [
       "array([ 0,  1,  2,  3,  4,  5,  6,  7,  8,  9, 10, 11, 12, 13, 14, 15, 16,\n",
       "       17, 18, 19, 20, 21, 22, 23])"
      ]
     },
     "execution_count": 64,
     "metadata": {},
     "output_type": "execute_result"
    }
   ],
   "source": [
    "ornekDizi"
   ]
  },
  {
   "cell_type": "code",
   "execution_count": 66,
   "id": "8f7a1d93-e976-4f75-b6ea-9fcfee77c1ea",
   "metadata": {},
   "outputs": [],
   "source": [
    "ornekDiziKopyaSlicing = ornekDiziKopyası[3:6]"
   ]
  },
  {
   "cell_type": "code",
   "execution_count": 68,
   "id": "eef628bc-485c-46d2-98e4-26ba1f2c1486",
   "metadata": {},
   "outputs": [],
   "source": [
    "ornekDiziKopyaSlicing[:] = 800"
   ]
  },
  {
   "cell_type": "code",
   "execution_count": 70,
   "id": "81d00d00-33ce-4f7e-9282-99d4560f17f9",
   "metadata": {},
   "outputs": [
    {
     "data": {
      "text/plain": [
       "array([800, 800, 800])"
      ]
     },
     "execution_count": 70,
     "metadata": {},
     "output_type": "execute_result"
    }
   ],
   "source": [
    "ornekDiziKopyaSlicing"
   ]
  },
  {
   "cell_type": "code",
   "execution_count": 72,
   "id": "7ed8468d-7503-42ff-bacb-28b477932c9f",
   "metadata": {},
   "outputs": [
    {
     "data": {
      "text/plain": [
       "array([  0,   1,   2, 800, 800, 800,   6,   7,   8,   9,  10,  11,  12,\n",
       "        13,  14,  15,  16,  17,  18,  19,  20,  21,  22,  23])"
      ]
     },
     "execution_count": 72,
     "metadata": {},
     "output_type": "execute_result"
    }
   ],
   "source": [
    "ornekDiziKopyası"
   ]
  },
  {
   "cell_type": "code",
   "execution_count": 74,
   "id": "752f095e-84d2-431f-a006-12e6c957cfeb",
   "metadata": {},
   "outputs": [
    {
     "data": {
      "text/plain": [
       "array([ 0,  1,  2,  3,  4,  5,  6,  7,  8,  9, 10, 11, 12, 13, 14, 15, 16,\n",
       "       17, 18, 19, 20, 21, 22, 23])"
      ]
     },
     "execution_count": 74,
     "metadata": {},
     "output_type": "execute_result"
    }
   ],
   "source": [
    "ornekDizi"
   ]
  },
  {
   "cell_type": "markdown",
   "id": "98b73d76-7d1e-4468-8c69-137a20dd199e",
   "metadata": {},
   "source": [
    " ## eğer orijinal dizinin bozulmasını istemiyor isen orijinal dizinin bir kopyasını üret ve onun üzerinden işlem yap "
   ]
  },
  {
   "cell_type": "markdown",
   "id": "4f20b67f-c1a9-40eb-bfba-be86fef0df8c",
   "metadata": {},
   "source": [
    "#### Bu işlemler pek vektörel oldu çünkü tek boyutlu , 2 boyutlu (matrix) de nasıl işlem yapılır ??"
   ]
  },
  {
   "cell_type": "markdown",
   "id": "dec11702-1208-43af-89df-206e8a0e8c31",
   "metadata": {},
   "source": [
    "# Matrix"
   ]
  },
  {
   "cell_type": "code",
   "execution_count": 93,
   "id": "9dadc9a9-a37a-40d4-af5e-5d6b7bb06315",
   "metadata": {},
   "outputs": [],
   "source": [
    "benimListem = [[10,20,30],[40,50,60],[70,80,90]]"
   ]
  },
  {
   "cell_type": "code",
   "execution_count": 95,
   "id": "e1671f4f-9e60-417c-b2d4-c9ff74b55737",
   "metadata": {},
   "outputs": [],
   "source": [
    "matrixDizim = np.array(benimListem)"
   ]
  },
  {
   "cell_type": "code",
   "execution_count": 97,
   "id": "ca11a5b8-010b-4ce5-9de3-4d98e2164483",
   "metadata": {},
   "outputs": [
    {
     "data": {
      "text/plain": [
       "array([[10, 20, 30],\n",
       "       [40, 50, 60],\n",
       "       [70, 80, 90]])"
      ]
     },
     "execution_count": 97,
     "metadata": {},
     "output_type": "execute_result"
    }
   ],
   "source": [
    "matrixDizim"
   ]
  },
  {
   "cell_type": "code",
   "execution_count": 99,
   "id": "1e895fc4-3808-4b50-9990-589899bee2ac",
   "metadata": {},
   "outputs": [
    {
     "data": {
      "text/plain": [
       "array([10, 20, 30])"
      ]
     },
     "execution_count": 99,
     "metadata": {},
     "output_type": "execute_result"
    }
   ],
   "source": [
    "matrixDizim[0]"
   ]
  },
  {
   "cell_type": "code",
   "execution_count": 101,
   "id": "cf458478-b54f-48aa-b1af-760a9a88c109",
   "metadata": {},
   "outputs": [
    {
     "data": {
      "text/plain": [
       "30"
      ]
     },
     "execution_count": 101,
     "metadata": {},
     "output_type": "execute_result"
    }
   ],
   "source": [
    "matrixDizim[0][2]"
   ]
  },
  {
   "cell_type": "code",
   "execution_count": 103,
   "id": "a6272d68-8ce3-4346-b8b1-f9efee1f4d07",
   "metadata": {},
   "outputs": [
    {
     "data": {
      "text/plain": [
       "60"
      ]
     },
     "execution_count": 103,
     "metadata": {},
     "output_type": "execute_result"
    }
   ],
   "source": [
    "matrixDizim[1,2]"
   ]
  },
  {
   "cell_type": "code",
   "execution_count": 113,
   "id": "08bfabbc-1595-426d-961f-3270d5a90498",
   "metadata": {},
   "outputs": [
    {
     "data": {
      "text/plain": [
       "array([60, 90])"
      ]
     },
     "execution_count": 113,
     "metadata": {},
     "output_type": "execute_result"
    }
   ],
   "source": [
    "matrixDizim[1:,2]  # 1. indexten başla ve onların 2. indexlerini getir"
   ]
  },
  {
   "cell_type": "code",
   "execution_count": 127,
   "id": "0768b732-062e-46e3-8514-cbd989e85ed2",
   "metadata": {},
   "outputs": [
    {
     "data": {
      "text/plain": [
       "array([[40, 50, 60],\n",
       "       [70, 80, 90]])"
      ]
     },
     "execution_count": 127,
     "metadata": {},
     "output_type": "execute_result"
    }
   ],
   "source": [
    "matrixDizim[1:,0:] #1. indexten başla ve onların 0. indexinden son indexine kadar getir"
   ]
  },
  {
   "cell_type": "code",
   "execution_count": 129,
   "id": "42050739-e06b-4e3c-8004-20c15d565373",
   "metadata": {},
   "outputs": [
    {
     "data": {
      "text/plain": [
       "array([[70, 80]])"
      ]
     },
     "execution_count": 129,
     "metadata": {},
     "output_type": "execute_result"
    }
   ],
   "source": [
    "matrixDizim[2:,0:2] #1. indexten başla ve onların 0. indexinden 2. indexine kadar getir (2 dahil değil)"
   ]
  },
  {
   "cell_type": "markdown",
   "id": "a82d16f9-4869-4bb1-bf23-3eca435116d5",
   "metadata": {},
   "source": [
    "## [a:b:e,c:d:e] \n",
    "#### gibi düşün, a ve b satır başlangıç ve bitiş , c ve d sutün başlangıç ve bitiş (bitişler dahil değil ) e de atlama sayısı"
   ]
  },
  {
   "cell_type": "code",
   "execution_count": 139,
   "id": "198ef05d-deab-4d7a-a7e0-1836eece84e4",
   "metadata": {},
   "outputs": [],
   "source": [
    "yenimatrix = np.arange(0,60)"
   ]
  },
  {
   "cell_type": "code",
   "execution_count": 143,
   "id": "b77dbd65-35ad-4351-bcbb-f952a1b4e40e",
   "metadata": {},
   "outputs": [
    {
     "data": {
      "text/plain": [
       "array([ 0,  1,  2,  3,  4,  5,  6,  7,  8,  9, 10, 11, 12, 13, 14, 15, 16,\n",
       "       17, 18, 19, 20, 21, 22, 23, 24, 25, 26, 27, 28, 29, 30, 31, 32, 33,\n",
       "       34, 35, 36, 37, 38, 39, 40, 41, 42, 43, 44, 45, 46, 47, 48, 49, 50,\n",
       "       51, 52, 53, 54, 55, 56, 57, 58, 59])"
      ]
     },
     "execution_count": 143,
     "metadata": {},
     "output_type": "execute_result"
    }
   ],
   "source": [
    "yenimatrix"
   ]
  },
  {
   "cell_type": "code",
   "execution_count": 145,
   "id": "afe39e47-fc7e-433a-9182-b05f32e518d4",
   "metadata": {},
   "outputs": [],
   "source": [
    "shapematrix = yenimatrix.reshape(6,10)"
   ]
  },
  {
   "cell_type": "code",
   "execution_count": 147,
   "id": "59953a72-7507-4e43-976b-7a47e4ab8630",
   "metadata": {},
   "outputs": [
    {
     "data": {
      "text/plain": [
       "array([[ 0,  1,  2,  3,  4,  5,  6,  7,  8,  9],\n",
       "       [10, 11, 12, 13, 14, 15, 16, 17, 18, 19],\n",
       "       [20, 21, 22, 23, 24, 25, 26, 27, 28, 29],\n",
       "       [30, 31, 32, 33, 34, 35, 36, 37, 38, 39],\n",
       "       [40, 41, 42, 43, 44, 45, 46, 47, 48, 49],\n",
       "       [50, 51, 52, 53, 54, 55, 56, 57, 58, 59]])"
      ]
     },
     "execution_count": 147,
     "metadata": {},
     "output_type": "execute_result"
    }
   ],
   "source": [
    "shapematrix"
   ]
  },
  {
   "cell_type": "code",
   "execution_count": 149,
   "id": "912343b8-f50a-4ffc-b693-7f876ff991d9",
   "metadata": {},
   "outputs": [
    {
     "data": {
      "text/plain": [
       "array([20, 21, 22, 23, 24, 25, 26, 27, 28, 29])"
      ]
     },
     "execution_count": 149,
     "metadata": {},
     "output_type": "execute_result"
    }
   ],
   "source": [
    "shapematrix [2]"
   ]
  },
  {
   "cell_type": "code",
   "execution_count": 153,
   "id": "dcc0b47a-d248-4a45-8b21-e2db9634a52e",
   "metadata": {},
   "outputs": [
    {
     "data": {
      "text/plain": [
       "array([[50, 51, 52, 53, 54, 55, 56, 57, 58, 59],\n",
       "       [20, 21, 22, 23, 24, 25, 26, 27, 28, 29]])"
      ]
     },
     "execution_count": 153,
     "metadata": {},
     "output_type": "execute_result"
    }
   ],
   "source": [
    "shapematrix[[5,2]] # liste gibi yazınca istediğim indexleri veriyor"
   ]
  },
  {
   "cell_type": "code",
   "execution_count": 157,
   "id": "128a1c20-ccc0-4ee2-ba32-6fce75e1a1b8",
   "metadata": {},
   "outputs": [
    {
     "data": {
      "text/plain": [
       "array([[10, 11, 12, 13, 14, 15, 16, 17, 18, 19],\n",
       "       [30, 31, 32, 33, 34, 35, 36, 37, 38, 39]])"
      ]
     },
     "execution_count": 157,
     "metadata": {},
     "output_type": "execute_result"
    }
   ],
   "source": [
    "shapematrix[1:5:2,]"
   ]
  },
  {
   "cell_type": "code",
   "execution_count": 161,
   "id": "8dc99832-5146-449b-9834-1b912bef7b6e",
   "metadata": {},
   "outputs": [
    {
     "data": {
      "text/plain": [
       "array([[ 1,  3,  5,  7,  9],\n",
       "       [11, 13, 15, 17, 19],\n",
       "       [21, 23, 25, 27, 29],\n",
       "       [31, 33, 35, 37, 39],\n",
       "       [41, 43, 45, 47, 49]])"
      ]
     },
     "execution_count": 161,
     "metadata": {},
     "output_type": "execute_result"
    }
   ],
   "source": [
    "shapematrix[:5,1:10:2]"
   ]
  },
  {
   "cell_type": "markdown",
   "id": "0b750998-829d-48d4-8bd2-5f279b9015af",
   "metadata": {},
   "source": [
    "# operasyonlar"
   ]
  },
  {
   "cell_type": "code",
   "execution_count": 208,
   "id": "8812f14d-1613-4565-b960-e4c07af3ccb4",
   "metadata": {},
   "outputs": [],
   "source": [
    "yenibirdizi = np.random.randint(1,100,20)"
   ]
  },
  {
   "cell_type": "code",
   "execution_count": 210,
   "id": "bd27a974-9a21-413c-ad3e-31a084b58c65",
   "metadata": {},
   "outputs": [
    {
     "data": {
      "text/plain": [
       "array([65, 51, 92, 89, 22, 82, 44, 86, 71, 40, 18, 38, 49, 38, 10, 50, 58,\n",
       "        7, 47, 63])"
      ]
     },
     "execution_count": 210,
     "metadata": {},
     "output_type": "execute_result"
    }
   ],
   "source": [
    "yenibirdizi"
   ]
  },
  {
   "cell_type": "code",
   "execution_count": 212,
   "id": "8b443c4e-3613-4ff6-9b54-57df1caee3db",
   "metadata": {},
   "outputs": [
    {
     "data": {
      "text/plain": [
       "array([ True,  True,  True,  True, False,  True, False,  True,  True,\n",
       "       False, False, False, False, False, False, False,  True, False,\n",
       "       False,  True])"
      ]
     },
     "execution_count": 212,
     "metadata": {},
     "output_type": "execute_result"
    }
   ],
   "source": [
    "yenibirdizi > 50"
   ]
  },
  {
   "cell_type": "code",
   "execution_count": 214,
   "id": "a06d1a9a-2ad8-4c11-a8d8-2442e1e66f4d",
   "metadata": {},
   "outputs": [],
   "source": [
    "sonucdizisi = yenibirdizi > 50"
   ]
  },
  {
   "cell_type": "code",
   "execution_count": 216,
   "id": "8b28c9ae-3220-4559-af5c-9bb119f8b281",
   "metadata": {},
   "outputs": [
    {
     "data": {
      "text/plain": [
       "array([65, 51, 92, 89, 22, 82, 44, 86, 71, 40, 18, 38, 49, 38, 10, 50, 58,\n",
       "        7, 47, 63])"
      ]
     },
     "execution_count": 216,
     "metadata": {},
     "output_type": "execute_result"
    }
   ],
   "source": [
    "yenibirdizi"
   ]
  },
  {
   "cell_type": "code",
   "execution_count": 218,
   "id": "447d8265-b560-4eda-8ddd-44b6e84a9439",
   "metadata": {},
   "outputs": [
    {
     "data": {
      "text/plain": [
       "array([ True,  True,  True,  True, False,  True, False,  True,  True,\n",
       "       False, False, False, False, False, False, False,  True, False,\n",
       "       False,  True])"
      ]
     },
     "execution_count": 218,
     "metadata": {},
     "output_type": "execute_result"
    }
   ],
   "source": [
    "sonucdizisi"
   ]
  },
  {
   "cell_type": "code",
   "execution_count": 220,
   "id": "05a1c5c9-99f5-4f9c-bae7-2da02120a92f",
   "metadata": {},
   "outputs": [
    {
     "data": {
      "text/plain": [
       "array([65, 51, 92, 89, 82, 86, 71, 58, 63])"
      ]
     },
     "execution_count": 220,
     "metadata": {},
     "output_type": "execute_result"
    }
   ],
   "source": [
    "yenibirdizi[sonucdizisi] # sadece true değerleri alır"
   ]
  },
  {
   "cell_type": "code",
   "execution_count": 222,
   "id": "da826a7a-fae5-4449-9726-78926e9ab246",
   "metadata": {},
   "outputs": [
    {
     "data": {
      "text/plain": [
       "array([65, 51, 92, 89, 22, 82, 44, 86, 71, 40, 18, 38, 49, 38, 10, 50, 58,\n",
       "        7, 47, 63])"
      ]
     },
     "execution_count": 222,
     "metadata": {},
     "output_type": "execute_result"
    }
   ],
   "source": [
    "yenibirdizi"
   ]
  },
  {
   "cell_type": "code",
   "execution_count": 224,
   "id": "0c80880e-50b5-45b2-a7fa-872a2c3c0129",
   "metadata": {},
   "outputs": [
    {
     "data": {
      "text/plain": [
       "array([65, 51, 92, 89, 82, 86, 71, 58, 63])"
      ]
     },
     "execution_count": 224,
     "metadata": {},
     "output_type": "execute_result"
    }
   ],
   "source": [
    "yenibirdizi[yenibirdizi>50] # bu kod ile aynı filtreyi elde edebiliriz"
   ]
  },
  {
   "cell_type": "code",
   "execution_count": 226,
   "id": "e3afb732-1498-4a05-8a02-dd4cd9fb7ba6",
   "metadata": {},
   "outputs": [],
   "source": [
    "sondizi = np.arange(0,5)"
   ]
  },
  {
   "cell_type": "code",
   "execution_count": 228,
   "id": "b9cfc253-4081-4177-8aef-2d902eba791d",
   "metadata": {},
   "outputs": [
    {
     "data": {
      "text/plain": [
       "array([0, 1, 2, 3, 4])"
      ]
     },
     "execution_count": 228,
     "metadata": {},
     "output_type": "execute_result"
    }
   ],
   "source": [
    "sondizi"
   ]
  },
  {
   "cell_type": "code",
   "execution_count": 230,
   "id": "f2ec0495-f87b-4603-9b45-498bb9a2afd4",
   "metadata": {},
   "outputs": [
    {
     "data": {
      "text/plain": [
       "array([0, 2, 4, 6, 8])"
      ]
     },
     "execution_count": 230,
     "metadata": {},
     "output_type": "execute_result"
    }
   ],
   "source": [
    "sondizi + sondizi # indexler toplanıyor"
   ]
  },
  {
   "cell_type": "code",
   "execution_count": 238,
   "id": "82c871db-3cba-4dc5-a96f-1198f5a63f78",
   "metadata": {},
   "outputs": [
    {
     "data": {
      "text/plain": [
       "array([0, 0, 0, 0, 0])"
      ]
     },
     "execution_count": 238,
     "metadata": {},
     "output_type": "execute_result"
    }
   ],
   "source": [
    "sondizi - sondizi # indexler toplanıyor"
   ]
  },
  {
   "cell_type": "code",
   "execution_count": 236,
   "id": "8d48056c-4cfe-4f5d-ab05-61353939209a",
   "metadata": {},
   "outputs": [
    {
     "data": {
      "text/plain": [
       "array([ 0,  1,  4,  9, 16])"
      ]
     },
     "execution_count": 236,
     "metadata": {},
     "output_type": "execute_result"
    }
   ],
   "source": [
    "sondizi * sondizi # indexler toplanıyor"
   ]
  },
  {
   "cell_type": "code",
   "execution_count": 232,
   "id": "2381a8da-747a-4d35-924a-a500ac6a80ab",
   "metadata": {},
   "outputs": [
    {
     "data": {
      "text/plain": [
       "array([0, 1, 2, 3, 4])"
      ]
     },
     "execution_count": 232,
     "metadata": {},
     "output_type": "execute_result"
    }
   ],
   "source": [
    "sondizi # orijinali değişmiyor"
   ]
  },
  {
   "cell_type": "code",
   "execution_count": 234,
   "id": "5d9a4747-d6b8-4449-afd9-257893e5ad57",
   "metadata": {},
   "outputs": [
    {
     "ename": "ValueError",
     "evalue": "operands could not be broadcast together with shapes (5,) (24,) ",
     "output_type": "error",
     "traceback": [
      "\u001b[0;31m---------------------------------------------------------------------------\u001b[0m",
      "\u001b[0;31mValueError\u001b[0m                                Traceback (most recent call last)",
      "Cell \u001b[0;32mIn[234], line 1\u001b[0m\n\u001b[0;32m----> 1\u001b[0m sondizi \u001b[38;5;241m+\u001b[39m baskaDizi\n",
      "\u001b[0;31mValueError\u001b[0m: operands could not be broadcast together with shapes (5,) (24,) "
     ]
    }
   ],
   "source": [
    "sondizi + baskaDizi # aynı boyutlarda olmalıdır"
   ]
  },
  {
   "cell_type": "code",
   "execution_count": 242,
   "id": "623bd367-8dd6-4473-800c-f09fdbb90655",
   "metadata": {},
   "outputs": [
    {
     "data": {
      "text/plain": [
       "array([0.        , 1.        , 1.41421356, 1.73205081, 2.        ])"
      ]
     },
     "execution_count": 242,
     "metadata": {},
     "output_type": "execute_result"
    }
   ],
   "source": [
    "np.sqrt(sondizi) #karekök alıyor"
   ]
  },
  {
   "cell_type": "code",
   "execution_count": 244,
   "id": "1fd07c3d-58ed-4b45-a193-cd016f23d870",
   "metadata": {},
   "outputs": [
    {
     "data": {
      "text/plain": [
       "4"
      ]
     },
     "execution_count": 244,
     "metadata": {},
     "output_type": "execute_result"
    }
   ],
   "source": [
    "np.max(sondizi)"
   ]
  },
  {
   "cell_type": "code",
   "execution_count": null,
   "id": "dc087527-231e-403a-a250-37231a383f06",
   "metadata": {},
   "outputs": [],
   "source": []
  }
 ],
 "metadata": {
  "kernelspec": {
   "display_name": "Python 3 (ipykernel)",
   "language": "python",
   "name": "python3"
  },
  "language_info": {
   "codemirror_mode": {
    "name": "ipython",
    "version": 3
   },
   "file_extension": ".py",
   "mimetype": "text/x-python",
   "name": "python",
   "nbconvert_exporter": "python",
   "pygments_lexer": "ipython3",
   "version": "3.11.7"
  }
 },
 "nbformat": 4,
 "nbformat_minor": 5
}
