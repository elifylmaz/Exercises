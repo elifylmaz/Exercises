{
 "cells": [
  {
   "cell_type": "code",
   "execution_count": 4,
   "id": "36ff060e-b625-4388-9d9a-96ba93af48e8",
   "metadata": {},
   "outputs": [],
   "source": [
    "import numpy as np\n",
    "import pandas as pd "
   ]
  },
  {
   "cell_type": "markdown",
   "id": "0ef46b5c-6b97-447e-8281-105f082999cc",
   "metadata": {},
   "source": [
    "## Seriler nedir? / Series\n",
    "### pd.Series(data,index)"
   ]
  },
  {
   "cell_type": "code",
   "execution_count": 7,
   "id": "ba210032-97aa-4375-a123-b096815f33e4",
   "metadata": {},
   "outputs": [],
   "source": [
    "benimSozlugum = {\n",
    "    \"Atıl\" : 50,\n",
    "    \"Zeynep\" : 40,\n",
    "    \"Mehmet\": 30}\n"
   ]
  },
  {
   "cell_type": "code",
   "execution_count": 13,
   "id": "6684110d-8f42-441a-b706-f783352716fb",
   "metadata": {},
   "outputs": [
    {
     "data": {
      "text/plain": [
       "Atıl      50\n",
       "Zeynep    40\n",
       "Mehmet    30\n",
       "dtype: int64"
      ]
     },
     "execution_count": 13,
     "metadata": {},
     "output_type": "execute_result"
    }
   ],
   "source": [
    "pd.Series(benimSozlugum)"
   ]
  },
  {
   "cell_type": "code",
   "execution_count": 17,
   "id": "a674c297-a534-413b-9a75-f6f6405626d3",
   "metadata": {},
   "outputs": [
    {
     "data": {
      "text/plain": [
       "pandas.core.series.Series"
      ]
     },
     "execution_count": 17,
     "metadata": {},
     "output_type": "execute_result"
    }
   ],
   "source": [
    "type(pd.Series(benimSozlugum))"
   ]
  },
  {
   "cell_type": "code",
   "execution_count": 19,
   "id": "3c7cac75-d26d-483b-8600-8018f66c89e5",
   "metadata": {},
   "outputs": [],
   "source": [
    "benimYaslarım = [50,40,30]\n",
    "benimIsimlerim = [\"atıl\",\"zeynep\",\"mehmet\"]\n"
   ]
  },
  {
   "cell_type": "code",
   "execution_count": 21,
   "id": "7daa24e0-b041-4b5b-a799-e67f3eefbf31",
   "metadata": {},
   "outputs": [
    {
     "data": {
      "text/plain": [
       "0      atıl\n",
       "1    zeynep\n",
       "2    mehmet\n",
       "dtype: object"
      ]
     },
     "execution_count": 21,
     "metadata": {},
     "output_type": "execute_result"
    }
   ],
   "source": [
    "pd.Series(benimIsimlerim)"
   ]
  },
  {
   "cell_type": "code",
   "execution_count": 23,
   "id": "62905774-6f5d-463d-bc4d-cb0aaefe15fe",
   "metadata": {},
   "outputs": [
    {
     "data": {
      "text/plain": [
       "0    50\n",
       "1    40\n",
       "2    30\n",
       "dtype: int64"
      ]
     },
     "execution_count": 23,
     "metadata": {},
     "output_type": "execute_result"
    }
   ],
   "source": [
    "pd.Series(benimYaslarım)"
   ]
  },
  {
   "cell_type": "code",
   "execution_count": 25,
   "id": "af44f1d2-2f1b-4e3e-bf23-2cfb9c8bdfea",
   "metadata": {},
   "outputs": [
    {
     "data": {
      "text/plain": [
       "50      atıl\n",
       "40    zeynep\n",
       "30    mehmet\n",
       "dtype: object"
      ]
     },
     "execution_count": 25,
     "metadata": {},
     "output_type": "execute_result"
    }
   ],
   "source": [
    "pd.Series(benimIsimlerim,benimYaslarım)"
   ]
  },
  {
   "cell_type": "code",
   "execution_count": 27,
   "id": "7067ab76-906a-4bbd-b69e-ba303c0c94f5",
   "metadata": {},
   "outputs": [
    {
     "data": {
      "text/plain": [
       "atıl      50\n",
       "zeynep    40\n",
       "mehmet    30\n",
       "dtype: int64"
      ]
     },
     "execution_count": 27,
     "metadata": {},
     "output_type": "execute_result"
    }
   ],
   "source": [
    "pd.Series(benimYaslarım,benimIsimlerim)"
   ]
  },
  {
   "cell_type": "code",
   "execution_count": 31,
   "id": "7185aaaa-9d20-4add-b0f7-06f3453a19b0",
   "metadata": {},
   "outputs": [
    {
     "data": {
      "text/plain": [
       "atıl      50\n",
       "zeynep    40\n",
       "mehmet    30\n",
       "dtype: int64"
      ]
     },
     "execution_count": 31,
     "metadata": {},
     "output_type": "execute_result"
    }
   ],
   "source": [
    "pd.Series (data = benimYaslarım, index = benimIsimlerim) "
   ]
  },
  {
   "cell_type": "code",
   "execution_count": 33,
   "id": "e6c7a4f5-97d7-430b-b708-4e062de1c2be",
   "metadata": {},
   "outputs": [],
   "source": [
    "numpyDizisi = np.array([50,40,30])"
   ]
  },
  {
   "cell_type": "code",
   "execution_count": 35,
   "id": "3575ea89-3986-4cd5-8636-d596bd4bc3e9",
   "metadata": {},
   "outputs": [
    {
     "data": {
      "text/plain": [
       "array([50, 40, 30])"
      ]
     },
     "execution_count": 35,
     "metadata": {},
     "output_type": "execute_result"
    }
   ],
   "source": [
    "numpyDizisi"
   ]
  },
  {
   "cell_type": "code",
   "execution_count": 37,
   "id": "ba8090d5-717a-43eb-b3eb-c9905d18a3db",
   "metadata": {},
   "outputs": [
    {
     "data": {
      "text/plain": [
       "0    50\n",
       "1    40\n",
       "2    30\n",
       "dtype: int64"
      ]
     },
     "execution_count": 37,
     "metadata": {},
     "output_type": "execute_result"
    }
   ],
   "source": [
    "pd.Series(numpyDizisi)"
   ]
  },
  {
   "cell_type": "code",
   "execution_count": 39,
   "id": "5b44924f-ccf1-4ee2-9d84-ca04d5131128",
   "metadata": {},
   "outputs": [
    {
     "data": {
      "text/plain": [
       "atıl      50\n",
       "zeynep    40\n",
       "mehmet    30\n",
       "dtype: int64"
      ]
     },
     "execution_count": 39,
     "metadata": {},
     "output_type": "execute_result"
    }
   ],
   "source": [
    "pd.Series(numpyDizisi,benimIsimlerim)"
   ]
  },
  {
   "cell_type": "code",
   "execution_count": 70,
   "id": "53e03578-9980-4727-878a-2dc91c506f24",
   "metadata": {},
   "outputs": [
    {
     "data": {
      "text/plain": [
       "1     Atıl\n",
       "2    Atlas\n",
       "3    Osman\n",
       "dtype: object"
      ]
     },
     "execution_count": 70,
     "metadata": {},
     "output_type": "execute_result"
    }
   ],
   "source": [
    "pd.Series([\"Atıl\",\"Atlas\",\"Osman\"],[1,2,3])"
   ]
  },
  {
   "cell_type": "code",
   "execution_count": 72,
   "id": "eeab6e06-ff9c-49bb-b303-1f4db3a43e1f",
   "metadata": {},
   "outputs": [],
   "source": [
    "yarısmaSonucu1 = pd.Series([10,5,1],[\"Atıl\",\"Atlas\",\"Osman\"])"
   ]
  },
  {
   "cell_type": "code",
   "execution_count": 74,
   "id": "fab0c9dc-64fe-41c0-8868-e7833b492d5d",
   "metadata": {},
   "outputs": [
    {
     "data": {
      "text/plain": [
       "Atıl     10\n",
       "Atlas     5\n",
       "Osman     1\n",
       "dtype: int64"
      ]
     },
     "execution_count": 74,
     "metadata": {},
     "output_type": "execute_result"
    }
   ],
   "source": [
    "yarısmaSonucu1"
   ]
  },
  {
   "cell_type": "code",
   "execution_count": 76,
   "id": "070f5909-de7e-4052-8223-914b27eb9f97",
   "metadata": {},
   "outputs": [],
   "source": [
    "yarısmaSonucu2 = pd.Series([20,10,8],[\"Atıl\",\"Atlas\",\"Osman\"])"
   ]
  },
  {
   "cell_type": "code",
   "execution_count": 78,
   "id": "da3a5789-1cf7-4d14-83c7-35d5ee3593e2",
   "metadata": {},
   "outputs": [
    {
     "data": {
      "text/plain": [
       "Atıl     20\n",
       "Atlas    10\n",
       "Osman     8\n",
       "dtype: int64"
      ]
     },
     "execution_count": 78,
     "metadata": {},
     "output_type": "execute_result"
    }
   ],
   "source": [
    "yarısmaSonucu2"
   ]
  },
  {
   "cell_type": "code",
   "execution_count": 80,
   "id": "7c4efb8e-9cac-4d30-9af1-a5456ca18d12",
   "metadata": {},
   "outputs": [
    {
     "data": {
      "text/plain": [
       "Atıl     30\n",
       "Atlas    15\n",
       "Osman     9\n",
       "dtype: int64"
      ]
     },
     "execution_count": 80,
     "metadata": {},
     "output_type": "execute_result"
    }
   ],
   "source": [
    "yarısmaSonucu1 + yarısmaSonucu2"
   ]
  },
  {
   "cell_type": "code",
   "execution_count": 82,
   "id": "306823aa-8bfd-4b78-b6e3-f3de8343020a",
   "metadata": {},
   "outputs": [
    {
     "data": {
      "text/plain": [
       "5"
      ]
     },
     "execution_count": 82,
     "metadata": {},
     "output_type": "execute_result"
    }
   ],
   "source": [
    "yarısmaSonucu1[\"Atlas\"]"
   ]
  },
  {
   "cell_type": "code",
   "execution_count": 84,
   "id": "b4da2388-8d7b-4dc8-88a6-259160bf9899",
   "metadata": {},
   "outputs": [],
   "source": [
    "yarısmaSonucu3 = pd.Series([20,10,78],[\"Atıl\",\"Atlas\",\"Zeynep\"])"
   ]
  },
  {
   "cell_type": "code",
   "execution_count": 86,
   "id": "f29d9090-2528-4da7-bf9b-5a95b90febd4",
   "metadata": {},
   "outputs": [
    {
     "data": {
      "text/plain": [
       "Atlas     15.0\n",
       "Atıl      30.0\n",
       "Osman      NaN\n",
       "Zeynep     NaN\n",
       "dtype: float64"
      ]
     },
     "execution_count": 86,
     "metadata": {},
     "output_type": "execute_result"
    }
   ],
   "source": [
    "yarısmaSonucu1 + yarısmaSonucu3"
   ]
  },
  {
   "cell_type": "code",
   "execution_count": null,
   "id": "2b36edd8-b83b-4bc1-a9da-7accfd7b9e6f",
   "metadata": {},
   "outputs": [],
   "source": []
  }
 ],
 "metadata": {
  "kernelspec": {
   "display_name": "Python 3 (ipykernel)",
   "language": "python",
   "name": "python3"
  },
  "language_info": {
   "codemirror_mode": {
    "name": "ipython",
    "version": 3
   },
   "file_extension": ".py",
   "mimetype": "text/x-python",
   "name": "python",
   "nbconvert_exporter": "python",
   "pygments_lexer": "ipython3",
   "version": "3.11.7"
  }
 },
 "nbformat": 4,
 "nbformat_minor": 5
}
