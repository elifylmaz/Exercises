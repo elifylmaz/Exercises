{
 "cells": [
  {
   "cell_type": "code",
   "execution_count": 2,
   "id": "aaa80386-358c-4505-9367-5f9b74c146db",
   "metadata": {},
   "outputs": [],
   "source": [
    "import numpy as np \n",
    "import pandas as pd"
   ]
  },
  {
   "cell_type": "code",
   "execution_count": 14,
   "id": "b2cb8195-8be8-484e-bf9c-77c5a5329b51",
   "metadata": {},
   "outputs": [],
   "source": [
    "sozluk1 = {\"Isim\" : [\"Ahmet\",\"Mehmet\",\"Zeynep\",\"Atıl\"], \n",
    "           \"Spor\" : [\"Koşu\", \"Yüzme\",\"Koşu\",\"Basketbol\"],\n",
    "          \"Kalori\" : [100,200,300,400]\n",
    "          }"
   ]
  },
  {
   "cell_type": "code",
   "execution_count": 16,
   "id": "7a10d2f1-c870-4c6e-b2b4-a90bd8565cc5",
   "metadata": {},
   "outputs": [],
   "source": [
    "dataFrame1 = pd.DataFrame(sozluk1,index = [0,1,2,3])"
   ]
  },
  {
   "cell_type": "code",
   "execution_count": 18,
   "id": "da62bf32-3e80-4ff4-850b-62351233fa8c",
   "metadata": {},
   "outputs": [
    {
     "data": {
      "text/html": [
       "<div>\n",
       "<style scoped>\n",
       "    .dataframe tbody tr th:only-of-type {\n",
       "        vertical-align: middle;\n",
       "    }\n",
       "\n",
       "    .dataframe tbody tr th {\n",
       "        vertical-align: top;\n",
       "    }\n",
       "\n",
       "    .dataframe thead th {\n",
       "        text-align: right;\n",
       "    }\n",
       "</style>\n",
       "<table border=\"1\" class=\"dataframe\">\n",
       "  <thead>\n",
       "    <tr style=\"text-align: right;\">\n",
       "      <th></th>\n",
       "      <th>Isim</th>\n",
       "      <th>Spor</th>\n",
       "      <th>Kalori</th>\n",
       "    </tr>\n",
       "  </thead>\n",
       "  <tbody>\n",
       "    <tr>\n",
       "      <th>0</th>\n",
       "      <td>Ahmet</td>\n",
       "      <td>Koşu</td>\n",
       "      <td>100</td>\n",
       "    </tr>\n",
       "    <tr>\n",
       "      <th>1</th>\n",
       "      <td>Mehmet</td>\n",
       "      <td>Yüzme</td>\n",
       "      <td>200</td>\n",
       "    </tr>\n",
       "    <tr>\n",
       "      <th>2</th>\n",
       "      <td>Zeynep</td>\n",
       "      <td>Koşu</td>\n",
       "      <td>300</td>\n",
       "    </tr>\n",
       "    <tr>\n",
       "      <th>3</th>\n",
       "      <td>Atıl</td>\n",
       "      <td>Basketbol</td>\n",
       "      <td>400</td>\n",
       "    </tr>\n",
       "  </tbody>\n",
       "</table>\n",
       "</div>"
      ],
      "text/plain": [
       "     Isim       Spor  Kalori\n",
       "0   Ahmet       Koşu     100\n",
       "1  Mehmet      Yüzme     200\n",
       "2  Zeynep       Koşu     300\n",
       "3    Atıl  Basketbol     400"
      ]
     },
     "execution_count": 18,
     "metadata": {},
     "output_type": "execute_result"
    }
   ],
   "source": [
    "dataFrame1"
   ]
  },
  {
   "cell_type": "code",
   "execution_count": 12,
   "id": "3881bd19-875a-46e2-95c2-0f557b4e268d",
   "metadata": {},
   "outputs": [],
   "source": [
    "sozluk2 = {\"Isim\" : [\"Osman\",\"Levent\",\"Atlas\",\"Fatma\"], \n",
    "           \"Spor\" : [\"Koşu\", \"Yüzme\",\"Koşu\",\"Basketbol\"],\n",
    "          \"Kalori\" : [200,100,50,300]\n",
    "          }"
   ]
  },
  {
   "cell_type": "code",
   "execution_count": 20,
   "id": "497fc76f-33d2-47cb-9e48-bcc45b8bd7ec",
   "metadata": {},
   "outputs": [],
   "source": [
    "dataFrame2 = pd.DataFrame(sozluk2,index = [4,5,6,7])"
   ]
  },
  {
   "cell_type": "code",
   "execution_count": 22,
   "id": "b95a14d1-b53d-4e1c-bebe-56b0e170444c",
   "metadata": {},
   "outputs": [
    {
     "data": {
      "text/html": [
       "<div>\n",
       "<style scoped>\n",
       "    .dataframe tbody tr th:only-of-type {\n",
       "        vertical-align: middle;\n",
       "    }\n",
       "\n",
       "    .dataframe tbody tr th {\n",
       "        vertical-align: top;\n",
       "    }\n",
       "\n",
       "    .dataframe thead th {\n",
       "        text-align: right;\n",
       "    }\n",
       "</style>\n",
       "<table border=\"1\" class=\"dataframe\">\n",
       "  <thead>\n",
       "    <tr style=\"text-align: right;\">\n",
       "      <th></th>\n",
       "      <th>Isim</th>\n",
       "      <th>Spor</th>\n",
       "      <th>Kalori</th>\n",
       "    </tr>\n",
       "  </thead>\n",
       "  <tbody>\n",
       "    <tr>\n",
       "      <th>4</th>\n",
       "      <td>Osman</td>\n",
       "      <td>Koşu</td>\n",
       "      <td>200</td>\n",
       "    </tr>\n",
       "    <tr>\n",
       "      <th>5</th>\n",
       "      <td>Levent</td>\n",
       "      <td>Yüzme</td>\n",
       "      <td>100</td>\n",
       "    </tr>\n",
       "    <tr>\n",
       "      <th>6</th>\n",
       "      <td>Atlas</td>\n",
       "      <td>Koşu</td>\n",
       "      <td>50</td>\n",
       "    </tr>\n",
       "    <tr>\n",
       "      <th>7</th>\n",
       "      <td>Fatma</td>\n",
       "      <td>Basketbol</td>\n",
       "      <td>300</td>\n",
       "    </tr>\n",
       "  </tbody>\n",
       "</table>\n",
       "</div>"
      ],
      "text/plain": [
       "     Isim       Spor  Kalori\n",
       "4   Osman       Koşu     200\n",
       "5  Levent      Yüzme     100\n",
       "6   Atlas       Koşu      50\n",
       "7   Fatma  Basketbol     300"
      ]
     },
     "execution_count": 22,
     "metadata": {},
     "output_type": "execute_result"
    }
   ],
   "source": [
    "dataFrame2"
   ]
  },
  {
   "cell_type": "code",
   "execution_count": 8,
   "id": "3fa5e8b1-9a0b-42d0-9696-7f14603a0c8b",
   "metadata": {},
   "outputs": [],
   "source": [
    "sozluk3 = {\"Isim\" : [\"Ayse\",\"Mahmut\",\"Duygu\",\"Nur\"], \n",
    "           \"Spor\" : [\"Koşu\", \"Yüzme\",\"Badminton\",\"Tenis\"],\n",
    "          \"Kalori\" : [300,400,500,250]\n",
    "          }"
   ]
  },
  {
   "cell_type": "code",
   "execution_count": 24,
   "id": "8044cfc3-3953-409e-800c-78575db7c4d5",
   "metadata": {},
   "outputs": [],
   "source": [
    "dataFrame3 = pd.DataFrame(sozluk3,index = [8,9,10,11])"
   ]
  },
  {
   "cell_type": "code",
   "execution_count": 26,
   "id": "81aabca6-f89c-4ec0-941a-9e76fb0c12d9",
   "metadata": {},
   "outputs": [
    {
     "data": {
      "text/html": [
       "<div>\n",
       "<style scoped>\n",
       "    .dataframe tbody tr th:only-of-type {\n",
       "        vertical-align: middle;\n",
       "    }\n",
       "\n",
       "    .dataframe tbody tr th {\n",
       "        vertical-align: top;\n",
       "    }\n",
       "\n",
       "    .dataframe thead th {\n",
       "        text-align: right;\n",
       "    }\n",
       "</style>\n",
       "<table border=\"1\" class=\"dataframe\">\n",
       "  <thead>\n",
       "    <tr style=\"text-align: right;\">\n",
       "      <th></th>\n",
       "      <th>Isim</th>\n",
       "      <th>Spor</th>\n",
       "      <th>Kalori</th>\n",
       "    </tr>\n",
       "  </thead>\n",
       "  <tbody>\n",
       "    <tr>\n",
       "      <th>8</th>\n",
       "      <td>Ayse</td>\n",
       "      <td>Koşu</td>\n",
       "      <td>300</td>\n",
       "    </tr>\n",
       "    <tr>\n",
       "      <th>9</th>\n",
       "      <td>Mahmut</td>\n",
       "      <td>Yüzme</td>\n",
       "      <td>400</td>\n",
       "    </tr>\n",
       "    <tr>\n",
       "      <th>10</th>\n",
       "      <td>Duygu</td>\n",
       "      <td>Badminton</td>\n",
       "      <td>500</td>\n",
       "    </tr>\n",
       "    <tr>\n",
       "      <th>11</th>\n",
       "      <td>Nur</td>\n",
       "      <td>Tenis</td>\n",
       "      <td>250</td>\n",
       "    </tr>\n",
       "  </tbody>\n",
       "</table>\n",
       "</div>"
      ],
      "text/plain": [
       "      Isim       Spor  Kalori\n",
       "8     Ayse       Koşu     300\n",
       "9   Mahmut      Yüzme     400\n",
       "10   Duygu  Badminton     500\n",
       "11     Nur      Tenis     250"
      ]
     },
     "execution_count": 26,
     "metadata": {},
     "output_type": "execute_result"
    }
   ],
   "source": [
    "dataFrame3"
   ]
  },
  {
   "cell_type": "markdown",
   "id": "963c1798-24ed-4cde-b66b-616fdd36a83b",
   "metadata": {},
   "source": [
    "## Concatenation"
   ]
  },
  {
   "cell_type": "code",
   "execution_count": 29,
   "id": "a4f9ddbf-7992-4bac-a9e0-04fa205f5eac",
   "metadata": {},
   "outputs": [
    {
     "data": {
      "text/html": [
       "<div>\n",
       "<style scoped>\n",
       "    .dataframe tbody tr th:only-of-type {\n",
       "        vertical-align: middle;\n",
       "    }\n",
       "\n",
       "    .dataframe tbody tr th {\n",
       "        vertical-align: top;\n",
       "    }\n",
       "\n",
       "    .dataframe thead th {\n",
       "        text-align: right;\n",
       "    }\n",
       "</style>\n",
       "<table border=\"1\" class=\"dataframe\">\n",
       "  <thead>\n",
       "    <tr style=\"text-align: right;\">\n",
       "      <th></th>\n",
       "      <th>Isim</th>\n",
       "      <th>Spor</th>\n",
       "      <th>Kalori</th>\n",
       "    </tr>\n",
       "  </thead>\n",
       "  <tbody>\n",
       "    <tr>\n",
       "      <th>0</th>\n",
       "      <td>Ahmet</td>\n",
       "      <td>Koşu</td>\n",
       "      <td>100</td>\n",
       "    </tr>\n",
       "    <tr>\n",
       "      <th>1</th>\n",
       "      <td>Mehmet</td>\n",
       "      <td>Yüzme</td>\n",
       "      <td>200</td>\n",
       "    </tr>\n",
       "    <tr>\n",
       "      <th>2</th>\n",
       "      <td>Zeynep</td>\n",
       "      <td>Koşu</td>\n",
       "      <td>300</td>\n",
       "    </tr>\n",
       "    <tr>\n",
       "      <th>3</th>\n",
       "      <td>Atıl</td>\n",
       "      <td>Basketbol</td>\n",
       "      <td>400</td>\n",
       "    </tr>\n",
       "    <tr>\n",
       "      <th>4</th>\n",
       "      <td>Osman</td>\n",
       "      <td>Koşu</td>\n",
       "      <td>200</td>\n",
       "    </tr>\n",
       "    <tr>\n",
       "      <th>5</th>\n",
       "      <td>Levent</td>\n",
       "      <td>Yüzme</td>\n",
       "      <td>100</td>\n",
       "    </tr>\n",
       "    <tr>\n",
       "      <th>6</th>\n",
       "      <td>Atlas</td>\n",
       "      <td>Koşu</td>\n",
       "      <td>50</td>\n",
       "    </tr>\n",
       "    <tr>\n",
       "      <th>7</th>\n",
       "      <td>Fatma</td>\n",
       "      <td>Basketbol</td>\n",
       "      <td>300</td>\n",
       "    </tr>\n",
       "    <tr>\n",
       "      <th>8</th>\n",
       "      <td>Ayse</td>\n",
       "      <td>Koşu</td>\n",
       "      <td>300</td>\n",
       "    </tr>\n",
       "    <tr>\n",
       "      <th>9</th>\n",
       "      <td>Mahmut</td>\n",
       "      <td>Yüzme</td>\n",
       "      <td>400</td>\n",
       "    </tr>\n",
       "    <tr>\n",
       "      <th>10</th>\n",
       "      <td>Duygu</td>\n",
       "      <td>Badminton</td>\n",
       "      <td>500</td>\n",
       "    </tr>\n",
       "    <tr>\n",
       "      <th>11</th>\n",
       "      <td>Nur</td>\n",
       "      <td>Tenis</td>\n",
       "      <td>250</td>\n",
       "    </tr>\n",
       "  </tbody>\n",
       "</table>\n",
       "</div>"
      ],
      "text/plain": [
       "      Isim       Spor  Kalori\n",
       "0    Ahmet       Koşu     100\n",
       "1   Mehmet      Yüzme     200\n",
       "2   Zeynep       Koşu     300\n",
       "3     Atıl  Basketbol     400\n",
       "4    Osman       Koşu     200\n",
       "5   Levent      Yüzme     100\n",
       "6    Atlas       Koşu      50\n",
       "7    Fatma  Basketbol     300\n",
       "8     Ayse       Koşu     300\n",
       "9   Mahmut      Yüzme     400\n",
       "10   Duygu  Badminton     500\n",
       "11     Nur      Tenis     250"
      ]
     },
     "execution_count": 29,
     "metadata": {},
     "output_type": "execute_result"
    }
   ],
   "source": [
    "pd.concat([dataFrame1,dataFrame2,dataFrame3]) # default değer: axis= 0 oluyor zaten normalde"
   ]
  },
  {
   "cell_type": "code",
   "execution_count": 31,
   "id": "f6fa2752-531a-41b8-b2e5-e4eb18568749",
   "metadata": {},
   "outputs": [
    {
     "data": {
      "text/html": [
       "<div>\n",
       "<style scoped>\n",
       "    .dataframe tbody tr th:only-of-type {\n",
       "        vertical-align: middle;\n",
       "    }\n",
       "\n",
       "    .dataframe tbody tr th {\n",
       "        vertical-align: top;\n",
       "    }\n",
       "\n",
       "    .dataframe thead th {\n",
       "        text-align: right;\n",
       "    }\n",
       "</style>\n",
       "<table border=\"1\" class=\"dataframe\">\n",
       "  <thead>\n",
       "    <tr style=\"text-align: right;\">\n",
       "      <th></th>\n",
       "      <th>Isim</th>\n",
       "      <th>Spor</th>\n",
       "      <th>Kalori</th>\n",
       "      <th>Isim</th>\n",
       "      <th>Spor</th>\n",
       "      <th>Kalori</th>\n",
       "      <th>Isim</th>\n",
       "      <th>Spor</th>\n",
       "      <th>Kalori</th>\n",
       "    </tr>\n",
       "  </thead>\n",
       "  <tbody>\n",
       "    <tr>\n",
       "      <th>0</th>\n",
       "      <td>Ahmet</td>\n",
       "      <td>Koşu</td>\n",
       "      <td>100.0</td>\n",
       "      <td>NaN</td>\n",
       "      <td>NaN</td>\n",
       "      <td>NaN</td>\n",
       "      <td>NaN</td>\n",
       "      <td>NaN</td>\n",
       "      <td>NaN</td>\n",
       "    </tr>\n",
       "    <tr>\n",
       "      <th>1</th>\n",
       "      <td>Mehmet</td>\n",
       "      <td>Yüzme</td>\n",
       "      <td>200.0</td>\n",
       "      <td>NaN</td>\n",
       "      <td>NaN</td>\n",
       "      <td>NaN</td>\n",
       "      <td>NaN</td>\n",
       "      <td>NaN</td>\n",
       "      <td>NaN</td>\n",
       "    </tr>\n",
       "    <tr>\n",
       "      <th>2</th>\n",
       "      <td>Zeynep</td>\n",
       "      <td>Koşu</td>\n",
       "      <td>300.0</td>\n",
       "      <td>NaN</td>\n",
       "      <td>NaN</td>\n",
       "      <td>NaN</td>\n",
       "      <td>NaN</td>\n",
       "      <td>NaN</td>\n",
       "      <td>NaN</td>\n",
       "    </tr>\n",
       "    <tr>\n",
       "      <th>3</th>\n",
       "      <td>Atıl</td>\n",
       "      <td>Basketbol</td>\n",
       "      <td>400.0</td>\n",
       "      <td>NaN</td>\n",
       "      <td>NaN</td>\n",
       "      <td>NaN</td>\n",
       "      <td>NaN</td>\n",
       "      <td>NaN</td>\n",
       "      <td>NaN</td>\n",
       "    </tr>\n",
       "    <tr>\n",
       "      <th>4</th>\n",
       "      <td>NaN</td>\n",
       "      <td>NaN</td>\n",
       "      <td>NaN</td>\n",
       "      <td>Osman</td>\n",
       "      <td>Koşu</td>\n",
       "      <td>200.0</td>\n",
       "      <td>NaN</td>\n",
       "      <td>NaN</td>\n",
       "      <td>NaN</td>\n",
       "    </tr>\n",
       "    <tr>\n",
       "      <th>5</th>\n",
       "      <td>NaN</td>\n",
       "      <td>NaN</td>\n",
       "      <td>NaN</td>\n",
       "      <td>Levent</td>\n",
       "      <td>Yüzme</td>\n",
       "      <td>100.0</td>\n",
       "      <td>NaN</td>\n",
       "      <td>NaN</td>\n",
       "      <td>NaN</td>\n",
       "    </tr>\n",
       "    <tr>\n",
       "      <th>6</th>\n",
       "      <td>NaN</td>\n",
       "      <td>NaN</td>\n",
       "      <td>NaN</td>\n",
       "      <td>Atlas</td>\n",
       "      <td>Koşu</td>\n",
       "      <td>50.0</td>\n",
       "      <td>NaN</td>\n",
       "      <td>NaN</td>\n",
       "      <td>NaN</td>\n",
       "    </tr>\n",
       "    <tr>\n",
       "      <th>7</th>\n",
       "      <td>NaN</td>\n",
       "      <td>NaN</td>\n",
       "      <td>NaN</td>\n",
       "      <td>Fatma</td>\n",
       "      <td>Basketbol</td>\n",
       "      <td>300.0</td>\n",
       "      <td>NaN</td>\n",
       "      <td>NaN</td>\n",
       "      <td>NaN</td>\n",
       "    </tr>\n",
       "    <tr>\n",
       "      <th>8</th>\n",
       "      <td>NaN</td>\n",
       "      <td>NaN</td>\n",
       "      <td>NaN</td>\n",
       "      <td>NaN</td>\n",
       "      <td>NaN</td>\n",
       "      <td>NaN</td>\n",
       "      <td>Ayse</td>\n",
       "      <td>Koşu</td>\n",
       "      <td>300.0</td>\n",
       "    </tr>\n",
       "    <tr>\n",
       "      <th>9</th>\n",
       "      <td>NaN</td>\n",
       "      <td>NaN</td>\n",
       "      <td>NaN</td>\n",
       "      <td>NaN</td>\n",
       "      <td>NaN</td>\n",
       "      <td>NaN</td>\n",
       "      <td>Mahmut</td>\n",
       "      <td>Yüzme</td>\n",
       "      <td>400.0</td>\n",
       "    </tr>\n",
       "    <tr>\n",
       "      <th>10</th>\n",
       "      <td>NaN</td>\n",
       "      <td>NaN</td>\n",
       "      <td>NaN</td>\n",
       "      <td>NaN</td>\n",
       "      <td>NaN</td>\n",
       "      <td>NaN</td>\n",
       "      <td>Duygu</td>\n",
       "      <td>Badminton</td>\n",
       "      <td>500.0</td>\n",
       "    </tr>\n",
       "    <tr>\n",
       "      <th>11</th>\n",
       "      <td>NaN</td>\n",
       "      <td>NaN</td>\n",
       "      <td>NaN</td>\n",
       "      <td>NaN</td>\n",
       "      <td>NaN</td>\n",
       "      <td>NaN</td>\n",
       "      <td>Nur</td>\n",
       "      <td>Tenis</td>\n",
       "      <td>250.0</td>\n",
       "    </tr>\n",
       "  </tbody>\n",
       "</table>\n",
       "</div>"
      ],
      "text/plain": [
       "      Isim       Spor  Kalori    Isim       Spor  Kalori    Isim       Spor  \\\n",
       "0    Ahmet       Koşu   100.0     NaN        NaN     NaN     NaN        NaN   \n",
       "1   Mehmet      Yüzme   200.0     NaN        NaN     NaN     NaN        NaN   \n",
       "2   Zeynep       Koşu   300.0     NaN        NaN     NaN     NaN        NaN   \n",
       "3     Atıl  Basketbol   400.0     NaN        NaN     NaN     NaN        NaN   \n",
       "4      NaN        NaN     NaN   Osman       Koşu   200.0     NaN        NaN   \n",
       "5      NaN        NaN     NaN  Levent      Yüzme   100.0     NaN        NaN   \n",
       "6      NaN        NaN     NaN   Atlas       Koşu    50.0     NaN        NaN   \n",
       "7      NaN        NaN     NaN   Fatma  Basketbol   300.0     NaN        NaN   \n",
       "8      NaN        NaN     NaN     NaN        NaN     NaN    Ayse       Koşu   \n",
       "9      NaN        NaN     NaN     NaN        NaN     NaN  Mahmut      Yüzme   \n",
       "10     NaN        NaN     NaN     NaN        NaN     NaN   Duygu  Badminton   \n",
       "11     NaN        NaN     NaN     NaN        NaN     NaN     Nur      Tenis   \n",
       "\n",
       "    Kalori  \n",
       "0      NaN  \n",
       "1      NaN  \n",
       "2      NaN  \n",
       "3      NaN  \n",
       "4      NaN  \n",
       "5      NaN  \n",
       "6      NaN  \n",
       "7      NaN  \n",
       "8    300.0  \n",
       "9    400.0  \n",
       "10   500.0  \n",
       "11   250.0  "
      ]
     },
     "execution_count": 31,
     "metadata": {},
     "output_type": "execute_result"
    }
   ],
   "source": [
    "pd.concat([dataFrame1,dataFrame2,dataFrame3], axis =1)"
   ]
  },
  {
   "cell_type": "markdown",
   "id": "e39a0d54-53b7-4830-b3fa-1b362a16bc3e",
   "metadata": {},
   "source": [
    "## Merge"
   ]
  },
  {
   "cell_type": "code",
   "execution_count": 34,
   "id": "33be13b2-1574-496d-96aa-960de916a27f",
   "metadata": {},
   "outputs": [],
   "source": [
    "mergeSozluk1 = {\"Isim\" : [\"Osman\",\"Levent\",\"Atlas\",\"Fatma\"], \n",
    "           \"Spor\" : [\"Koşu\", \"Yüzme\",\"Koşu\",\"Basketbol\"]\n",
    "          }"
   ]
  },
  {
   "cell_type": "code",
   "execution_count": 36,
   "id": "0c38b5e5-64a9-4f43-afdf-35d4a15c8dbb",
   "metadata": {},
   "outputs": [],
   "source": [
    "mergeDataFrame1 = pd.DataFrame(mergeSozluk1)"
   ]
  },
  {
   "cell_type": "code",
   "execution_count": 38,
   "id": "b81273ac-5079-4991-8caa-296340754ad6",
   "metadata": {},
   "outputs": [
    {
     "data": {
      "text/html": [
       "<div>\n",
       "<style scoped>\n",
       "    .dataframe tbody tr th:only-of-type {\n",
       "        vertical-align: middle;\n",
       "    }\n",
       "\n",
       "    .dataframe tbody tr th {\n",
       "        vertical-align: top;\n",
       "    }\n",
       "\n",
       "    .dataframe thead th {\n",
       "        text-align: right;\n",
       "    }\n",
       "</style>\n",
       "<table border=\"1\" class=\"dataframe\">\n",
       "  <thead>\n",
       "    <tr style=\"text-align: right;\">\n",
       "      <th></th>\n",
       "      <th>Isim</th>\n",
       "      <th>Spor</th>\n",
       "    </tr>\n",
       "  </thead>\n",
       "  <tbody>\n",
       "    <tr>\n",
       "      <th>0</th>\n",
       "      <td>Osman</td>\n",
       "      <td>Koşu</td>\n",
       "    </tr>\n",
       "    <tr>\n",
       "      <th>1</th>\n",
       "      <td>Levent</td>\n",
       "      <td>Yüzme</td>\n",
       "    </tr>\n",
       "    <tr>\n",
       "      <th>2</th>\n",
       "      <td>Atlas</td>\n",
       "      <td>Koşu</td>\n",
       "    </tr>\n",
       "    <tr>\n",
       "      <th>3</th>\n",
       "      <td>Fatma</td>\n",
       "      <td>Basketbol</td>\n",
       "    </tr>\n",
       "  </tbody>\n",
       "</table>\n",
       "</div>"
      ],
      "text/plain": [
       "     Isim       Spor\n",
       "0   Osman       Koşu\n",
       "1  Levent      Yüzme\n",
       "2   Atlas       Koşu\n",
       "3   Fatma  Basketbol"
      ]
     },
     "execution_count": 38,
     "metadata": {},
     "output_type": "execute_result"
    }
   ],
   "source": [
    "mergeDataFrame1"
   ]
  },
  {
   "cell_type": "code",
   "execution_count": 40,
   "id": "d825c56d-2ba7-4cd8-b20d-a18267e42cde",
   "metadata": {},
   "outputs": [],
   "source": [
    "mergeSozluk2 = {\"Isim\" : [\"Osman\",\"Levent\",\"Atlas\",\"Fatma\"], \n",
    "          \"Kalori\" : [200,100,50,300]\n",
    "          }"
   ]
  },
  {
   "cell_type": "code",
   "execution_count": 42,
   "id": "beaeb0ac-7022-4c27-8b16-b82ce6646113",
   "metadata": {},
   "outputs": [],
   "source": [
    "mergeDataFrame2 = pd.DataFrame(mergeSozluk2)"
   ]
  },
  {
   "cell_type": "code",
   "execution_count": 44,
   "id": "f92d3b61-ed82-467c-a7c8-198a14213b9e",
   "metadata": {},
   "outputs": [
    {
     "data": {
      "text/html": [
       "<div>\n",
       "<style scoped>\n",
       "    .dataframe tbody tr th:only-of-type {\n",
       "        vertical-align: middle;\n",
       "    }\n",
       "\n",
       "    .dataframe tbody tr th {\n",
       "        vertical-align: top;\n",
       "    }\n",
       "\n",
       "    .dataframe thead th {\n",
       "        text-align: right;\n",
       "    }\n",
       "</style>\n",
       "<table border=\"1\" class=\"dataframe\">\n",
       "  <thead>\n",
       "    <tr style=\"text-align: right;\">\n",
       "      <th></th>\n",
       "      <th>Isim</th>\n",
       "      <th>Kalori</th>\n",
       "    </tr>\n",
       "  </thead>\n",
       "  <tbody>\n",
       "    <tr>\n",
       "      <th>0</th>\n",
       "      <td>Osman</td>\n",
       "      <td>200</td>\n",
       "    </tr>\n",
       "    <tr>\n",
       "      <th>1</th>\n",
       "      <td>Levent</td>\n",
       "      <td>100</td>\n",
       "    </tr>\n",
       "    <tr>\n",
       "      <th>2</th>\n",
       "      <td>Atlas</td>\n",
       "      <td>50</td>\n",
       "    </tr>\n",
       "    <tr>\n",
       "      <th>3</th>\n",
       "      <td>Fatma</td>\n",
       "      <td>300</td>\n",
       "    </tr>\n",
       "  </tbody>\n",
       "</table>\n",
       "</div>"
      ],
      "text/plain": [
       "     Isim  Kalori\n",
       "0   Osman     200\n",
       "1  Levent     100\n",
       "2   Atlas      50\n",
       "3   Fatma     300"
      ]
     },
     "execution_count": 44,
     "metadata": {},
     "output_type": "execute_result"
    }
   ],
   "source": [
    "mergeDataFrame2"
   ]
  },
  {
   "cell_type": "code",
   "execution_count": 46,
   "id": "772d4768-d654-46d7-8fd7-a64270070478",
   "metadata": {},
   "outputs": [
    {
     "data": {
      "text/html": [
       "<div>\n",
       "<style scoped>\n",
       "    .dataframe tbody tr th:only-of-type {\n",
       "        vertical-align: middle;\n",
       "    }\n",
       "\n",
       "    .dataframe tbody tr th {\n",
       "        vertical-align: top;\n",
       "    }\n",
       "\n",
       "    .dataframe thead th {\n",
       "        text-align: right;\n",
       "    }\n",
       "</style>\n",
       "<table border=\"1\" class=\"dataframe\">\n",
       "  <thead>\n",
       "    <tr style=\"text-align: right;\">\n",
       "      <th></th>\n",
       "      <th>Isim</th>\n",
       "      <th>Spor</th>\n",
       "      <th>Kalori</th>\n",
       "    </tr>\n",
       "  </thead>\n",
       "  <tbody>\n",
       "    <tr>\n",
       "      <th>0</th>\n",
       "      <td>Osman</td>\n",
       "      <td>Koşu</td>\n",
       "      <td>200</td>\n",
       "    </tr>\n",
       "    <tr>\n",
       "      <th>1</th>\n",
       "      <td>Levent</td>\n",
       "      <td>Yüzme</td>\n",
       "      <td>100</td>\n",
       "    </tr>\n",
       "    <tr>\n",
       "      <th>2</th>\n",
       "      <td>Atlas</td>\n",
       "      <td>Koşu</td>\n",
       "      <td>50</td>\n",
       "    </tr>\n",
       "    <tr>\n",
       "      <th>3</th>\n",
       "      <td>Fatma</td>\n",
       "      <td>Basketbol</td>\n",
       "      <td>300</td>\n",
       "    </tr>\n",
       "  </tbody>\n",
       "</table>\n",
       "</div>"
      ],
      "text/plain": [
       "     Isim       Spor  Kalori\n",
       "0   Osman       Koşu     200\n",
       "1  Levent      Yüzme     100\n",
       "2   Atlas       Koşu      50\n",
       "3   Fatma  Basketbol     300"
      ]
     },
     "execution_count": 46,
     "metadata": {},
     "output_type": "execute_result"
    }
   ],
   "source": [
    "pd.merge(mergeDataFrame1,mergeDataFrame2,on = \"Isim\")"
   ]
  },
  {
   "cell_type": "markdown",
   "id": "14f9a4ea-7de7-4a06-adb8-be9baabfbb75",
   "metadata": {},
   "source": [
    "## İleri Operasyonlar"
   ]
  },
  {
   "cell_type": "code",
   "execution_count": 49,
   "id": "3c55252f-6ccc-49e4-82f5-884e063f35c7",
   "metadata": {},
   "outputs": [],
   "source": [
    "maasSozluk = {\"Isim\" : [\"Atıl\",\"Zeynep\",\"Mehmet\",\"Ahmet\"], \n",
    "             \"Departman\" : [\"Yazılım\",\"Satış\",\"Pazarlama\",\"Yazılım\"],\n",
    "              \"Maas\" : [200,300,400,500]\n",
    "             }"
   ]
  },
  {
   "cell_type": "code",
   "execution_count": 51,
   "id": "09aebafb-2572-40df-a7e6-79e7619ddefd",
   "metadata": {},
   "outputs": [],
   "source": [
    "maasDataFrame = pd.DataFrame (maasSozluk)"
   ]
  },
  {
   "cell_type": "code",
   "execution_count": 53,
   "id": "a5855a7a-ac7d-4b30-aee9-155a98ad1263",
   "metadata": {},
   "outputs": [
    {
     "data": {
      "text/html": [
       "<div>\n",
       "<style scoped>\n",
       "    .dataframe tbody tr th:only-of-type {\n",
       "        vertical-align: middle;\n",
       "    }\n",
       "\n",
       "    .dataframe tbody tr th {\n",
       "        vertical-align: top;\n",
       "    }\n",
       "\n",
       "    .dataframe thead th {\n",
       "        text-align: right;\n",
       "    }\n",
       "</style>\n",
       "<table border=\"1\" class=\"dataframe\">\n",
       "  <thead>\n",
       "    <tr style=\"text-align: right;\">\n",
       "      <th></th>\n",
       "      <th>Isim</th>\n",
       "      <th>Departman</th>\n",
       "      <th>Maas</th>\n",
       "    </tr>\n",
       "  </thead>\n",
       "  <tbody>\n",
       "    <tr>\n",
       "      <th>0</th>\n",
       "      <td>Atıl</td>\n",
       "      <td>Yazılım</td>\n",
       "      <td>200</td>\n",
       "    </tr>\n",
       "    <tr>\n",
       "      <th>1</th>\n",
       "      <td>Zeynep</td>\n",
       "      <td>Satış</td>\n",
       "      <td>300</td>\n",
       "    </tr>\n",
       "    <tr>\n",
       "      <th>2</th>\n",
       "      <td>Mehmet</td>\n",
       "      <td>Pazarlama</td>\n",
       "      <td>400</td>\n",
       "    </tr>\n",
       "    <tr>\n",
       "      <th>3</th>\n",
       "      <td>Ahmet</td>\n",
       "      <td>Yazılım</td>\n",
       "      <td>500</td>\n",
       "    </tr>\n",
       "  </tbody>\n",
       "</table>\n",
       "</div>"
      ],
      "text/plain": [
       "     Isim  Departman  Maas\n",
       "0    Atıl    Yazılım   200\n",
       "1  Zeynep      Satış   300\n",
       "2  Mehmet  Pazarlama   400\n",
       "3   Ahmet    Yazılım   500"
      ]
     },
     "execution_count": 53,
     "metadata": {},
     "output_type": "execute_result"
    }
   ],
   "source": [
    "maasDataFrame"
   ]
  },
  {
   "cell_type": "code",
   "execution_count": 57,
   "id": "f731a4f0-c020-43c1-ad95-e0354eac5c1f",
   "metadata": {},
   "outputs": [
    {
     "data": {
      "text/plain": [
       "array(['Yazılım', 'Satış', 'Pazarlama'], dtype=object)"
      ]
     },
     "execution_count": 57,
     "metadata": {},
     "output_type": "execute_result"
    }
   ],
   "source": [
    "maasDataFrame[\"Departman\"].unique() # tekrarları almıyor"
   ]
  },
  {
   "cell_type": "code",
   "execution_count": 59,
   "id": "1991b258-852e-4a6a-be84-de96d7e6dbb2",
   "metadata": {},
   "outputs": [
    {
     "data": {
      "text/plain": [
       "3"
      ]
     },
     "execution_count": 59,
     "metadata": {},
     "output_type": "execute_result"
    }
   ],
   "source": [
    "maasDataFrame[\"Departman\"].nunique() # kaç departman sayısını veriyor"
   ]
  },
  {
   "cell_type": "code",
   "execution_count": 61,
   "id": "497ca389-198a-4d66-875f-4d83ca1b6f0f",
   "metadata": {},
   "outputs": [
    {
     "data": {
      "text/plain": [
       "Departman\n",
       "Yazılım      2\n",
       "Satış        1\n",
       "Pazarlama    1\n",
       "Name: count, dtype: int64"
      ]
     },
     "execution_count": 61,
     "metadata": {},
     "output_type": "execute_result"
    }
   ],
   "source": [
    "maasDataFrame[\"Departman\"].value_counts() #hangi departmandan kaç tane var"
   ]
  },
  {
   "cell_type": "code",
   "execution_count": 65,
   "id": "90cecbe4-3f25-4ebf-abbe-3b9bc54996a2",
   "metadata": {},
   "outputs": [],
   "source": [
    "def bruttenNete(maas):\n",
    "    return maas * 0.66"
   ]
  },
  {
   "cell_type": "code",
   "execution_count": 67,
   "id": "51e676bd-132c-4d09-801b-ec4487d51b96",
   "metadata": {},
   "outputs": [
    {
     "data": {
      "text/plain": [
       "0    132.0\n",
       "1    198.0\n",
       "2    264.0\n",
       "3    330.0\n",
       "Name: Maas, dtype: float64"
      ]
     },
     "execution_count": 67,
     "metadata": {},
     "output_type": "execute_result"
    }
   ],
   "source": [
    "maasDataFrame[\"Maas\"].apply(bruttenNete) #apply ile fonksiyonları uyglluyoruz"
   ]
  },
  {
   "cell_type": "code",
   "execution_count": 71,
   "id": "1d935304-8b6c-4308-b35e-579d46858696",
   "metadata": {},
   "outputs": [
    {
     "data": {
      "text/html": [
       "<div>\n",
       "<style scoped>\n",
       "    .dataframe tbody tr th:only-of-type {\n",
       "        vertical-align: middle;\n",
       "    }\n",
       "\n",
       "    .dataframe tbody tr th {\n",
       "        vertical-align: top;\n",
       "    }\n",
       "\n",
       "    .dataframe thead th {\n",
       "        text-align: right;\n",
       "    }\n",
       "</style>\n",
       "<table border=\"1\" class=\"dataframe\">\n",
       "  <thead>\n",
       "    <tr style=\"text-align: right;\">\n",
       "      <th></th>\n",
       "      <th>Isim</th>\n",
       "      <th>Departman</th>\n",
       "      <th>Maas</th>\n",
       "    </tr>\n",
       "  </thead>\n",
       "  <tbody>\n",
       "    <tr>\n",
       "      <th>0</th>\n",
       "      <td>False</td>\n",
       "      <td>False</td>\n",
       "      <td>False</td>\n",
       "    </tr>\n",
       "    <tr>\n",
       "      <th>1</th>\n",
       "      <td>False</td>\n",
       "      <td>False</td>\n",
       "      <td>False</td>\n",
       "    </tr>\n",
       "    <tr>\n",
       "      <th>2</th>\n",
       "      <td>False</td>\n",
       "      <td>False</td>\n",
       "      <td>False</td>\n",
       "    </tr>\n",
       "    <tr>\n",
       "      <th>3</th>\n",
       "      <td>False</td>\n",
       "      <td>False</td>\n",
       "      <td>False</td>\n",
       "    </tr>\n",
       "  </tbody>\n",
       "</table>\n",
       "</div>"
      ],
      "text/plain": [
       "    Isim  Departman   Maas\n",
       "0  False      False  False\n",
       "1  False      False  False\n",
       "2  False      False  False\n",
       "3  False      False  False"
      ]
     },
     "execution_count": 71,
     "metadata": {},
     "output_type": "execute_result"
    }
   ],
   "source": [
    "maasDataFrame.isnull() #boş değer var mı ?"
   ]
  },
  {
   "cell_type": "code",
   "execution_count": 74,
   "id": "5d78afd0-5b77-437b-bac2-ed68274a4789",
   "metadata": {},
   "outputs": [],
   "source": [
    "yeniBirVeri = {\"Karakter Sınıfı\" : [\"South Park\", \"South Park\", \"Simpson\", \"Simpson\",\"Simpson\"],\n",
    "              \"Karakter Ismi\" : [\"Cartman\", \"Kenny\", \"Homer\", \"Bart\",\"Bart\"],\n",
    "               \"Karakter Yas\" : [9,10,50,20,10]\n",
    "              }"
   ]
  },
  {
   "cell_type": "code",
   "execution_count": 76,
   "id": "04c633a7-9926-4969-a0a5-0c0b5e07ba0d",
   "metadata": {},
   "outputs": [],
   "source": [
    "karakterDF = pd.DataFrame(yeniBirVeri)"
   ]
  },
  {
   "cell_type": "code",
   "execution_count": 78,
   "id": "e3536135-b83d-477b-ac66-63713e2ecae8",
   "metadata": {},
   "outputs": [
    {
     "data": {
      "text/html": [
       "<div>\n",
       "<style scoped>\n",
       "    .dataframe tbody tr th:only-of-type {\n",
       "        vertical-align: middle;\n",
       "    }\n",
       "\n",
       "    .dataframe tbody tr th {\n",
       "        vertical-align: top;\n",
       "    }\n",
       "\n",
       "    .dataframe thead th {\n",
       "        text-align: right;\n",
       "    }\n",
       "</style>\n",
       "<table border=\"1\" class=\"dataframe\">\n",
       "  <thead>\n",
       "    <tr style=\"text-align: right;\">\n",
       "      <th></th>\n",
       "      <th>Karakter Sınıfı</th>\n",
       "      <th>Karakter Ismi</th>\n",
       "      <th>Karakter Yas</th>\n",
       "    </tr>\n",
       "  </thead>\n",
       "  <tbody>\n",
       "    <tr>\n",
       "      <th>0</th>\n",
       "      <td>South Park</td>\n",
       "      <td>Cartman</td>\n",
       "      <td>9</td>\n",
       "    </tr>\n",
       "    <tr>\n",
       "      <th>1</th>\n",
       "      <td>South Park</td>\n",
       "      <td>Kenny</td>\n",
       "      <td>10</td>\n",
       "    </tr>\n",
       "    <tr>\n",
       "      <th>2</th>\n",
       "      <td>Simpson</td>\n",
       "      <td>Homer</td>\n",
       "      <td>50</td>\n",
       "    </tr>\n",
       "    <tr>\n",
       "      <th>3</th>\n",
       "      <td>Simpson</td>\n",
       "      <td>Bart</td>\n",
       "      <td>20</td>\n",
       "    </tr>\n",
       "    <tr>\n",
       "      <th>4</th>\n",
       "      <td>Simpson</td>\n",
       "      <td>Bart</td>\n",
       "      <td>10</td>\n",
       "    </tr>\n",
       "  </tbody>\n",
       "</table>\n",
       "</div>"
      ],
      "text/plain": [
       "  Karakter Sınıfı Karakter Ismi  Karakter Yas\n",
       "0      South Park       Cartman             9\n",
       "1      South Park         Kenny            10\n",
       "2         Simpson         Homer            50\n",
       "3         Simpson          Bart            20\n",
       "4         Simpson          Bart            10"
      ]
     },
     "execution_count": 78,
     "metadata": {},
     "output_type": "execute_result"
    }
   ],
   "source": [
    "karakterDF"
   ]
  },
  {
   "cell_type": "code",
   "execution_count": 80,
   "id": "351f7e42-1693-44ae-9a92-a54b92234b6e",
   "metadata": {},
   "outputs": [
    {
     "name": "stderr",
     "output_type": "stream",
     "text": [
      "/var/folders/8v/8s2d06193hxccb1n1d4vwqhh0000gn/T/ipykernel_48397/743574068.py:1: FutureWarning: The provided callable <function sum at 0x105fc7100> is currently using DataFrameGroupBy.sum. In a future version of pandas, the provided callable will be used directly. To keep current behavior pass the string \"sum\" instead.\n",
      "  karakterDF.pivot_table(values = \"Karakter Yas\", index = [\"Karakter Sınıfı\", \"Karakter Ismi\"],aggfunc=np.sum)\n"
     ]
    },
    {
     "data": {
      "text/html": [
       "<div>\n",
       "<style scoped>\n",
       "    .dataframe tbody tr th:only-of-type {\n",
       "        vertical-align: middle;\n",
       "    }\n",
       "\n",
       "    .dataframe tbody tr th {\n",
       "        vertical-align: top;\n",
       "    }\n",
       "\n",
       "    .dataframe thead th {\n",
       "        text-align: right;\n",
       "    }\n",
       "</style>\n",
       "<table border=\"1\" class=\"dataframe\">\n",
       "  <thead>\n",
       "    <tr style=\"text-align: right;\">\n",
       "      <th></th>\n",
       "      <th></th>\n",
       "      <th>Karakter Yas</th>\n",
       "    </tr>\n",
       "    <tr>\n",
       "      <th>Karakter Sınıfı</th>\n",
       "      <th>Karakter Ismi</th>\n",
       "      <th></th>\n",
       "    </tr>\n",
       "  </thead>\n",
       "  <tbody>\n",
       "    <tr>\n",
       "      <th rowspan=\"2\" valign=\"top\">Simpson</th>\n",
       "      <th>Bart</th>\n",
       "      <td>30</td>\n",
       "    </tr>\n",
       "    <tr>\n",
       "      <th>Homer</th>\n",
       "      <td>50</td>\n",
       "    </tr>\n",
       "    <tr>\n",
       "      <th rowspan=\"2\" valign=\"top\">South Park</th>\n",
       "      <th>Cartman</th>\n",
       "      <td>9</td>\n",
       "    </tr>\n",
       "    <tr>\n",
       "      <th>Kenny</th>\n",
       "      <td>10</td>\n",
       "    </tr>\n",
       "  </tbody>\n",
       "</table>\n",
       "</div>"
      ],
      "text/plain": [
       "                               Karakter Yas\n",
       "Karakter Sınıfı Karakter Ismi              \n",
       "Simpson         Bart                     30\n",
       "                Homer                    50\n",
       "South Park      Cartman                   9\n",
       "                Kenny                    10"
      ]
     },
     "execution_count": 80,
     "metadata": {},
     "output_type": "execute_result"
    }
   ],
   "source": [
    "karakterDF.pivot_table(values = \"Karakter Yas\", index = [\"Karakter Sınıfı\", \"Karakter Ismi\"],aggfunc=np.sum)"
   ]
  },
  {
   "cell_type": "code",
   "execution_count": null,
   "id": "f09b181f-5c1c-43ed-b873-13013d759213",
   "metadata": {},
   "outputs": [],
   "source": []
  }
 ],
 "metadata": {
  "kernelspec": {
   "display_name": "Python 3 (ipykernel)",
   "language": "python",
   "name": "python3"
  },
  "language_info": {
   "codemirror_mode": {
    "name": "ipython",
    "version": 3
   },
   "file_extension": ".py",
   "mimetype": "text/x-python",
   "name": "python",
   "nbconvert_exporter": "python",
   "pygments_lexer": "ipython3",
   "version": "3.11.7"
  }
 },
 "nbformat": 4,
 "nbformat_minor": 5
}
