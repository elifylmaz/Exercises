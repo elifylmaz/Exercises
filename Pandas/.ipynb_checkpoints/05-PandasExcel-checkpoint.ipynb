{
 "cells": [
  {
   "cell_type": "code",
   "execution_count": 2,
   "id": "b9b8f0f1-b389-4b09-b361-390a2edab7dc",
   "metadata": {},
   "outputs": [],
   "source": [
    "import pandas as pd\n"
   ]
  },
  {
   "cell_type": "code",
   "execution_count": 6,
   "id": "4048d234-49a5-4c01-85ee-1aae71a69fbe",
   "metadata": {},
   "outputs": [
    {
     "data": {
      "text/html": [
       "<div>\n",
       "<style scoped>\n",
       "    .dataframe tbody tr th:only-of-type {\n",
       "        vertical-align: middle;\n",
       "    }\n",
       "\n",
       "    .dataframe tbody tr th {\n",
       "        vertical-align: top;\n",
       "    }\n",
       "\n",
       "    .dataframe thead th {\n",
       "        text-align: right;\n",
       "    }\n",
       "</style>\n",
       "<table border=\"1\" class=\"dataframe\">\n",
       "  <thead>\n",
       "    <tr style=\"text-align: right;\">\n",
       "      <th></th>\n",
       "      <th>Unnamed: 0</th>\n",
       "      <th>maas</th>\n",
       "      <th>yas</th>\n",
       "      <th>departman</th>\n",
       "    </tr>\n",
       "  </thead>\n",
       "  <tbody>\n",
       "    <tr>\n",
       "      <th>0</th>\n",
       "      <td>atıl</td>\n",
       "      <td>1221</td>\n",
       "      <td>43.0</td>\n",
       "      <td>yazılım</td>\n",
       "    </tr>\n",
       "    <tr>\n",
       "      <th>1</th>\n",
       "      <td>zeynep</td>\n",
       "      <td>2122</td>\n",
       "      <td>4.0</td>\n",
       "      <td>satış</td>\n",
       "    </tr>\n",
       "    <tr>\n",
       "      <th>2</th>\n",
       "      <td>mehmet</td>\n",
       "      <td>343</td>\n",
       "      <td>33.0</td>\n",
       "      <td>NaN</td>\n",
       "    </tr>\n",
       "    <tr>\n",
       "      <th>3</th>\n",
       "      <td>ahmet</td>\n",
       "      <td>33234</td>\n",
       "      <td>43.0</td>\n",
       "      <td>pazarlama</td>\n",
       "    </tr>\n",
       "    <tr>\n",
       "      <th>4</th>\n",
       "      <td>atlas</td>\n",
       "      <td>2323</td>\n",
       "      <td>NaN</td>\n",
       "      <td>finans</td>\n",
       "    </tr>\n",
       "    <tr>\n",
       "      <th>5</th>\n",
       "      <td>fatma</td>\n",
       "      <td>323</td>\n",
       "      <td>12.0</td>\n",
       "      <td>hukuk</td>\n",
       "    </tr>\n",
       "  </tbody>\n",
       "</table>\n",
       "</div>"
      ],
      "text/plain": [
       "  Unnamed: 0   maas   yas  departman\n",
       "0       atıl   1221  43.0    yazılım\n",
       "1     zeynep   2122   4.0      satış\n",
       "2     mehmet    343  33.0        NaN\n",
       "3      ahmet  33234  43.0  pazarlama\n",
       "4      atlas   2323   NaN     finans\n",
       "5      fatma    323  12.0      hukuk"
      ]
     },
     "execution_count": 6,
     "metadata": {},
     "output_type": "execute_result"
    }
   ],
   "source": [
    "pd.read_excel(\"deneme.xlsx\")"
   ]
  },
  {
   "cell_type": "code",
   "execution_count": 8,
   "id": "b41577aa-0850-405b-afb2-cf34fff2ee1b",
   "metadata": {},
   "outputs": [],
   "source": [
    "df = pd.read_excel(\"deneme.xlsx\")"
   ]
  },
  {
   "cell_type": "code",
   "execution_count": 10,
   "id": "aebc411f-09d5-4330-92d8-ac69ca690444",
   "metadata": {},
   "outputs": [
    {
     "data": {
      "text/html": [
       "<div>\n",
       "<style scoped>\n",
       "    .dataframe tbody tr th:only-of-type {\n",
       "        vertical-align: middle;\n",
       "    }\n",
       "\n",
       "    .dataframe tbody tr th {\n",
       "        vertical-align: top;\n",
       "    }\n",
       "\n",
       "    .dataframe thead th {\n",
       "        text-align: right;\n",
       "    }\n",
       "</style>\n",
       "<table border=\"1\" class=\"dataframe\">\n",
       "  <thead>\n",
       "    <tr style=\"text-align: right;\">\n",
       "      <th></th>\n",
       "      <th>Unnamed: 0</th>\n",
       "      <th>maas</th>\n",
       "      <th>yas</th>\n",
       "      <th>departman</th>\n",
       "    </tr>\n",
       "  </thead>\n",
       "  <tbody>\n",
       "    <tr>\n",
       "      <th>0</th>\n",
       "      <td>atıl</td>\n",
       "      <td>1221</td>\n",
       "      <td>43.0</td>\n",
       "      <td>yazılım</td>\n",
       "    </tr>\n",
       "    <tr>\n",
       "      <th>1</th>\n",
       "      <td>zeynep</td>\n",
       "      <td>2122</td>\n",
       "      <td>4.0</td>\n",
       "      <td>satış</td>\n",
       "    </tr>\n",
       "    <tr>\n",
       "      <th>2</th>\n",
       "      <td>mehmet</td>\n",
       "      <td>343</td>\n",
       "      <td>33.0</td>\n",
       "      <td>NaN</td>\n",
       "    </tr>\n",
       "    <tr>\n",
       "      <th>3</th>\n",
       "      <td>ahmet</td>\n",
       "      <td>33234</td>\n",
       "      <td>43.0</td>\n",
       "      <td>pazarlama</td>\n",
       "    </tr>\n",
       "    <tr>\n",
       "      <th>4</th>\n",
       "      <td>atlas</td>\n",
       "      <td>2323</td>\n",
       "      <td>NaN</td>\n",
       "      <td>finans</td>\n",
       "    </tr>\n",
       "    <tr>\n",
       "      <th>5</th>\n",
       "      <td>fatma</td>\n",
       "      <td>323</td>\n",
       "      <td>12.0</td>\n",
       "      <td>hukuk</td>\n",
       "    </tr>\n",
       "  </tbody>\n",
       "</table>\n",
       "</div>"
      ],
      "text/plain": [
       "  Unnamed: 0   maas   yas  departman\n",
       "0       atıl   1221  43.0    yazılım\n",
       "1     zeynep   2122   4.0      satış\n",
       "2     mehmet    343  33.0        NaN\n",
       "3      ahmet  33234  43.0  pazarlama\n",
       "4      atlas   2323   NaN     finans\n",
       "5      fatma    323  12.0      hukuk"
      ]
     },
     "execution_count": 10,
     "metadata": {},
     "output_type": "execute_result"
    }
   ],
   "source": [
    "df"
   ]
  },
  {
   "cell_type": "code",
   "execution_count": 14,
   "id": "bbe8bfb7-b83d-46b8-9ea3-f78e4ae09948",
   "metadata": {},
   "outputs": [],
   "source": [
    "yenidf = df.dropna()"
   ]
  },
  {
   "cell_type": "code",
   "execution_count": 16,
   "id": "f515a72f-c0b8-46aa-86d3-7c593fc94baf",
   "metadata": {},
   "outputs": [
    {
     "data": {
      "text/html": [
       "<div>\n",
       "<style scoped>\n",
       "    .dataframe tbody tr th:only-of-type {\n",
       "        vertical-align: middle;\n",
       "    }\n",
       "\n",
       "    .dataframe tbody tr th {\n",
       "        vertical-align: top;\n",
       "    }\n",
       "\n",
       "    .dataframe thead th {\n",
       "        text-align: right;\n",
       "    }\n",
       "</style>\n",
       "<table border=\"1\" class=\"dataframe\">\n",
       "  <thead>\n",
       "    <tr style=\"text-align: right;\">\n",
       "      <th></th>\n",
       "      <th>Unnamed: 0</th>\n",
       "      <th>maas</th>\n",
       "      <th>yas</th>\n",
       "      <th>departman</th>\n",
       "    </tr>\n",
       "  </thead>\n",
       "  <tbody>\n",
       "    <tr>\n",
       "      <th>0</th>\n",
       "      <td>atıl</td>\n",
       "      <td>1221</td>\n",
       "      <td>43.0</td>\n",
       "      <td>yazılım</td>\n",
       "    </tr>\n",
       "    <tr>\n",
       "      <th>1</th>\n",
       "      <td>zeynep</td>\n",
       "      <td>2122</td>\n",
       "      <td>4.0</td>\n",
       "      <td>satış</td>\n",
       "    </tr>\n",
       "    <tr>\n",
       "      <th>3</th>\n",
       "      <td>ahmet</td>\n",
       "      <td>33234</td>\n",
       "      <td>43.0</td>\n",
       "      <td>pazarlama</td>\n",
       "    </tr>\n",
       "    <tr>\n",
       "      <th>5</th>\n",
       "      <td>fatma</td>\n",
       "      <td>323</td>\n",
       "      <td>12.0</td>\n",
       "      <td>hukuk</td>\n",
       "    </tr>\n",
       "  </tbody>\n",
       "</table>\n",
       "</div>"
      ],
      "text/plain": [
       "  Unnamed: 0   maas   yas  departman\n",
       "0       atıl   1221  43.0    yazılım\n",
       "1     zeynep   2122   4.0      satış\n",
       "3      ahmet  33234  43.0  pazarlama\n",
       "5      fatma    323  12.0      hukuk"
      ]
     },
     "execution_count": 16,
     "metadata": {},
     "output_type": "execute_result"
    }
   ],
   "source": [
    "yenidf"
   ]
  },
  {
   "cell_type": "code",
   "execution_count": 18,
   "id": "45b9866e-f00c-47fb-a8d3-baf791170b34",
   "metadata": {},
   "outputs": [],
   "source": [
    "yenidf.to_excel(\"yenimaas.xlsx\")"
   ]
  },
  {
   "cell_type": "code",
   "execution_count": null,
   "id": "db4e6283-c1b8-49ab-864c-79f230f1daad",
   "metadata": {},
   "outputs": [],
   "source": [
    "## read_csv ve to_csv --->>>>>>> for CSV"
   ]
  }
 ],
 "metadata": {
  "kernelspec": {
   "display_name": "Python 3 (ipykernel)",
   "language": "python",
   "name": "python3"
  },
  "language_info": {
   "codemirror_mode": {
    "name": "ipython",
    "version": 3
   },
   "file_extension": ".py",
   "mimetype": "text/x-python",
   "name": "python",
   "nbconvert_exporter": "python",
   "pygments_lexer": "ipython3",
   "version": "3.11.7"
  }
 },
 "nbformat": 4,
 "nbformat_minor": 5
}
