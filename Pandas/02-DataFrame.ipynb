{
 "cells": [
  {
   "cell_type": "markdown",
   "id": "84e6439f-2de6-43cb-a0ef-ad014baadccf",
   "metadata": {},
   "source": [
    "## Veri Çercevesi / DataFrame"
   ]
  },
  {
   "cell_type": "code",
   "execution_count": 3,
   "id": "96498457-da30-4e40-b470-d0082b39bc8e",
   "metadata": {},
   "outputs": [],
   "source": [
    "import pandas as pd\n",
    "import numpy as np "
   ]
  },
  {
   "cell_type": "code",
   "execution_count": 7,
   "id": "d4e75a34-d478-4198-b9c4-3957dca86bbd",
   "metadata": {},
   "outputs": [],
   "source": [
    "data = np.random.randn(4,3)"
   ]
  },
  {
   "cell_type": "code",
   "execution_count": 9,
   "id": "7e5a0702-57f2-488a-a796-9435a80e02c3",
   "metadata": {},
   "outputs": [
    {
     "data": {
      "text/plain": [
       "array([[ 0.11484666,  0.03164821, -0.51659866],\n",
       "       [-0.78720268, -1.63924478, -0.54576043],\n",
       "       [ 0.8819134 ,  0.43636041, -1.52154582],\n",
       "       [-0.50147032,  0.20033524, -0.84745817]])"
      ]
     },
     "execution_count": 9,
     "metadata": {},
     "output_type": "execute_result"
    }
   ],
   "source": [
    "data"
   ]
  },
  {
   "cell_type": "code",
   "execution_count": 11,
   "id": "d86142e0-4668-49ef-87a5-4300788c5668",
   "metadata": {},
   "outputs": [],
   "source": [
    "dataFrame = pd.DataFrame(data)"
   ]
  },
  {
   "cell_type": "code",
   "execution_count": 13,
   "id": "d8c929ac-258a-4c01-8b44-0e21c196f46e",
   "metadata": {},
   "outputs": [
    {
     "data": {
      "text/html": [
       "<div>\n",
       "<style scoped>\n",
       "    .dataframe tbody tr th:only-of-type {\n",
       "        vertical-align: middle;\n",
       "    }\n",
       "\n",
       "    .dataframe tbody tr th {\n",
       "        vertical-align: top;\n",
       "    }\n",
       "\n",
       "    .dataframe thead th {\n",
       "        text-align: right;\n",
       "    }\n",
       "</style>\n",
       "<table border=\"1\" class=\"dataframe\">\n",
       "  <thead>\n",
       "    <tr style=\"text-align: right;\">\n",
       "      <th></th>\n",
       "      <th>0</th>\n",
       "      <th>1</th>\n",
       "      <th>2</th>\n",
       "    </tr>\n",
       "  </thead>\n",
       "  <tbody>\n",
       "    <tr>\n",
       "      <th>0</th>\n",
       "      <td>0.114847</td>\n",
       "      <td>0.031648</td>\n",
       "      <td>-0.516599</td>\n",
       "    </tr>\n",
       "    <tr>\n",
       "      <th>1</th>\n",
       "      <td>-0.787203</td>\n",
       "      <td>-1.639245</td>\n",
       "      <td>-0.545760</td>\n",
       "    </tr>\n",
       "    <tr>\n",
       "      <th>2</th>\n",
       "      <td>0.881913</td>\n",
       "      <td>0.436360</td>\n",
       "      <td>-1.521546</td>\n",
       "    </tr>\n",
       "    <tr>\n",
       "      <th>3</th>\n",
       "      <td>-0.501470</td>\n",
       "      <td>0.200335</td>\n",
       "      <td>-0.847458</td>\n",
       "    </tr>\n",
       "  </tbody>\n",
       "</table>\n",
       "</div>"
      ],
      "text/plain": [
       "          0         1         2\n",
       "0  0.114847  0.031648 -0.516599\n",
       "1 -0.787203 -1.639245 -0.545760\n",
       "2  0.881913  0.436360 -1.521546\n",
       "3 -0.501470  0.200335 -0.847458"
      ]
     },
     "execution_count": 13,
     "metadata": {},
     "output_type": "execute_result"
    }
   ],
   "source": [
    "dataFrame"
   ]
  },
  {
   "cell_type": "code",
   "execution_count": 15,
   "id": "ed8cab7e-bed0-467c-80ac-f02645d728bc",
   "metadata": {},
   "outputs": [
    {
     "data": {
      "text/plain": [
       "0    0.114847\n",
       "1   -0.787203\n",
       "2    0.881913\n",
       "3   -0.501470\n",
       "Name: 0, dtype: float64"
      ]
     },
     "execution_count": 15,
     "metadata": {},
     "output_type": "execute_result"
    }
   ],
   "source": [
    "dataFrame[0] #ilk COLUMN"
   ]
  },
  {
   "cell_type": "code",
   "execution_count": 17,
   "id": "305ebbea-af72-4205-a077-4cb3470900d7",
   "metadata": {},
   "outputs": [
    {
     "data": {
      "text/plain": [
       "pandas.core.series.Series"
      ]
     },
     "execution_count": 17,
     "metadata": {},
     "output_type": "execute_result"
    }
   ],
   "source": [
    "type(dataFrame[0])"
   ]
  },
  {
   "cell_type": "code",
   "execution_count": 19,
   "id": "91ef980d-15e8-4574-8504-5bd65a20e8f5",
   "metadata": {},
   "outputs": [],
   "source": [
    "yeniDataFrame = pd.DataFrame(data,index=[\"atıl\",\"zeynep\",\"atlas\",\"mehmet\"],columns = [\"maas\",\"yas\",\"çalışma suresi\"])"
   ]
  },
  {
   "cell_type": "code",
   "execution_count": 21,
   "id": "6ff8f3c3-d5ef-4e0d-b16b-8546f1adebbd",
   "metadata": {},
   "outputs": [
    {
     "data": {
      "text/html": [
       "<div>\n",
       "<style scoped>\n",
       "    .dataframe tbody tr th:only-of-type {\n",
       "        vertical-align: middle;\n",
       "    }\n",
       "\n",
       "    .dataframe tbody tr th {\n",
       "        vertical-align: top;\n",
       "    }\n",
       "\n",
       "    .dataframe thead th {\n",
       "        text-align: right;\n",
       "    }\n",
       "</style>\n",
       "<table border=\"1\" class=\"dataframe\">\n",
       "  <thead>\n",
       "    <tr style=\"text-align: right;\">\n",
       "      <th></th>\n",
       "      <th>maas</th>\n",
       "      <th>yas</th>\n",
       "      <th>çalışma suresi</th>\n",
       "    </tr>\n",
       "  </thead>\n",
       "  <tbody>\n",
       "    <tr>\n",
       "      <th>atıl</th>\n",
       "      <td>0.114847</td>\n",
       "      <td>0.031648</td>\n",
       "      <td>-0.516599</td>\n",
       "    </tr>\n",
       "    <tr>\n",
       "      <th>zeynep</th>\n",
       "      <td>-0.787203</td>\n",
       "      <td>-1.639245</td>\n",
       "      <td>-0.545760</td>\n",
       "    </tr>\n",
       "    <tr>\n",
       "      <th>atlas</th>\n",
       "      <td>0.881913</td>\n",
       "      <td>0.436360</td>\n",
       "      <td>-1.521546</td>\n",
       "    </tr>\n",
       "    <tr>\n",
       "      <th>mehmet</th>\n",
       "      <td>-0.501470</td>\n",
       "      <td>0.200335</td>\n",
       "      <td>-0.847458</td>\n",
       "    </tr>\n",
       "  </tbody>\n",
       "</table>\n",
       "</div>"
      ],
      "text/plain": [
       "            maas       yas  çalışma suresi\n",
       "atıl    0.114847  0.031648       -0.516599\n",
       "zeynep -0.787203 -1.639245       -0.545760\n",
       "atlas   0.881913  0.436360       -1.521546\n",
       "mehmet -0.501470  0.200335       -0.847458"
      ]
     },
     "execution_count": 21,
     "metadata": {},
     "output_type": "execute_result"
    }
   ],
   "source": [
    "yeniDataFrame"
   ]
  },
  {
   "cell_type": "code",
   "execution_count": 23,
   "id": "409edfbc-a44c-4a0b-a9de-f11aef1423e8",
   "metadata": {},
   "outputs": [
    {
     "data": {
      "text/plain": [
       "atıl      0.031648\n",
       "zeynep   -1.639245\n",
       "atlas     0.436360\n",
       "mehmet    0.200335\n",
       "Name: yas, dtype: float64"
      ]
     },
     "execution_count": 23,
     "metadata": {},
     "output_type": "execute_result"
    }
   ],
   "source": [
    "yeniDataFrame[\"yas\"]"
   ]
  },
  {
   "cell_type": "code",
   "execution_count": 27,
   "id": "65ebda2b-2d3f-4d8b-aa0e-dde351ec85a4",
   "metadata": {},
   "outputs": [
    {
     "data": {
      "text/html": [
       "<div>\n",
       "<style scoped>\n",
       "    .dataframe tbody tr th:only-of-type {\n",
       "        vertical-align: middle;\n",
       "    }\n",
       "\n",
       "    .dataframe tbody tr th {\n",
       "        vertical-align: top;\n",
       "    }\n",
       "\n",
       "    .dataframe thead th {\n",
       "        text-align: right;\n",
       "    }\n",
       "</style>\n",
       "<table border=\"1\" class=\"dataframe\">\n",
       "  <thead>\n",
       "    <tr style=\"text-align: right;\">\n",
       "      <th></th>\n",
       "      <th>maas</th>\n",
       "      <th>yas</th>\n",
       "    </tr>\n",
       "  </thead>\n",
       "  <tbody>\n",
       "    <tr>\n",
       "      <th>atıl</th>\n",
       "      <td>0.114847</td>\n",
       "      <td>0.031648</td>\n",
       "    </tr>\n",
       "    <tr>\n",
       "      <th>zeynep</th>\n",
       "      <td>-0.787203</td>\n",
       "      <td>-1.639245</td>\n",
       "    </tr>\n",
       "    <tr>\n",
       "      <th>atlas</th>\n",
       "      <td>0.881913</td>\n",
       "      <td>0.436360</td>\n",
       "    </tr>\n",
       "    <tr>\n",
       "      <th>mehmet</th>\n",
       "      <td>-0.501470</td>\n",
       "      <td>0.200335</td>\n",
       "    </tr>\n",
       "  </tbody>\n",
       "</table>\n",
       "</div>"
      ],
      "text/plain": [
       "            maas       yas\n",
       "atıl    0.114847  0.031648\n",
       "zeynep -0.787203 -1.639245\n",
       "atlas   0.881913  0.436360\n",
       "mehmet -0.501470  0.200335"
      ]
     },
     "execution_count": 27,
     "metadata": {},
     "output_type": "execute_result"
    }
   ],
   "source": [
    "yeniDataFrame[[\"maas\",\"yas\"]]"
   ]
  },
  {
   "cell_type": "code",
   "execution_count": 29,
   "id": "d37d84cf-08ee-46ea-9263-cb77a5227d79",
   "metadata": {},
   "outputs": [
    {
     "data": {
      "text/plain": [
       "maas              0.114847\n",
       "yas               0.031648\n",
       "çalışma suresi   -0.516599\n",
       "Name: atıl, dtype: float64"
      ]
     },
     "execution_count": 29,
     "metadata": {},
     "output_type": "execute_result"
    }
   ],
   "source": [
    "yeniDataFrame.loc[\"atıl\"] # etiket odaklı satır çekiyor"
   ]
  },
  {
   "cell_type": "code",
   "execution_count": 31,
   "id": "a909a014-969c-4700-95fa-304e20c3508f",
   "metadata": {},
   "outputs": [
    {
     "data": {
      "text/plain": [
       "maas              0.881913\n",
       "yas               0.436360\n",
       "çalışma suresi   -1.521546\n",
       "Name: atlas, dtype: float64"
      ]
     },
     "execution_count": 31,
     "metadata": {},
     "output_type": "execute_result"
    }
   ],
   "source": [
    "yeniDataFrame.iloc[2] # index odaklı satır çekiyor"
   ]
  },
  {
   "cell_type": "code",
   "execution_count": 33,
   "id": "c5fca22b-68f0-441d-a9b7-ccf275e7f960",
   "metadata": {},
   "outputs": [
    {
     "data": {
      "text/html": [
       "<div>\n",
       "<style scoped>\n",
       "    .dataframe tbody tr th:only-of-type {\n",
       "        vertical-align: middle;\n",
       "    }\n",
       "\n",
       "    .dataframe tbody tr th {\n",
       "        vertical-align: top;\n",
       "    }\n",
       "\n",
       "    .dataframe thead th {\n",
       "        text-align: right;\n",
       "    }\n",
       "</style>\n",
       "<table border=\"1\" class=\"dataframe\">\n",
       "  <thead>\n",
       "    <tr style=\"text-align: right;\">\n",
       "      <th></th>\n",
       "      <th>maas</th>\n",
       "      <th>yas</th>\n",
       "      <th>çalışma suresi</th>\n",
       "    </tr>\n",
       "  </thead>\n",
       "  <tbody>\n",
       "    <tr>\n",
       "      <th>zeynep</th>\n",
       "      <td>-0.787203</td>\n",
       "      <td>-1.639245</td>\n",
       "      <td>-0.545760</td>\n",
       "    </tr>\n",
       "    <tr>\n",
       "      <th>atlas</th>\n",
       "      <td>0.881913</td>\n",
       "      <td>0.436360</td>\n",
       "      <td>-1.521546</td>\n",
       "    </tr>\n",
       "  </tbody>\n",
       "</table>\n",
       "</div>"
      ],
      "text/plain": [
       "            maas       yas  çalışma suresi\n",
       "zeynep -0.787203 -1.639245       -0.545760\n",
       "atlas   0.881913  0.436360       -1.521546"
      ]
     },
     "execution_count": 33,
     "metadata": {},
     "output_type": "execute_result"
    }
   ],
   "source": [
    "yeniDataFrame.iloc[1:3] "
   ]
  },
  {
   "cell_type": "code",
   "execution_count": 35,
   "id": "5e670704-1235-4c60-83ef-8282b4236075",
   "metadata": {},
   "outputs": [
    {
     "data": {
      "text/html": [
       "<div>\n",
       "<style scoped>\n",
       "    .dataframe tbody tr th:only-of-type {\n",
       "        vertical-align: middle;\n",
       "    }\n",
       "\n",
       "    .dataframe tbody tr th {\n",
       "        vertical-align: top;\n",
       "    }\n",
       "\n",
       "    .dataframe thead th {\n",
       "        text-align: right;\n",
       "    }\n",
       "</style>\n",
       "<table border=\"1\" class=\"dataframe\">\n",
       "  <thead>\n",
       "    <tr style=\"text-align: right;\">\n",
       "      <th></th>\n",
       "      <th>maas</th>\n",
       "      <th>yas</th>\n",
       "      <th>çalışma suresi</th>\n",
       "    </tr>\n",
       "  </thead>\n",
       "  <tbody>\n",
       "    <tr>\n",
       "      <th>atıl</th>\n",
       "      <td>0.114847</td>\n",
       "      <td>0.031648</td>\n",
       "      <td>-0.516599</td>\n",
       "    </tr>\n",
       "    <tr>\n",
       "      <th>zeynep</th>\n",
       "      <td>-0.787203</td>\n",
       "      <td>-1.639245</td>\n",
       "      <td>-0.545760</td>\n",
       "    </tr>\n",
       "    <tr>\n",
       "      <th>atlas</th>\n",
       "      <td>0.881913</td>\n",
       "      <td>0.436360</td>\n",
       "      <td>-1.521546</td>\n",
       "    </tr>\n",
       "    <tr>\n",
       "      <th>mehmet</th>\n",
       "      <td>-0.501470</td>\n",
       "      <td>0.200335</td>\n",
       "      <td>-0.847458</td>\n",
       "    </tr>\n",
       "  </tbody>\n",
       "</table>\n",
       "</div>"
      ],
      "text/plain": [
       "            maas       yas  çalışma suresi\n",
       "atıl    0.114847  0.031648       -0.516599\n",
       "zeynep -0.787203 -1.639245       -0.545760\n",
       "atlas   0.881913  0.436360       -1.521546\n",
       "mehmet -0.501470  0.200335       -0.847458"
      ]
     },
     "execution_count": 35,
     "metadata": {},
     "output_type": "execute_result"
    }
   ],
   "source": [
    "yeniDataFrame"
   ]
  },
  {
   "cell_type": "code",
   "execution_count": 37,
   "id": "7161d9db-531a-47ef-b80e-ca3df36e99b6",
   "metadata": {},
   "outputs": [],
   "source": [
    "yeniDataFrame[\"emeklilik yası\"] = yeniDataFrame[\"yas\"] + yeniDataFrame[\"yas\"]"
   ]
  },
  {
   "cell_type": "code",
   "execution_count": 39,
   "id": "133df36b-c2cb-4c95-9331-e1f1965a140c",
   "metadata": {},
   "outputs": [
    {
     "data": {
      "text/html": [
       "<div>\n",
       "<style scoped>\n",
       "    .dataframe tbody tr th:only-of-type {\n",
       "        vertical-align: middle;\n",
       "    }\n",
       "\n",
       "    .dataframe tbody tr th {\n",
       "        vertical-align: top;\n",
       "    }\n",
       "\n",
       "    .dataframe thead th {\n",
       "        text-align: right;\n",
       "    }\n",
       "</style>\n",
       "<table border=\"1\" class=\"dataframe\">\n",
       "  <thead>\n",
       "    <tr style=\"text-align: right;\">\n",
       "      <th></th>\n",
       "      <th>maas</th>\n",
       "      <th>yas</th>\n",
       "      <th>çalışma suresi</th>\n",
       "      <th>emeklilik yası</th>\n",
       "    </tr>\n",
       "  </thead>\n",
       "  <tbody>\n",
       "    <tr>\n",
       "      <th>atıl</th>\n",
       "      <td>0.114847</td>\n",
       "      <td>0.031648</td>\n",
       "      <td>-0.516599</td>\n",
       "      <td>0.063296</td>\n",
       "    </tr>\n",
       "    <tr>\n",
       "      <th>zeynep</th>\n",
       "      <td>-0.787203</td>\n",
       "      <td>-1.639245</td>\n",
       "      <td>-0.545760</td>\n",
       "      <td>-3.278490</td>\n",
       "    </tr>\n",
       "    <tr>\n",
       "      <th>atlas</th>\n",
       "      <td>0.881913</td>\n",
       "      <td>0.436360</td>\n",
       "      <td>-1.521546</td>\n",
       "      <td>0.872721</td>\n",
       "    </tr>\n",
       "    <tr>\n",
       "      <th>mehmet</th>\n",
       "      <td>-0.501470</td>\n",
       "      <td>0.200335</td>\n",
       "      <td>-0.847458</td>\n",
       "      <td>0.400670</td>\n",
       "    </tr>\n",
       "  </tbody>\n",
       "</table>\n",
       "</div>"
      ],
      "text/plain": [
       "            maas       yas  çalışma suresi  emeklilik yası\n",
       "atıl    0.114847  0.031648       -0.516599        0.063296\n",
       "zeynep -0.787203 -1.639245       -0.545760       -3.278490\n",
       "atlas   0.881913  0.436360       -1.521546        0.872721\n",
       "mehmet -0.501470  0.200335       -0.847458        0.400670"
      ]
     },
     "execution_count": 39,
     "metadata": {},
     "output_type": "execute_result"
    }
   ],
   "source": [
    "yeniDataFrame"
   ]
  },
  {
   "cell_type": "code",
   "execution_count": 45,
   "id": "acf96e42-1116-4f5a-ae47-1c6c8c688d72",
   "metadata": {},
   "outputs": [
    {
     "data": {
      "text/html": [
       "<div>\n",
       "<style scoped>\n",
       "    .dataframe tbody tr th:only-of-type {\n",
       "        vertical-align: middle;\n",
       "    }\n",
       "\n",
       "    .dataframe tbody tr th {\n",
       "        vertical-align: top;\n",
       "    }\n",
       "\n",
       "    .dataframe thead th {\n",
       "        text-align: right;\n",
       "    }\n",
       "</style>\n",
       "<table border=\"1\" class=\"dataframe\">\n",
       "  <thead>\n",
       "    <tr style=\"text-align: right;\">\n",
       "      <th></th>\n",
       "      <th>maas</th>\n",
       "      <th>yas</th>\n",
       "      <th>emeklilik yası</th>\n",
       "    </tr>\n",
       "  </thead>\n",
       "  <tbody>\n",
       "    <tr>\n",
       "      <th>atıl</th>\n",
       "      <td>0.114847</td>\n",
       "      <td>0.031648</td>\n",
       "      <td>0.063296</td>\n",
       "    </tr>\n",
       "    <tr>\n",
       "      <th>zeynep</th>\n",
       "      <td>-0.787203</td>\n",
       "      <td>-1.639245</td>\n",
       "      <td>-3.278490</td>\n",
       "    </tr>\n",
       "    <tr>\n",
       "      <th>atlas</th>\n",
       "      <td>0.881913</td>\n",
       "      <td>0.436360</td>\n",
       "      <td>0.872721</td>\n",
       "    </tr>\n",
       "    <tr>\n",
       "      <th>mehmet</th>\n",
       "      <td>-0.501470</td>\n",
       "      <td>0.200335</td>\n",
       "      <td>0.400670</td>\n",
       "    </tr>\n",
       "  </tbody>\n",
       "</table>\n",
       "</div>"
      ],
      "text/plain": [
       "            maas       yas  emeklilik yası\n",
       "atıl    0.114847  0.031648        0.063296\n",
       "zeynep -0.787203 -1.639245       -3.278490\n",
       "atlas   0.881913  0.436360        0.872721\n",
       "mehmet -0.501470  0.200335        0.400670"
      ]
     },
     "execution_count": 45,
     "metadata": {},
     "output_type": "execute_result"
    }
   ],
   "source": [
    "yeniDataFrame.drop(\"çalışma suresi\", axis = 1) #sutün"
   ]
  },
  {
   "cell_type": "code",
   "execution_count": 47,
   "id": "4c027854-3f2d-43ea-b4e6-482627f1e963",
   "metadata": {},
   "outputs": [
    {
     "data": {
      "text/html": [
       "<div>\n",
       "<style scoped>\n",
       "    .dataframe tbody tr th:only-of-type {\n",
       "        vertical-align: middle;\n",
       "    }\n",
       "\n",
       "    .dataframe tbody tr th {\n",
       "        vertical-align: top;\n",
       "    }\n",
       "\n",
       "    .dataframe thead th {\n",
       "        text-align: right;\n",
       "    }\n",
       "</style>\n",
       "<table border=\"1\" class=\"dataframe\">\n",
       "  <thead>\n",
       "    <tr style=\"text-align: right;\">\n",
       "      <th></th>\n",
       "      <th>maas</th>\n",
       "      <th>yas</th>\n",
       "      <th>çalışma suresi</th>\n",
       "      <th>emeklilik yası</th>\n",
       "    </tr>\n",
       "  </thead>\n",
       "  <tbody>\n",
       "    <tr>\n",
       "      <th>atıl</th>\n",
       "      <td>0.114847</td>\n",
       "      <td>0.031648</td>\n",
       "      <td>-0.516599</td>\n",
       "      <td>0.063296</td>\n",
       "    </tr>\n",
       "    <tr>\n",
       "      <th>zeynep</th>\n",
       "      <td>-0.787203</td>\n",
       "      <td>-1.639245</td>\n",
       "      <td>-0.545760</td>\n",
       "      <td>-3.278490</td>\n",
       "    </tr>\n",
       "    <tr>\n",
       "      <th>atlas</th>\n",
       "      <td>0.881913</td>\n",
       "      <td>0.436360</td>\n",
       "      <td>-1.521546</td>\n",
       "      <td>0.872721</td>\n",
       "    </tr>\n",
       "  </tbody>\n",
       "</table>\n",
       "</div>"
      ],
      "text/plain": [
       "            maas       yas  çalışma suresi  emeklilik yası\n",
       "atıl    0.114847  0.031648       -0.516599        0.063296\n",
       "zeynep -0.787203 -1.639245       -0.545760       -3.278490\n",
       "atlas   0.881913  0.436360       -1.521546        0.872721"
      ]
     },
     "execution_count": 47,
     "metadata": {},
     "output_type": "execute_result"
    }
   ],
   "source": [
    "yeniDataFrame.drop(\"mehmet\", axis = 0) #satır"
   ]
  },
  {
   "cell_type": "code",
   "execution_count": 49,
   "id": "39b6ddd0-c843-4513-9992-ee3c9e9fbf25",
   "metadata": {},
   "outputs": [
    {
     "data": {
      "text/html": [
       "<div>\n",
       "<style scoped>\n",
       "    .dataframe tbody tr th:only-of-type {\n",
       "        vertical-align: middle;\n",
       "    }\n",
       "\n",
       "    .dataframe tbody tr th {\n",
       "        vertical-align: top;\n",
       "    }\n",
       "\n",
       "    .dataframe thead th {\n",
       "        text-align: right;\n",
       "    }\n",
       "</style>\n",
       "<table border=\"1\" class=\"dataframe\">\n",
       "  <thead>\n",
       "    <tr style=\"text-align: right;\">\n",
       "      <th></th>\n",
       "      <th>maas</th>\n",
       "      <th>yas</th>\n",
       "      <th>çalışma suresi</th>\n",
       "      <th>emeklilik yası</th>\n",
       "    </tr>\n",
       "  </thead>\n",
       "  <tbody>\n",
       "    <tr>\n",
       "      <th>atıl</th>\n",
       "      <td>0.114847</td>\n",
       "      <td>0.031648</td>\n",
       "      <td>-0.516599</td>\n",
       "      <td>0.063296</td>\n",
       "    </tr>\n",
       "    <tr>\n",
       "      <th>zeynep</th>\n",
       "      <td>-0.787203</td>\n",
       "      <td>-1.639245</td>\n",
       "      <td>-0.545760</td>\n",
       "      <td>-3.278490</td>\n",
       "    </tr>\n",
       "    <tr>\n",
       "      <th>atlas</th>\n",
       "      <td>0.881913</td>\n",
       "      <td>0.436360</td>\n",
       "      <td>-1.521546</td>\n",
       "      <td>0.872721</td>\n",
       "    </tr>\n",
       "    <tr>\n",
       "      <th>mehmet</th>\n",
       "      <td>-0.501470</td>\n",
       "      <td>0.200335</td>\n",
       "      <td>-0.847458</td>\n",
       "      <td>0.400670</td>\n",
       "    </tr>\n",
       "  </tbody>\n",
       "</table>\n",
       "</div>"
      ],
      "text/plain": [
       "            maas       yas  çalışma suresi  emeklilik yası\n",
       "atıl    0.114847  0.031648       -0.516599        0.063296\n",
       "zeynep -0.787203 -1.639245       -0.545760       -3.278490\n",
       "atlas   0.881913  0.436360       -1.521546        0.872721\n",
       "mehmet -0.501470  0.200335       -0.847458        0.400670"
      ]
     },
     "execution_count": 49,
     "metadata": {},
     "output_type": "execute_result"
    }
   ],
   "source": [
    "yeniDataFrame #hiç bir şey değişmedi , değişmesi için kaydetmen gerekiyor"
   ]
  },
  {
   "cell_type": "code",
   "execution_count": 51,
   "id": "f740e8ee-2ac1-4eed-924b-3fd73e3603f7",
   "metadata": {},
   "outputs": [],
   "source": [
    "yeniDataFrame.drop(\"emeklilik yası\", axis = 1, inplace = True) # inplace ile kaydediyor"
   ]
  },
  {
   "cell_type": "code",
   "execution_count": 53,
   "id": "618f232d-3711-4f64-801f-5ce8805b86ab",
   "metadata": {},
   "outputs": [
    {
     "data": {
      "text/html": [
       "<div>\n",
       "<style scoped>\n",
       "    .dataframe tbody tr th:only-of-type {\n",
       "        vertical-align: middle;\n",
       "    }\n",
       "\n",
       "    .dataframe tbody tr th {\n",
       "        vertical-align: top;\n",
       "    }\n",
       "\n",
       "    .dataframe thead th {\n",
       "        text-align: right;\n",
       "    }\n",
       "</style>\n",
       "<table border=\"1\" class=\"dataframe\">\n",
       "  <thead>\n",
       "    <tr style=\"text-align: right;\">\n",
       "      <th></th>\n",
       "      <th>maas</th>\n",
       "      <th>yas</th>\n",
       "      <th>çalışma suresi</th>\n",
       "    </tr>\n",
       "  </thead>\n",
       "  <tbody>\n",
       "    <tr>\n",
       "      <th>atıl</th>\n",
       "      <td>0.114847</td>\n",
       "      <td>0.031648</td>\n",
       "      <td>-0.516599</td>\n",
       "    </tr>\n",
       "    <tr>\n",
       "      <th>zeynep</th>\n",
       "      <td>-0.787203</td>\n",
       "      <td>-1.639245</td>\n",
       "      <td>-0.545760</td>\n",
       "    </tr>\n",
       "    <tr>\n",
       "      <th>atlas</th>\n",
       "      <td>0.881913</td>\n",
       "      <td>0.436360</td>\n",
       "      <td>-1.521546</td>\n",
       "    </tr>\n",
       "    <tr>\n",
       "      <th>mehmet</th>\n",
       "      <td>-0.501470</td>\n",
       "      <td>0.200335</td>\n",
       "      <td>-0.847458</td>\n",
       "    </tr>\n",
       "  </tbody>\n",
       "</table>\n",
       "</div>"
      ],
      "text/plain": [
       "            maas       yas  çalışma suresi\n",
       "atıl    0.114847  0.031648       -0.516599\n",
       "zeynep -0.787203 -1.639245       -0.545760\n",
       "atlas   0.881913  0.436360       -1.521546\n",
       "mehmet -0.501470  0.200335       -0.847458"
      ]
     },
     "execution_count": 53,
     "metadata": {},
     "output_type": "execute_result"
    }
   ],
   "source": [
    "yeniDataFrame"
   ]
  },
  {
   "cell_type": "code",
   "execution_count": 57,
   "id": "c7bc53c1-88c4-48a4-849c-73f790468612",
   "metadata": {},
   "outputs": [
    {
     "data": {
      "text/plain": [
       "maas              0.114847\n",
       "yas               0.031648\n",
       "çalışma suresi   -0.516599\n",
       "Name: atıl, dtype: float64"
      ]
     },
     "execution_count": 57,
     "metadata": {},
     "output_type": "execute_result"
    }
   ],
   "source": [
    "yeniDataFrame.loc[\"atıl\"]"
   ]
  },
  {
   "cell_type": "code",
   "execution_count": 59,
   "id": "60aad2af-526a-4d7a-8c84-31b42434decf",
   "metadata": {},
   "outputs": [
    {
     "data": {
      "text/plain": [
       "0.11484665515289286"
      ]
     },
     "execution_count": 59,
     "metadata": {},
     "output_type": "execute_result"
    }
   ],
   "source": [
    "yeniDataFrame.loc[\"atıl\"][\"maas\"]"
   ]
  },
  {
   "cell_type": "code",
   "execution_count": 63,
   "id": "feb8be0d-3a63-4673-838c-1e1d3253e71e",
   "metadata": {},
   "outputs": [
    {
     "data": {
      "text/plain": [
       "0.43636041038536005"
      ]
     },
     "execution_count": 63,
     "metadata": {},
     "output_type": "execute_result"
    }
   ],
   "source": [
    "yeniDataFrame.loc[\"atlas\",\"yas\"]"
   ]
  },
  {
   "cell_type": "code",
   "execution_count": 65,
   "id": "5a33dc78-ffee-4baa-b466-73eba632c409",
   "metadata": {},
   "outputs": [
    {
     "data": {
      "text/html": [
       "<div>\n",
       "<style scoped>\n",
       "    .dataframe tbody tr th:only-of-type {\n",
       "        vertical-align: middle;\n",
       "    }\n",
       "\n",
       "    .dataframe tbody tr th {\n",
       "        vertical-align: top;\n",
       "    }\n",
       "\n",
       "    .dataframe thead th {\n",
       "        text-align: right;\n",
       "    }\n",
       "</style>\n",
       "<table border=\"1\" class=\"dataframe\">\n",
       "  <thead>\n",
       "    <tr style=\"text-align: right;\">\n",
       "      <th></th>\n",
       "      <th>maas</th>\n",
       "      <th>yas</th>\n",
       "      <th>çalışma suresi</th>\n",
       "    </tr>\n",
       "  </thead>\n",
       "  <tbody>\n",
       "    <tr>\n",
       "      <th>atıl</th>\n",
       "      <td>0.114847</td>\n",
       "      <td>0.031648</td>\n",
       "      <td>-0.516599</td>\n",
       "    </tr>\n",
       "    <tr>\n",
       "      <th>zeynep</th>\n",
       "      <td>-0.787203</td>\n",
       "      <td>-1.639245</td>\n",
       "      <td>-0.545760</td>\n",
       "    </tr>\n",
       "    <tr>\n",
       "      <th>atlas</th>\n",
       "      <td>0.881913</td>\n",
       "      <td>0.436360</td>\n",
       "      <td>-1.521546</td>\n",
       "    </tr>\n",
       "    <tr>\n",
       "      <th>mehmet</th>\n",
       "      <td>-0.501470</td>\n",
       "      <td>0.200335</td>\n",
       "      <td>-0.847458</td>\n",
       "    </tr>\n",
       "  </tbody>\n",
       "</table>\n",
       "</div>"
      ],
      "text/plain": [
       "            maas       yas  çalışma suresi\n",
       "atıl    0.114847  0.031648       -0.516599\n",
       "zeynep -0.787203 -1.639245       -0.545760\n",
       "atlas   0.881913  0.436360       -1.521546\n",
       "mehmet -0.501470  0.200335       -0.847458"
      ]
     },
     "execution_count": 65,
     "metadata": {},
     "output_type": "execute_result"
    }
   ],
   "source": [
    "yeniDataFrame"
   ]
  },
  {
   "cell_type": "code",
   "execution_count": 69,
   "id": "8abd53f1-8605-48dc-8485-82dca99412bb",
   "metadata": {},
   "outputs": [],
   "source": [
    "booleanFrame = yeniDataFrame < 0 "
   ]
  },
  {
   "cell_type": "code",
   "execution_count": 71,
   "id": "6458c35b-de73-487e-a38f-1431c9d25900",
   "metadata": {},
   "outputs": [
    {
     "data": {
      "text/html": [
       "<div>\n",
       "<style scoped>\n",
       "    .dataframe tbody tr th:only-of-type {\n",
       "        vertical-align: middle;\n",
       "    }\n",
       "\n",
       "    .dataframe tbody tr th {\n",
       "        vertical-align: top;\n",
       "    }\n",
       "\n",
       "    .dataframe thead th {\n",
       "        text-align: right;\n",
       "    }\n",
       "</style>\n",
       "<table border=\"1\" class=\"dataframe\">\n",
       "  <thead>\n",
       "    <tr style=\"text-align: right;\">\n",
       "      <th></th>\n",
       "      <th>maas</th>\n",
       "      <th>yas</th>\n",
       "      <th>çalışma suresi</th>\n",
       "    </tr>\n",
       "  </thead>\n",
       "  <tbody>\n",
       "    <tr>\n",
       "      <th>atıl</th>\n",
       "      <td>False</td>\n",
       "      <td>False</td>\n",
       "      <td>True</td>\n",
       "    </tr>\n",
       "    <tr>\n",
       "      <th>zeynep</th>\n",
       "      <td>True</td>\n",
       "      <td>True</td>\n",
       "      <td>True</td>\n",
       "    </tr>\n",
       "    <tr>\n",
       "      <th>atlas</th>\n",
       "      <td>False</td>\n",
       "      <td>False</td>\n",
       "      <td>True</td>\n",
       "    </tr>\n",
       "    <tr>\n",
       "      <th>mehmet</th>\n",
       "      <td>True</td>\n",
       "      <td>False</td>\n",
       "      <td>True</td>\n",
       "    </tr>\n",
       "  </tbody>\n",
       "</table>\n",
       "</div>"
      ],
      "text/plain": [
       "         maas    yas  çalışma suresi\n",
       "atıl    False  False            True\n",
       "zeynep   True   True            True\n",
       "atlas   False  False            True\n",
       "mehmet   True  False            True"
      ]
     },
     "execution_count": 71,
     "metadata": {},
     "output_type": "execute_result"
    }
   ],
   "source": [
    "booleanFrame"
   ]
  },
  {
   "cell_type": "code",
   "execution_count": 73,
   "id": "77dfd845-c435-4e79-aec6-30a460f0b398",
   "metadata": {},
   "outputs": [
    {
     "data": {
      "text/html": [
       "<div>\n",
       "<style scoped>\n",
       "    .dataframe tbody tr th:only-of-type {\n",
       "        vertical-align: middle;\n",
       "    }\n",
       "\n",
       "    .dataframe tbody tr th {\n",
       "        vertical-align: top;\n",
       "    }\n",
       "\n",
       "    .dataframe thead th {\n",
       "        text-align: right;\n",
       "    }\n",
       "</style>\n",
       "<table border=\"1\" class=\"dataframe\">\n",
       "  <thead>\n",
       "    <tr style=\"text-align: right;\">\n",
       "      <th></th>\n",
       "      <th>maas</th>\n",
       "      <th>yas</th>\n",
       "      <th>çalışma suresi</th>\n",
       "    </tr>\n",
       "  </thead>\n",
       "  <tbody>\n",
       "    <tr>\n",
       "      <th>atıl</th>\n",
       "      <td>NaN</td>\n",
       "      <td>NaN</td>\n",
       "      <td>-0.516599</td>\n",
       "    </tr>\n",
       "    <tr>\n",
       "      <th>zeynep</th>\n",
       "      <td>-0.787203</td>\n",
       "      <td>-1.639245</td>\n",
       "      <td>-0.545760</td>\n",
       "    </tr>\n",
       "    <tr>\n",
       "      <th>atlas</th>\n",
       "      <td>NaN</td>\n",
       "      <td>NaN</td>\n",
       "      <td>-1.521546</td>\n",
       "    </tr>\n",
       "    <tr>\n",
       "      <th>mehmet</th>\n",
       "      <td>-0.501470</td>\n",
       "      <td>NaN</td>\n",
       "      <td>-0.847458</td>\n",
       "    </tr>\n",
       "  </tbody>\n",
       "</table>\n",
       "</div>"
      ],
      "text/plain": [
       "            maas       yas  çalışma suresi\n",
       "atıl         NaN       NaN       -0.516599\n",
       "zeynep -0.787203 -1.639245       -0.545760\n",
       "atlas        NaN       NaN       -1.521546\n",
       "mehmet -0.501470       NaN       -0.847458"
      ]
     },
     "execution_count": 73,
     "metadata": {},
     "output_type": "execute_result"
    }
   ],
   "source": [
    "yeniDataFrame[booleanFrame]"
   ]
  },
  {
   "cell_type": "code",
   "execution_count": 75,
   "id": "8a46dea4-53d6-478f-993d-b651b4aacb1d",
   "metadata": {},
   "outputs": [
    {
     "data": {
      "text/html": [
       "<div>\n",
       "<style scoped>\n",
       "    .dataframe tbody tr th:only-of-type {\n",
       "        vertical-align: middle;\n",
       "    }\n",
       "\n",
       "    .dataframe tbody tr th {\n",
       "        vertical-align: top;\n",
       "    }\n",
       "\n",
       "    .dataframe thead th {\n",
       "        text-align: right;\n",
       "    }\n",
       "</style>\n",
       "<table border=\"1\" class=\"dataframe\">\n",
       "  <thead>\n",
       "    <tr style=\"text-align: right;\">\n",
       "      <th></th>\n",
       "      <th>maas</th>\n",
       "      <th>yas</th>\n",
       "      <th>çalışma suresi</th>\n",
       "    </tr>\n",
       "  </thead>\n",
       "  <tbody>\n",
       "    <tr>\n",
       "      <th>atıl</th>\n",
       "      <td>NaN</td>\n",
       "      <td>NaN</td>\n",
       "      <td>-0.516599</td>\n",
       "    </tr>\n",
       "    <tr>\n",
       "      <th>zeynep</th>\n",
       "      <td>-0.787203</td>\n",
       "      <td>-1.639245</td>\n",
       "      <td>-0.545760</td>\n",
       "    </tr>\n",
       "    <tr>\n",
       "      <th>atlas</th>\n",
       "      <td>NaN</td>\n",
       "      <td>NaN</td>\n",
       "      <td>-1.521546</td>\n",
       "    </tr>\n",
       "    <tr>\n",
       "      <th>mehmet</th>\n",
       "      <td>-0.501470</td>\n",
       "      <td>NaN</td>\n",
       "      <td>-0.847458</td>\n",
       "    </tr>\n",
       "  </tbody>\n",
       "</table>\n",
       "</div>"
      ],
      "text/plain": [
       "            maas       yas  çalışma suresi\n",
       "atıl         NaN       NaN       -0.516599\n",
       "zeynep -0.787203 -1.639245       -0.545760\n",
       "atlas        NaN       NaN       -1.521546\n",
       "mehmet -0.501470       NaN       -0.847458"
      ]
     },
     "execution_count": 75,
     "metadata": {},
     "output_type": "execute_result"
    }
   ],
   "source": [
    "yeniDataFrame[yeniDataFrame < 0 ]"
   ]
  },
  {
   "cell_type": "code",
   "execution_count": 79,
   "id": "14f2a2a8-ac7f-4cba-8a42-e1b640570b86",
   "metadata": {},
   "outputs": [
    {
     "data": {
      "text/plain": [
       "atıl       True\n",
       "zeynep    False\n",
       "atlas      True\n",
       "mehmet     True\n",
       "Name: yas, dtype: bool"
      ]
     },
     "execution_count": 79,
     "metadata": {},
     "output_type": "execute_result"
    }
   ],
   "source": [
    "yeniDataFrame[\"yas\"] > 0"
   ]
  },
  {
   "cell_type": "code",
   "execution_count": 81,
   "id": "6b9d46d1-0033-4ea1-abc1-2af14b78651c",
   "metadata": {},
   "outputs": [
    {
     "data": {
      "text/html": [
       "<div>\n",
       "<style scoped>\n",
       "    .dataframe tbody tr th:only-of-type {\n",
       "        vertical-align: middle;\n",
       "    }\n",
       "\n",
       "    .dataframe tbody tr th {\n",
       "        vertical-align: top;\n",
       "    }\n",
       "\n",
       "    .dataframe thead th {\n",
       "        text-align: right;\n",
       "    }\n",
       "</style>\n",
       "<table border=\"1\" class=\"dataframe\">\n",
       "  <thead>\n",
       "    <tr style=\"text-align: right;\">\n",
       "      <th></th>\n",
       "      <th>maas</th>\n",
       "      <th>yas</th>\n",
       "      <th>çalışma suresi</th>\n",
       "    </tr>\n",
       "  </thead>\n",
       "  <tbody>\n",
       "    <tr>\n",
       "      <th>atıl</th>\n",
       "      <td>0.114847</td>\n",
       "      <td>0.031648</td>\n",
       "      <td>-0.516599</td>\n",
       "    </tr>\n",
       "    <tr>\n",
       "      <th>atlas</th>\n",
       "      <td>0.881913</td>\n",
       "      <td>0.436360</td>\n",
       "      <td>-1.521546</td>\n",
       "    </tr>\n",
       "    <tr>\n",
       "      <th>mehmet</th>\n",
       "      <td>-0.501470</td>\n",
       "      <td>0.200335</td>\n",
       "      <td>-0.847458</td>\n",
       "    </tr>\n",
       "  </tbody>\n",
       "</table>\n",
       "</div>"
      ],
      "text/plain": [
       "            maas       yas  çalışma suresi\n",
       "atıl    0.114847  0.031648       -0.516599\n",
       "atlas   0.881913  0.436360       -1.521546\n",
       "mehmet -0.501470  0.200335       -0.847458"
      ]
     },
     "execution_count": 81,
     "metadata": {},
     "output_type": "execute_result"
    }
   ],
   "source": [
    "yeniDataFrame[yeniDataFrame[\"yas\"] > 0]"
   ]
  },
  {
   "cell_type": "code",
   "execution_count": 83,
   "id": "9062684b-425c-4855-9d16-72ebee6025e1",
   "metadata": {},
   "outputs": [
    {
     "data": {
      "text/html": [
       "<div>\n",
       "<style scoped>\n",
       "    .dataframe tbody tr th:only-of-type {\n",
       "        vertical-align: middle;\n",
       "    }\n",
       "\n",
       "    .dataframe tbody tr th {\n",
       "        vertical-align: top;\n",
       "    }\n",
       "\n",
       "    .dataframe thead th {\n",
       "        text-align: right;\n",
       "    }\n",
       "</style>\n",
       "<table border=\"1\" class=\"dataframe\">\n",
       "  <thead>\n",
       "    <tr style=\"text-align: right;\">\n",
       "      <th></th>\n",
       "      <th>maas</th>\n",
       "      <th>yas</th>\n",
       "      <th>çalışma suresi</th>\n",
       "    </tr>\n",
       "  </thead>\n",
       "  <tbody>\n",
       "    <tr>\n",
       "      <th>atıl</th>\n",
       "      <td>0.114847</td>\n",
       "      <td>0.031648</td>\n",
       "      <td>-0.516599</td>\n",
       "    </tr>\n",
       "    <tr>\n",
       "      <th>zeynep</th>\n",
       "      <td>-0.787203</td>\n",
       "      <td>-1.639245</td>\n",
       "      <td>-0.545760</td>\n",
       "    </tr>\n",
       "    <tr>\n",
       "      <th>atlas</th>\n",
       "      <td>0.881913</td>\n",
       "      <td>0.436360</td>\n",
       "      <td>-1.521546</td>\n",
       "    </tr>\n",
       "    <tr>\n",
       "      <th>mehmet</th>\n",
       "      <td>-0.501470</td>\n",
       "      <td>0.200335</td>\n",
       "      <td>-0.847458</td>\n",
       "    </tr>\n",
       "  </tbody>\n",
       "</table>\n",
       "</div>"
      ],
      "text/plain": [
       "            maas       yas  çalışma suresi\n",
       "atıl    0.114847  0.031648       -0.516599\n",
       "zeynep -0.787203 -1.639245       -0.545760\n",
       "atlas   0.881913  0.436360       -1.521546\n",
       "mehmet -0.501470  0.200335       -0.847458"
      ]
     },
     "execution_count": 83,
     "metadata": {},
     "output_type": "execute_result"
    }
   ],
   "source": [
    "yeniDataFrame"
   ]
  },
  {
   "cell_type": "code",
   "execution_count": 87,
   "id": "ab46962e-ad97-41b3-9566-31c9777c071d",
   "metadata": {},
   "outputs": [],
   "source": [
    "yeniDataFrame.reset_index(inplace = True)"
   ]
  },
  {
   "cell_type": "code",
   "execution_count": 89,
   "id": "7767007c-5513-400f-919b-ade168f1afda",
   "metadata": {},
   "outputs": [
    {
     "data": {
      "text/html": [
       "<div>\n",
       "<style scoped>\n",
       "    .dataframe tbody tr th:only-of-type {\n",
       "        vertical-align: middle;\n",
       "    }\n",
       "\n",
       "    .dataframe tbody tr th {\n",
       "        vertical-align: top;\n",
       "    }\n",
       "\n",
       "    .dataframe thead th {\n",
       "        text-align: right;\n",
       "    }\n",
       "</style>\n",
       "<table border=\"1\" class=\"dataframe\">\n",
       "  <thead>\n",
       "    <tr style=\"text-align: right;\">\n",
       "      <th></th>\n",
       "      <th>index</th>\n",
       "      <th>maas</th>\n",
       "      <th>yas</th>\n",
       "      <th>çalışma suresi</th>\n",
       "    </tr>\n",
       "  </thead>\n",
       "  <tbody>\n",
       "    <tr>\n",
       "      <th>0</th>\n",
       "      <td>atıl</td>\n",
       "      <td>0.114847</td>\n",
       "      <td>0.031648</td>\n",
       "      <td>-0.516599</td>\n",
       "    </tr>\n",
       "    <tr>\n",
       "      <th>1</th>\n",
       "      <td>zeynep</td>\n",
       "      <td>-0.787203</td>\n",
       "      <td>-1.639245</td>\n",
       "      <td>-0.545760</td>\n",
       "    </tr>\n",
       "    <tr>\n",
       "      <th>2</th>\n",
       "      <td>atlas</td>\n",
       "      <td>0.881913</td>\n",
       "      <td>0.436360</td>\n",
       "      <td>-1.521546</td>\n",
       "    </tr>\n",
       "    <tr>\n",
       "      <th>3</th>\n",
       "      <td>mehmet</td>\n",
       "      <td>-0.501470</td>\n",
       "      <td>0.200335</td>\n",
       "      <td>-0.847458</td>\n",
       "    </tr>\n",
       "  </tbody>\n",
       "</table>\n",
       "</div>"
      ],
      "text/plain": [
       "    index      maas       yas  çalışma suresi\n",
       "0    atıl  0.114847  0.031648       -0.516599\n",
       "1  zeynep -0.787203 -1.639245       -0.545760\n",
       "2   atlas  0.881913  0.436360       -1.521546\n",
       "3  mehmet -0.501470  0.200335       -0.847458"
      ]
     },
     "execution_count": 89,
     "metadata": {},
     "output_type": "execute_result"
    }
   ],
   "source": [
    "yeniDataFrame"
   ]
  },
  {
   "cell_type": "code",
   "execution_count": 91,
   "id": "08e0f0a8-f030-4f16-9189-598f934f1c99",
   "metadata": {},
   "outputs": [],
   "source": [
    "yeniIndexList = [\"Ati\",\"Zey\",\"Atl\",\"Meh\"]"
   ]
  },
  {
   "cell_type": "code",
   "execution_count": 93,
   "id": "90999bfa-11d6-48a7-8db8-ebfa407d30f9",
   "metadata": {},
   "outputs": [],
   "source": [
    "yeniDataFrame[\"Yeni Index\"] = yeniIndexList"
   ]
  },
  {
   "cell_type": "code",
   "execution_count": 95,
   "id": "5ef348e0-e8e6-4654-9a26-fbf91efc4c89",
   "metadata": {},
   "outputs": [
    {
     "data": {
      "text/html": [
       "<div>\n",
       "<style scoped>\n",
       "    .dataframe tbody tr th:only-of-type {\n",
       "        vertical-align: middle;\n",
       "    }\n",
       "\n",
       "    .dataframe tbody tr th {\n",
       "        vertical-align: top;\n",
       "    }\n",
       "\n",
       "    .dataframe thead th {\n",
       "        text-align: right;\n",
       "    }\n",
       "</style>\n",
       "<table border=\"1\" class=\"dataframe\">\n",
       "  <thead>\n",
       "    <tr style=\"text-align: right;\">\n",
       "      <th></th>\n",
       "      <th>index</th>\n",
       "      <th>maas</th>\n",
       "      <th>yas</th>\n",
       "      <th>çalışma suresi</th>\n",
       "      <th>Yeni Index</th>\n",
       "    </tr>\n",
       "  </thead>\n",
       "  <tbody>\n",
       "    <tr>\n",
       "      <th>0</th>\n",
       "      <td>atıl</td>\n",
       "      <td>0.114847</td>\n",
       "      <td>0.031648</td>\n",
       "      <td>-0.516599</td>\n",
       "      <td>Ati</td>\n",
       "    </tr>\n",
       "    <tr>\n",
       "      <th>1</th>\n",
       "      <td>zeynep</td>\n",
       "      <td>-0.787203</td>\n",
       "      <td>-1.639245</td>\n",
       "      <td>-0.545760</td>\n",
       "      <td>Zey</td>\n",
       "    </tr>\n",
       "    <tr>\n",
       "      <th>2</th>\n",
       "      <td>atlas</td>\n",
       "      <td>0.881913</td>\n",
       "      <td>0.436360</td>\n",
       "      <td>-1.521546</td>\n",
       "      <td>Atl</td>\n",
       "    </tr>\n",
       "    <tr>\n",
       "      <th>3</th>\n",
       "      <td>mehmet</td>\n",
       "      <td>-0.501470</td>\n",
       "      <td>0.200335</td>\n",
       "      <td>-0.847458</td>\n",
       "      <td>Meh</td>\n",
       "    </tr>\n",
       "  </tbody>\n",
       "</table>\n",
       "</div>"
      ],
      "text/plain": [
       "    index      maas       yas  çalışma suresi Yeni Index\n",
       "0    atıl  0.114847  0.031648       -0.516599        Ati\n",
       "1  zeynep -0.787203 -1.639245       -0.545760        Zey\n",
       "2   atlas  0.881913  0.436360       -1.521546        Atl\n",
       "3  mehmet -0.501470  0.200335       -0.847458        Meh"
      ]
     },
     "execution_count": 95,
     "metadata": {},
     "output_type": "execute_result"
    }
   ],
   "source": [
    "yeniDataFrame"
   ]
  },
  {
   "cell_type": "code",
   "execution_count": 99,
   "id": "4e6e9eeb-bf12-4efb-94e0-111cc0379ade",
   "metadata": {},
   "outputs": [],
   "source": [
    "yeniDataFrame.set_index(\"Yeni Index\" , inplace = True)"
   ]
  },
  {
   "cell_type": "code",
   "execution_count": 101,
   "id": "3bd5a62d-da86-4482-9037-66c9af487f70",
   "metadata": {},
   "outputs": [
    {
     "data": {
      "text/html": [
       "<div>\n",
       "<style scoped>\n",
       "    .dataframe tbody tr th:only-of-type {\n",
       "        vertical-align: middle;\n",
       "    }\n",
       "\n",
       "    .dataframe tbody tr th {\n",
       "        vertical-align: top;\n",
       "    }\n",
       "\n",
       "    .dataframe thead th {\n",
       "        text-align: right;\n",
       "    }\n",
       "</style>\n",
       "<table border=\"1\" class=\"dataframe\">\n",
       "  <thead>\n",
       "    <tr style=\"text-align: right;\">\n",
       "      <th></th>\n",
       "      <th>index</th>\n",
       "      <th>maas</th>\n",
       "      <th>yas</th>\n",
       "      <th>çalışma suresi</th>\n",
       "    </tr>\n",
       "    <tr>\n",
       "      <th>Yeni Index</th>\n",
       "      <th></th>\n",
       "      <th></th>\n",
       "      <th></th>\n",
       "      <th></th>\n",
       "    </tr>\n",
       "  </thead>\n",
       "  <tbody>\n",
       "    <tr>\n",
       "      <th>Ati</th>\n",
       "      <td>atıl</td>\n",
       "      <td>0.114847</td>\n",
       "      <td>0.031648</td>\n",
       "      <td>-0.516599</td>\n",
       "    </tr>\n",
       "    <tr>\n",
       "      <th>Zey</th>\n",
       "      <td>zeynep</td>\n",
       "      <td>-0.787203</td>\n",
       "      <td>-1.639245</td>\n",
       "      <td>-0.545760</td>\n",
       "    </tr>\n",
       "    <tr>\n",
       "      <th>Atl</th>\n",
       "      <td>atlas</td>\n",
       "      <td>0.881913</td>\n",
       "      <td>0.436360</td>\n",
       "      <td>-1.521546</td>\n",
       "    </tr>\n",
       "    <tr>\n",
       "      <th>Meh</th>\n",
       "      <td>mehmet</td>\n",
       "      <td>-0.501470</td>\n",
       "      <td>0.200335</td>\n",
       "      <td>-0.847458</td>\n",
       "    </tr>\n",
       "  </tbody>\n",
       "</table>\n",
       "</div>"
      ],
      "text/plain": [
       "             index      maas       yas  çalışma suresi\n",
       "Yeni Index                                            \n",
       "Ati           atıl  0.114847  0.031648       -0.516599\n",
       "Zey         zeynep -0.787203 -1.639245       -0.545760\n",
       "Atl          atlas  0.881913  0.436360       -1.521546\n",
       "Meh         mehmet -0.501470  0.200335       -0.847458"
      ]
     },
     "execution_count": 101,
     "metadata": {},
     "output_type": "execute_result"
    }
   ],
   "source": [
    "yeniDataFrame"
   ]
  },
  {
   "cell_type": "code",
   "execution_count": 103,
   "id": "aac54c48-ab62-4249-a8a8-c5fd002214b1",
   "metadata": {},
   "outputs": [
    {
     "data": {
      "text/plain": [
       "index                 atıl\n",
       "maas              0.114847\n",
       "yas               0.031648\n",
       "çalışma suresi   -0.516599\n",
       "Name: Ati, dtype: object"
      ]
     },
     "execution_count": 103,
     "metadata": {},
     "output_type": "execute_result"
    }
   ],
   "source": [
    "yeniDataFrame.loc[\"Ati\"]"
   ]
  },
  {
   "cell_type": "markdown",
   "id": "bd96cc1f-2a12-4b4c-a25f-5a6676ec4df8",
   "metadata": {},
   "source": [
    "## Multi index"
   ]
  },
  {
   "cell_type": "code",
   "execution_count": 110,
   "id": "1697dfbd-c271-43b7-bcd4-a34c0e30251d",
   "metadata": {},
   "outputs": [],
   "source": [
    "ilkIndeksler = [\"Simpson\",\"Simpson\",\"Simpson\",\"South Park\",\"South Park\",\"South Park\"]"
   ]
  },
  {
   "cell_type": "code",
   "execution_count": 112,
   "id": "43dee6a3-ceb9-458e-8211-98e1de1a0756",
   "metadata": {},
   "outputs": [],
   "source": [
    "icIndeksler = [\"Homer\",\"Bart\",\"Marge\",\"Cartman\",\"Kenny\",\"Kyle\"]"
   ]
  },
  {
   "cell_type": "code",
   "execution_count": 114,
   "id": "f8391aaa-5b67-48c0-90b7-34839baa54c8",
   "metadata": {},
   "outputs": [],
   "source": [
    "birlesmisIndex = list(zip(ilkIndeksler,icIndeksler))"
   ]
  },
  {
   "cell_type": "code",
   "execution_count": 116,
   "id": "174ad6a2-b5de-4057-9031-19d052b58232",
   "metadata": {},
   "outputs": [
    {
     "data": {
      "text/plain": [
       "[('Simpson', 'Homer'),\n",
       " ('Simpson', 'Bart'),\n",
       " ('Simpson', 'Marge'),\n",
       " ('South Park', 'Cartman'),\n",
       " ('South Park', 'Kenny'),\n",
       " ('South Park', 'Kyle')]"
      ]
     },
     "execution_count": 116,
     "metadata": {},
     "output_type": "execute_result"
    }
   ],
   "source": [
    "birlesmisIndex"
   ]
  },
  {
   "cell_type": "code",
   "execution_count": 118,
   "id": "2ca2a6b2-1dd3-46cc-834a-489c63d6df91",
   "metadata": {},
   "outputs": [],
   "source": [
    "birlesmisIndex = pd.MultiIndex.from_tuples(birlesmisIndex) "
   ]
  },
  {
   "cell_type": "code",
   "execution_count": 120,
   "id": "d3cedc61-e4f0-4d28-bec7-2b31dba91e0f",
   "metadata": {},
   "outputs": [
    {
     "data": {
      "text/plain": [
       "MultiIndex([(   'Simpson',   'Homer'),\n",
       "            (   'Simpson',    'Bart'),\n",
       "            (   'Simpson',   'Marge'),\n",
       "            ('South Park', 'Cartman'),\n",
       "            ('South Park',   'Kenny'),\n",
       "            ('South Park',    'Kyle')],\n",
       "           )"
      ]
     },
     "execution_count": 120,
     "metadata": {},
     "output_type": "execute_result"
    }
   ],
   "source": [
    "birlesmisIndex"
   ]
  },
  {
   "cell_type": "code",
   "execution_count": 122,
   "id": "c0cd2948-db7e-415e-b8b3-5a1181c02ba4",
   "metadata": {},
   "outputs": [
    {
     "data": {
      "text/plain": [
       "pandas.core.indexes.multi.MultiIndex"
      ]
     },
     "execution_count": 122,
     "metadata": {},
     "output_type": "execute_result"
    }
   ],
   "source": [
    "type(birlesmisIndex)"
   ]
  },
  {
   "cell_type": "code",
   "execution_count": 124,
   "id": "4a7fbca7-14ce-401c-9621-c42ad912e719",
   "metadata": {},
   "outputs": [],
   "source": [
    "benimCizgiList = [[40,\"A\"],[30,\"B\"],[9,\"C\"],[32,\"D\"],[12,\"E\"],[876,\"F\"]]"
   ]
  },
  {
   "cell_type": "code",
   "execution_count": 126,
   "id": "9a299594-7034-4c96-b299-7cfaee652589",
   "metadata": {},
   "outputs": [],
   "source": [
    "cizginumpydizi = np.array(benimCizgiList)"
   ]
  },
  {
   "cell_type": "code",
   "execution_count": 128,
   "id": "4867ab37-8bd5-4a89-9ed2-7ce51ad222ed",
   "metadata": {},
   "outputs": [
    {
     "data": {
      "text/plain": [
       "array([['40', 'A'],\n",
       "       ['30', 'B'],\n",
       "       ['9', 'C'],\n",
       "       ['32', 'D'],\n",
       "       ['12', 'E'],\n",
       "       ['876', 'F']], dtype='<U21')"
      ]
     },
     "execution_count": 128,
     "metadata": {},
     "output_type": "execute_result"
    }
   ],
   "source": [
    "cizginumpydizi"
   ]
  },
  {
   "cell_type": "code",
   "execution_count": 132,
   "id": "2884ce8c-7abf-40a6-a981-6deed20ede79",
   "metadata": {},
   "outputs": [],
   "source": [
    "cizgiDataFrame = pd.DataFrame(cizginumpydizi,birlesmisIndex,columns = [\"yas\",\"meslek\"])"
   ]
  },
  {
   "cell_type": "code",
   "execution_count": 134,
   "id": "71004cc3-0ece-4a3f-8c7c-6292aa27324b",
   "metadata": {},
   "outputs": [
    {
     "data": {
      "text/html": [
       "<div>\n",
       "<style scoped>\n",
       "    .dataframe tbody tr th:only-of-type {\n",
       "        vertical-align: middle;\n",
       "    }\n",
       "\n",
       "    .dataframe tbody tr th {\n",
       "        vertical-align: top;\n",
       "    }\n",
       "\n",
       "    .dataframe thead th {\n",
       "        text-align: right;\n",
       "    }\n",
       "</style>\n",
       "<table border=\"1\" class=\"dataframe\">\n",
       "  <thead>\n",
       "    <tr style=\"text-align: right;\">\n",
       "      <th></th>\n",
       "      <th></th>\n",
       "      <th>yas</th>\n",
       "      <th>meslek</th>\n",
       "    </tr>\n",
       "  </thead>\n",
       "  <tbody>\n",
       "    <tr>\n",
       "      <th rowspan=\"3\" valign=\"top\">Simpson</th>\n",
       "      <th>Homer</th>\n",
       "      <td>40</td>\n",
       "      <td>A</td>\n",
       "    </tr>\n",
       "    <tr>\n",
       "      <th>Bart</th>\n",
       "      <td>30</td>\n",
       "      <td>B</td>\n",
       "    </tr>\n",
       "    <tr>\n",
       "      <th>Marge</th>\n",
       "      <td>9</td>\n",
       "      <td>C</td>\n",
       "    </tr>\n",
       "    <tr>\n",
       "      <th rowspan=\"3\" valign=\"top\">South Park</th>\n",
       "      <th>Cartman</th>\n",
       "      <td>32</td>\n",
       "      <td>D</td>\n",
       "    </tr>\n",
       "    <tr>\n",
       "      <th>Kenny</th>\n",
       "      <td>12</td>\n",
       "      <td>E</td>\n",
       "    </tr>\n",
       "    <tr>\n",
       "      <th>Kyle</th>\n",
       "      <td>876</td>\n",
       "      <td>F</td>\n",
       "    </tr>\n",
       "  </tbody>\n",
       "</table>\n",
       "</div>"
      ],
      "text/plain": [
       "                    yas meslek\n",
       "Simpson    Homer     40      A\n",
       "           Bart      30      B\n",
       "           Marge      9      C\n",
       "South Park Cartman   32      D\n",
       "           Kenny     12      E\n",
       "           Kyle     876      F"
      ]
     },
     "execution_count": 134,
     "metadata": {},
     "output_type": "execute_result"
    }
   ],
   "source": [
    "cizgiDataFrame"
   ]
  },
  {
   "cell_type": "code",
   "execution_count": 136,
   "id": "ef5a29d3-e156-4504-bc16-a2ecdb778bcc",
   "metadata": {},
   "outputs": [
    {
     "data": {
      "text/html": [
       "<div>\n",
       "<style scoped>\n",
       "    .dataframe tbody tr th:only-of-type {\n",
       "        vertical-align: middle;\n",
       "    }\n",
       "\n",
       "    .dataframe tbody tr th {\n",
       "        vertical-align: top;\n",
       "    }\n",
       "\n",
       "    .dataframe thead th {\n",
       "        text-align: right;\n",
       "    }\n",
       "</style>\n",
       "<table border=\"1\" class=\"dataframe\">\n",
       "  <thead>\n",
       "    <tr style=\"text-align: right;\">\n",
       "      <th></th>\n",
       "      <th>yas</th>\n",
       "      <th>meslek</th>\n",
       "    </tr>\n",
       "  </thead>\n",
       "  <tbody>\n",
       "    <tr>\n",
       "      <th>Homer</th>\n",
       "      <td>40</td>\n",
       "      <td>A</td>\n",
       "    </tr>\n",
       "    <tr>\n",
       "      <th>Bart</th>\n",
       "      <td>30</td>\n",
       "      <td>B</td>\n",
       "    </tr>\n",
       "    <tr>\n",
       "      <th>Marge</th>\n",
       "      <td>9</td>\n",
       "      <td>C</td>\n",
       "    </tr>\n",
       "  </tbody>\n",
       "</table>\n",
       "</div>"
      ],
      "text/plain": [
       "      yas meslek\n",
       "Homer  40      A\n",
       "Bart   30      B\n",
       "Marge   9      C"
      ]
     },
     "execution_count": 136,
     "metadata": {},
     "output_type": "execute_result"
    }
   ],
   "source": [
    "cizgiDataFrame.loc[\"Simpson\"]"
   ]
  },
  {
   "cell_type": "code",
   "execution_count": 140,
   "id": "3ee80896-f01c-43b9-a992-b8793bbcacaa",
   "metadata": {},
   "outputs": [
    {
     "data": {
      "text/plain": [
       "yas       12\n",
       "meslek     E\n",
       "Name: Kenny, dtype: object"
      ]
     },
     "execution_count": 140,
     "metadata": {},
     "output_type": "execute_result"
    }
   ],
   "source": [
    "cizgiDataFrame.loc[\"South Park\"].loc[\"Kenny\"]"
   ]
  },
  {
   "cell_type": "code",
   "execution_count": 150,
   "id": "ca007857-3f49-4440-892b-2b99bcea153e",
   "metadata": {},
   "outputs": [
    {
     "data": {
      "text/html": [
       "<div>\n",
       "<style scoped>\n",
       "    .dataframe tbody tr th:only-of-type {\n",
       "        vertical-align: middle;\n",
       "    }\n",
       "\n",
       "    .dataframe tbody tr th {\n",
       "        vertical-align: top;\n",
       "    }\n",
       "\n",
       "    .dataframe thead th {\n",
       "        text-align: right;\n",
       "    }\n",
       "</style>\n",
       "<table border=\"1\" class=\"dataframe\">\n",
       "  <thead>\n",
       "    <tr style=\"text-align: right;\">\n",
       "      <th></th>\n",
       "      <th></th>\n",
       "      <th>yas</th>\n",
       "      <th>meslek</th>\n",
       "    </tr>\n",
       "  </thead>\n",
       "  <tbody>\n",
       "    <tr>\n",
       "      <th rowspan=\"3\" valign=\"top\">Simpson</th>\n",
       "      <th>Homer</th>\n",
       "      <td>40</td>\n",
       "      <td>A</td>\n",
       "    </tr>\n",
       "    <tr>\n",
       "      <th>Bart</th>\n",
       "      <td>30</td>\n",
       "      <td>B</td>\n",
       "    </tr>\n",
       "    <tr>\n",
       "      <th>Marge</th>\n",
       "      <td>9</td>\n",
       "      <td>C</td>\n",
       "    </tr>\n",
       "    <tr>\n",
       "      <th rowspan=\"3\" valign=\"top\">South Park</th>\n",
       "      <th>Cartman</th>\n",
       "      <td>32</td>\n",
       "      <td>D</td>\n",
       "    </tr>\n",
       "    <tr>\n",
       "      <th>Kenny</th>\n",
       "      <td>12</td>\n",
       "      <td>E</td>\n",
       "    </tr>\n",
       "    <tr>\n",
       "      <th>Kyle</th>\n",
       "      <td>876</td>\n",
       "      <td>F</td>\n",
       "    </tr>\n",
       "  </tbody>\n",
       "</table>\n",
       "</div>"
      ],
      "text/plain": [
       "                    yas meslek\n",
       "Simpson    Homer     40      A\n",
       "           Bart      30      B\n",
       "           Marge      9      C\n",
       "South Park Cartman   32      D\n",
       "           Kenny     12      E\n",
       "           Kyle     876      F"
      ]
     },
     "execution_count": 150,
     "metadata": {},
     "output_type": "execute_result"
    }
   ],
   "source": [
    "cizgiDataFrame"
   ]
  },
  {
   "cell_type": "code",
   "execution_count": 152,
   "id": "111f4d05-a201-4226-8fbd-ce2e22980711",
   "metadata": {},
   "outputs": [],
   "source": [
    "cizgiDataFrame.index.names = [\"çizgi film adı\",\"karakter\"]"
   ]
  },
  {
   "cell_type": "code",
   "execution_count": 154,
   "id": "ff9081bd-485b-458f-aac1-174ddae0022a",
   "metadata": {},
   "outputs": [
    {
     "data": {
      "text/html": [
       "<div>\n",
       "<style scoped>\n",
       "    .dataframe tbody tr th:only-of-type {\n",
       "        vertical-align: middle;\n",
       "    }\n",
       "\n",
       "    .dataframe tbody tr th {\n",
       "        vertical-align: top;\n",
       "    }\n",
       "\n",
       "    .dataframe thead th {\n",
       "        text-align: right;\n",
       "    }\n",
       "</style>\n",
       "<table border=\"1\" class=\"dataframe\">\n",
       "  <thead>\n",
       "    <tr style=\"text-align: right;\">\n",
       "      <th></th>\n",
       "      <th></th>\n",
       "      <th>yas</th>\n",
       "      <th>meslek</th>\n",
       "    </tr>\n",
       "    <tr>\n",
       "      <th>çizgi film adı</th>\n",
       "      <th>karakter</th>\n",
       "      <th></th>\n",
       "      <th></th>\n",
       "    </tr>\n",
       "  </thead>\n",
       "  <tbody>\n",
       "    <tr>\n",
       "      <th rowspan=\"3\" valign=\"top\">Simpson</th>\n",
       "      <th>Homer</th>\n",
       "      <td>40</td>\n",
       "      <td>A</td>\n",
       "    </tr>\n",
       "    <tr>\n",
       "      <th>Bart</th>\n",
       "      <td>30</td>\n",
       "      <td>B</td>\n",
       "    </tr>\n",
       "    <tr>\n",
       "      <th>Marge</th>\n",
       "      <td>9</td>\n",
       "      <td>C</td>\n",
       "    </tr>\n",
       "    <tr>\n",
       "      <th rowspan=\"3\" valign=\"top\">South Park</th>\n",
       "      <th>Cartman</th>\n",
       "      <td>32</td>\n",
       "      <td>D</td>\n",
       "    </tr>\n",
       "    <tr>\n",
       "      <th>Kenny</th>\n",
       "      <td>12</td>\n",
       "      <td>E</td>\n",
       "    </tr>\n",
       "    <tr>\n",
       "      <th>Kyle</th>\n",
       "      <td>876</td>\n",
       "      <td>F</td>\n",
       "    </tr>\n",
       "  </tbody>\n",
       "</table>\n",
       "</div>"
      ],
      "text/plain": [
       "                         yas meslek\n",
       "çizgi film adı karakter            \n",
       "Simpson        Homer      40      A\n",
       "               Bart       30      B\n",
       "               Marge       9      C\n",
       "South Park     Cartman    32      D\n",
       "               Kenny      12      E\n",
       "               Kyle      876      F"
      ]
     },
     "execution_count": 154,
     "metadata": {},
     "output_type": "execute_result"
    }
   ],
   "source": [
    "cizgiDataFrame"
   ]
  },
  {
   "cell_type": "code",
   "execution_count": null,
   "id": "1c3d6611-e2d0-42cf-bce2-d1e6a2b215d9",
   "metadata": {},
   "outputs": [],
   "source": []
  }
 ],
 "metadata": {
  "kernelspec": {
   "display_name": "Python 3 (ipykernel)",
   "language": "python",
   "name": "python3"
  },
  "language_info": {
   "codemirror_mode": {
    "name": "ipython",
    "version": 3
   },
   "file_extension": ".py",
   "mimetype": "text/x-python",
   "name": "python",
   "nbconvert_exporter": "python",
   "pygments_lexer": "ipython3",
   "version": "3.11.7"
  }
 },
 "nbformat": 4,
 "nbformat_minor": 5
}
